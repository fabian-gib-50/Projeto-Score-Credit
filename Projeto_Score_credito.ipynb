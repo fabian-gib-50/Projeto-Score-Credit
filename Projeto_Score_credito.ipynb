{
 "cells": [
  {
   "cell_type": "markdown",
   "id": "326b6b34-0dd8-407a-af7d-aa0072205754",
   "metadata": {
    "id": "326b6b34-0dd8-407a-af7d-aa0072205754"
   },
   "source": [
    "<center><img alt='Dbian Data Scientist' width=\"100%\" src=https://user-images.githubusercontent.com/79420053/193087606-c74d7cdc-f5a2-4900-ba2e-c06108d1b586.png></center>"
   ]
  },
  {
   "cell_type": "markdown",
   "id": "3350d90c-9d41-41d9-82d0-d4ca3b7f96c6",
   "metadata": {
    "id": "3350d90c-9d41-41d9-82d0-d4ca3b7f96c6"
   },
   "source": [
    "#### <strong><em>`Dbian` Technology and `Data Science` for Business<em><strong>\n",
    "    \n",
    "   - by [Dbian.io Data Scientist](https://www.linkedin.com/company/81834844/admin/)"
   ]
  },
  {
   "cell_type": "markdown",
   "id": "7462cbe5-a5e6-4761-943d-1f4427844170",
   "metadata": {
    "id": "7462cbe5-a5e6-4761-943d-1f4427844170",
    "tags": []
   },
   "source": [
    "### <center><strong> <em>PROJETO DE DATA SCIENTIST COM MACHINE LEARNING - IA<em> <strong></center>\n",
    "    \n",
    "- `PROJETO SOBRE SCORE DE CLIENTES \"INSTITUÍÇÕES FINANCEIRAS\"`\n",
    "    \n",
    "   - A pandemia foi um combustível para o crescimento das vendas online. No Brasil, porém, esse aumento foi ainda mais significativo. Afinal, segundo um levantamento da CupomValido, o país lidera o ranking de crescimento das vendas online, com 22,2% no ano de 2022. Além disso, estima-se um crescimento das compras online de 20,73% ao ano, entre 2022 e 2025.\n",
    "\n",
    "   - Nota: Estudo mostra que 21% dos consumidores globais planejam gastar menos tempo nas mídias sociais nos próximos seis meses\n",
    "\n",
    "   - De acordo com o estudo, o Brasil possui uma expectativa de crescimento quase duas vezes maior que a média mundial (11,35%), e acima até de países como o Japão (14,7%), o Estados Unidos (14,55%) e a França (11,68%).\n",
    "---\n",
    "\n",
    "- **Dados sobre comércio Eletrônico \"E-Commerce\"** \n",
    "   - Usarei como fonte de dados o dataset: Online Shoppers Purchasing Intention Dataset\n",
    "    \n",
    "\n",
    "   - O conjunto de dados consiste em valores de recursos pertencentes a mais de ( 12.000 ) sessões online. O conjunto de dados foi formado de modo que cada sessão pertença a um usuário diferente, compreendendo o período de ( 1 ) ano, para evitar que os dados sejam tendênciosos à uma campanha específica, dia especial, usuário, perfil ou período.\n",
    "\n",
    "   - Composição das variáveis: são 10 atributos numéricos e 8 categóricos. O atributo **Revenue** pode ser usado como o rótulo da classe, ou seja, variável **ALVO**\n",
    "    \n",
    "   - Obs.: As variáveis de análise do trafego, não estão específicadas se **`Pago ou Orgânico`**, acredito que sinalizam tráfego pago. Independentemente se pago ou orgânico, será interessante analisar a dinâmica dos dados através dás métricas e indicadores de desempenho do conjunto de dados em questão.\n",
    "  "
   ]
  },
  {
   "cell_type": "markdown",
   "id": "92869a6e-1b34-4eb3-83e1-d259a13ff003",
   "metadata": {
    "id": "92869a6e-1b34-4eb3-83e1-d259a13ff003"
   },
   "source": [
    "<center><img alt=\"Dbian Data Scientist\" width=\"100%\" src=\"./img/score.jpg\"></center>"
   ]
  },
  {
   "cell_type": "markdown",
   "id": "bbe7b497-b74f-44d8-a008-fd94231d3954",
   "metadata": {},
   "source": [
    "### Projeto com aplicação de <em>**Machine Learning**<em> \n",
    "   - Sub processo dentro da área de <em>**Inteligência Artificial**<em> - I.A\n",
    "\n",
    "   \n",
    "  - **`O que é Machine Learning`**?\n",
    "    - Machine Learning (do português, aprendizado de máquina) é uma metodologia para análise de dados baseada na automatização construtiva de modelos analíticos.\n",
    "    - Esse subcampo da Inteligência Artificial (IA) coloca em prática a ideia de que máquinas e sistemas podem aprender de forma parcial ou totalmente autônoma a partir de grandes volumes de dados.\n",
    "\n",
    "    - Podem por exemplo: fazer a leitura dás informações, identificar padrões, coletar dados de usuários e tomar decisões com base na sua própria experiência.\n",
    "    "
   ]
  },
  {
   "cell_type": "markdown",
   "id": "229a19c7-81a0-4244-bfd1-96aaa2f8c1dd",
   "metadata": {
    "id": "229a19c7-81a0-4244-bfd1-96aaa2f8c1dd",
    "tags": []
   },
   "source": [
    "### <center><strong> <em> <span style='background-color:lightBlue'>ESCOPO DO PROJETO<em> <strong></center><span style>\n",
    "---\n",
    "  - **ENTENDIMENTO DO PROBLEMA DE NEGÓCIO** \n",
    "---\n",
    "  - Compras Online: como potencializar às vendas e melhorar ainda mais a **Receita**. \n",
    "\n",
    "  - Farei análise exploratória e gerarei métricas com indicadores para cenarizar diversas possíbilidades e estratégias que poderão ser adotadas.\n",
    "  - Meu objetivo será avaliar quais atributos contribuem e ( influênciam ) nas intensões dos compradores à tomar decisões sobre comprar ou não comprar. Quais atributos mais contribuem para o impulsionamento das compras (pedidos). Estratégicamente como posso através dos dados ajudar os times de marketing a persuadir ainda mais os usuários à comprar ainda mais e atrair novos clientes? Como otimizar os recursos para gerar mais receitas? Vou buscar responstas com esse conjunto de dados utilizando Ciência de Dados."
   ]
  },
  {
   "cell_type": "markdown",
   "id": "f9ef3549-c6a9-4e98-a4da-6341206ce6ce",
   "metadata": {
    "id": "f9ef3549-c6a9-4e98-a4da-6341206ce6ce",
    "tags": []
   },
   "source": [
    "#### EMPRESA: <em>`UOU VIRTUAL SHOPPERS`<em>\n",
    "    \n",
    "  -  Nesse projeto aplicarei inúmeras técnicas, inclusive `Machine Learning` com ( IA ).\n",
    "   - <em>`Predições` com **Machine Learning**: Métricas e Análise Estatística, gerando `indicadores` e comparativos para melhor `cenarizar`.\n",
    "   - Adotarei modelos de **Classificação Linear** porque para esse projeto será mais assertivo.\n",
    "     \n",
    "   "
   ]
  },
  {
   "cell_type": "markdown",
   "id": "d230b18a-413e-48ff-9985-94d62e61cb00",
   "metadata": {
    "id": "d230b18a-413e-48ff-9985-94d62e61cb00"
   },
   "source": [
    " ---\n",
    " <strong>Linguagem de programação principal <em>`PYTHON` & `Livros` de apoio aos projetos e metodologias. <em><strong></center> \n",
    "  - Linguagem de programação nativa `PYTHON` \n",
    "  - Python: https://www.python.org/\n",
    "  - Anaconda: https://anaconda.org/\n",
    "  - Machine Learning: https://scikit-learn.org/stable/index.html\n",
    "  - HTML\n",
    "  - IDEs de desenvolvimento: `Anaconda`-`Jupyter-lab` e `VsCode`\n",
    "    - Data Scientist para Negócios\n",
    "    - Python Data Scientist Handbook\n",
    "    - Usarei formatação de fontes em HTML na IDE `Jupyter Lab`\n",
    "---"
   ]
  },
  {
   "cell_type": "markdown",
   "id": "bee19500-8671-4eed-97ee-a2a7142af164",
   "metadata": {
    "id": "bee19500-8671-4eed-97ee-a2a7142af164",
    "tags": []
   },
   "source": [
    "#### PIPELINE DO PLANO DE TRABALHO\n",
    " \n",
    "- 1. Preparação dos Dados\n",
    "- 2. 2.1. Processamento de dados missing\n",
    "- 2.2. Processamento de Outliers ( valores acima da curva )\n",
    "- 2.3. Clusterização dos Clientes\n",
    "  - Análises Dados Exploratória (EDA)\n",
    "- 3.1. Processamento das variáveis\n",
    "- 3.2. Análise Univariada\n",
    "- 3.3. Análise Bivariada e Multiviada\n",
    "- 3.4. Validação de Hipóteses com códido\n",
    "\n",
    "  - Processamento dos Dados\n",
    "- 4.1. Engineering, Eng. de Features, criação de Variáveis\n",
    "- 4.2. Separação dos dados Splitting\n",
    "- 4.3. Escalonamento de Features - padronização/normalização\n",
    "\n",
    "   - Machine Learning Modelos ( implementações )\n",
    "- 5.1 Modelagem do Dataset para ML\n",
    "- 5.2 Tecnica Smote para balanceamento dos dados\n",
    "\n",
    "   - Conclusão dos Trabalhos\n",
    "- 6.1 Impacto nos negóciso da empresa (faturamento)\n",
    "\n",
    "\n",
    "\n",
    "\n",
    "---\n",
    "* <strong> Aplicação de Machine Learning - IA<strong>\n",
    "  - Modelo de Regressão\n",
    "  - Quatro modelos\n",
    "  - Dispersão Previsto X Real\n",
    "  - Analise do trafego no site\n",
    "  - Tranformação de mínimo e máximo\n",
    "  - StandardScaler para padronizar dados\n",
    "  - Reduzindo Variaveis\n",
    "  - Passando para np.log1p para normalização dos dados numéricos\n",
    "  - Histogramas\n",
    "  - Dispersão\n",
    "  - Predições\n",
    "  - Dispersão Previsto X Real\n",
    "  - Relatório dos modelos e parâmetros que melhor perfomaram"
   ]
  },
  {
   "cell_type": "markdown",
   "id": "83363664-a86f-43fd-ad73-736b22e19ac7",
   "metadata": {
    "id": "83363664-a86f-43fd-ad73-736b22e19ac7"
   },
   "source": [
    "### Dicionário das Variáveis\n",
    "\n",
    "  - As análises e construção do modelo preditivo, terão como norte a variável `Revenue` \"Receitas\"\n",
    "     - Total das receitas por produtos e soma total dás receitas:"
   ]
  },
  {
   "cell_type": "markdown",
   "id": "6ebea9a6-ac3e-4026-b672-ead41a9d94ec",
   "metadata": {
    "id": "6ebea9a6-ac3e-4026-b672-ead41a9d94ec",
    "jp-MarkdownHeadingCollapsed": true,
    "tags": []
   },
   "source": [
    "### Descritivo das Variáveis <em>**Score Crédit**<em>\n",
    "\n",
    "  - Revenue: Receitas advindas do tráfego nas paginas **( True/Verdadeiro/Virou compra e False/Falso/Não virou compra )**;\n",
    "  - Administrativo: Administrativo referente aos processos de gestão do E-Commerce;\n",
    "  - Relacionados ao Produto: Número de clics referente aos produtos no site;\n",
    "  - Taxas de Rejeição: Número de vezes em que a pessoa acessou mas não houve evolução para compra;\n",
    "  - Taxa de saída: Duração da visita no site e saida sem avançar nas paginas ;\n",
    "  - Valores de Paginas: Taxas referente acessos às paginas e navegabilidade;\n",
    "  - Obs.: O valor do recurso \"Taxa de rejeição\" de uma página da web, refere-se à porcentagem de visitantes que entram no site a partir dessa página e saem (\"rejeição\") sem acionar outras solicitações ao servidor durante essa sessão. \n",
    "   - Os recursos \"Taxa de rejeição\", \"Taxa de saída\" e \"Valor da página\" representam as métricas medidas pelo **\"Google Analytics\"** para cada página no site de comércio eletrônico. \n",
    " \n",
    "---"
   ]
  },
  {
   "cell_type": "markdown",
   "id": "009a293b-f4a9-42ec-a037-e7a8f3548b03",
   "metadata": {
    "id": "009a293b-f4a9-42ec-a037-e7a8f3548b03",
    "tags": []
   },
   "source": [
    "### Bibliotecas `Python` Aplicadas nesse `projeto`"
   ]
  },
  {
   "cell_type": "code",
   "execution_count": 1,
   "id": "2504d5b1-c37d-4c6d-be2f-8b67215c0be8",
   "metadata": {
    "id": "2504d5b1-c37d-4c6d-be2f-8b67215c0be8",
    "outputId": "ef58db6e-0ccd-4741-ceba-e67f065de34b"
   },
   "outputs": [
    {
     "data": {
      "application/javascript": [
       "\n",
       "        if (window._pyforest_update_imports_cell) { window._pyforest_update_imports_cell('import matplotlib as mpl'); }\n",
       "    "
      ],
      "text/plain": [
       "<IPython.core.display.Javascript object>"
      ]
     },
     "metadata": {},
     "output_type": "display_data"
    },
    {
     "data": {
      "application/javascript": [
       "\n",
       "        if (window._pyforest_update_imports_cell) { window._pyforest_update_imports_cell('import matplotlib as mpl'); }\n",
       "    "
      ],
      "text/plain": [
       "<IPython.core.display.Javascript object>"
      ]
     },
     "metadata": {},
     "output_type": "display_data"
    },
    {
     "data": {
      "application/javascript": [
       "\n",
       "        if (window._pyforest_update_imports_cell) { window._pyforest_update_imports_cell('import matplotlib as mpl'); }\n",
       "    "
      ],
      "text/plain": [
       "<IPython.core.display.Javascript object>"
      ]
     },
     "metadata": {},
     "output_type": "display_data"
    },
    {
     "data": {
      "application/javascript": [
       "\n",
       "        if (window._pyforest_update_imports_cell) { window._pyforest_update_imports_cell('import matplotlib as mpl'); }\n",
       "    "
      ],
      "text/plain": [
       "<IPython.core.display.Javascript object>"
      ]
     },
     "metadata": {},
     "output_type": "display_data"
    },
    {
     "data": {
      "application/javascript": [
       "\n",
       "        if (window._pyforest_update_imports_cell) { window._pyforest_update_imports_cell('import matplotlib as mpl'); }\n",
       "    "
      ],
      "text/plain": [
       "<IPython.core.display.Javascript object>"
      ]
     },
     "metadata": {},
     "output_type": "display_data"
    },
    {
     "data": {
      "application/javascript": [
       "\n",
       "        if (window._pyforest_update_imports_cell) { window._pyforest_update_imports_cell('import matplotlib as mpl\\nimport pandas as pd'); }\n",
       "    "
      ],
      "text/plain": [
       "<IPython.core.display.Javascript object>"
      ]
     },
     "metadata": {},
     "output_type": "display_data"
    },
    {
     "data": {
      "application/javascript": [
       "\n",
       "        if (window._pyforest_update_imports_cell) { window._pyforest_update_imports_cell('import matplotlib as mpl\\nimport pandas as pd'); }\n",
       "    "
      ],
      "text/plain": [
       "<IPython.core.display.Javascript object>"
      ]
     },
     "metadata": {},
     "output_type": "display_data"
    },
    {
     "data": {
      "application/javascript": [
       "\n",
       "        if (window._pyforest_update_imports_cell) { window._pyforest_update_imports_cell('import matplotlib as mpl\\nimport pandas as pd'); }\n",
       "    "
      ],
      "text/plain": [
       "<IPython.core.display.Javascript object>"
      ]
     },
     "metadata": {},
     "output_type": "display_data"
    },
    {
     "data": {
      "application/javascript": [
       "\n",
       "        if (window._pyforest_update_imports_cell) { window._pyforest_update_imports_cell('import matplotlib as mpl\\nimport pandas as pd'); }\n",
       "    "
      ],
      "text/plain": [
       "<IPython.core.display.Javascript object>"
      ]
     },
     "metadata": {},
     "output_type": "display_data"
    },
    {
     "data": {
      "application/javascript": [
       "\n",
       "        if (window._pyforest_update_imports_cell) { window._pyforest_update_imports_cell('import matplotlib as mpl\\nimport pandas as pd\\nimport sys'); }\n",
       "    "
      ],
      "text/plain": [
       "<IPython.core.display.Javascript object>"
      ]
     },
     "metadata": {},
     "output_type": "display_data"
    }
   ],
   "source": [
    "# Importação das Bibliotecas comuns\n",
    "\n",
    "\"\"\"Claudio Fabian Stychnicki\n",
    "   Data Scientist\n",
    "\"\"\"\n",
    "\n",
    "import pyforest \n",
    "import time\n",
    "import seaborn as sns\n",
    "import numpy as np\n",
    "import warnings\n",
    "import matplotlib.pyplot as plt\n",
    "%matplotlib inline\n",
    "\n",
    "# Bibliotecas de Marchine Learning \n",
    "\n",
    "from imblearn import under_sampling, over_sampling\n",
    "from sklearn.model_selection import cross_val_score\n",
    "from sklearn.model_selection import train_test_split \n",
    "from sklearn.preprocessing import StandardScaler \n",
    "from sklearn.preprocessing import MinMaxScaler \n",
    "from sklearn.linear_model import LinearRegression\n",
    "from sklearn.tree import DecisionTreeClassifier\n",
    "from sklearn.metrics import r2_score\n",
    "from imblearn.over_sampling import SMOTE\n",
    "from sklearn.preprocessing import StandardScaler\n",
    "from sklearn.preprocessing import LabelEncoder\n",
    "from sklearn.ensemble import RandomForestClassifier \n",
    "from sklearn.model_selection import GridSearchCV \n",
    "\n",
    "\n",
    "# Comando para consultar lista dos parâmetros \"rcParams\". Fontes e familias das fontes para gráficos e etc...plt.rcParams\n",
    "\n",
    "mpl.rcParams[ 'axes.spines.left' ]   = ( False )\n",
    "mpl.rcParams[ 'axes.spines.right' ]  = ( False )\n",
    "mpl.rcParams[ 'axes.spines.top' ]    = ( False )\n",
    "mpl.rcParams[ 'axes.spines.bottom' ] = ( False )\n",
    "mpl.rcParams[ 'axes.grid' ]          = ( False )\n",
    "\n",
    "#Comando para exibir todas colunas do arquivo\n",
    "\n",
    "pd.set_option('display.max_columns', None)\n",
    "pd.set_option('display.max_rows', None)\n",
    "\n",
    "# Formatando com pd.set_option para exploração dos dados\n",
    "\n",
    "pd.set_option( 'display.float_format','{:.3f}'.format ) \n",
    "\n",
    "# plt.style.use( 'classic' )\n",
    "mpl.rc('font', family = 'Verdana' )\n",
    "\n",
    "# Função ignore ara ignorar os avisos de atualizações de bibiliotecas e avisos diversos\n",
    "\n",
    "if not sys.warnoptions:\n",
    "    import warnings\n",
    "    warnings.simplefilter('ignore')\n",
    "    warnings.simplefilter(action='ignore', category=FutureWarning)\n"
   ]
  },
  {
   "cell_type": "markdown",
   "id": "d78cf975-6437-48a4-a97b-9e19d6d41444",
   "metadata": {
    "id": "d78cf975-6437-48a4-a97b-9e19d6d41444"
   },
   "source": [
    "---\n",
    "## Importando a base de dados da <em>`CEBRASA SCORE CRÉDITO`<em>\n",
    "\n"
   ]
  },
  {
   "cell_type": "code",
   "execution_count": 2,
   "id": "aae0bd0f-e1ac-4ae2-aef6-6eafa9cd2b3a",
   "metadata": {
    "id": "aae0bd0f-e1ac-4ae2-aef6-6eafa9cd2b3a",
    "outputId": "fad4861a-e862-4588-f720-f05399a7f22c"
   },
   "outputs": [
    {
     "data": {
      "application/javascript": [
       "\n",
       "        if (window._pyforest_update_imports_cell) { window._pyforest_update_imports_cell('import matplotlib as mpl\\nimport pandas as pd\\nimport sys'); }\n",
       "    "
      ],
      "text/plain": [
       "<IPython.core.display.Javascript object>"
      ]
     },
     "metadata": {},
     "output_type": "display_data"
    },
    {
     "name": "stdout",
     "output_type": "stream",
     "text": [
      "Dimensões do Dataset:\n",
      "\n",
      "Base de Dados importada com sucesso!\n",
      "\n",
      "Quantidade de Variáveis ( colunas ):\t 17\n",
      "Quantidade de Linhas ( Clientes ): \t 10476\n",
      "\n",
      "Leitura dás cinco primeiras linhas do conjunto de dados\n",
      "\n"
     ]
    },
    {
     "data": {
      "text/html": [
       "<div>\n",
       "<style scoped>\n",
       "    .dataframe tbody tr th:only-of-type {\n",
       "        vertical-align: middle;\n",
       "    }\n",
       "\n",
       "    .dataframe tbody tr th {\n",
       "        vertical-align: top;\n",
       "    }\n",
       "\n",
       "    .dataframe thead th {\n",
       "        text-align: right;\n",
       "    }\n",
       "</style>\n",
       "<table border=\"1\" class=\"dataframe\">\n",
       "  <thead>\n",
       "    <tr style=\"text-align: right;\">\n",
       "      <th></th>\n",
       "      <th>CODIGO_CLIENTE</th>\n",
       "      <th>UF</th>\n",
       "      <th>IDADE</th>\n",
       "      <th>ESCOLARIDADE</th>\n",
       "      <th>ESTADO_CIVIL</th>\n",
       "      <th>QT_FILHOS</th>\n",
       "      <th>CASA_PROPRIA</th>\n",
       "      <th>QT_IMOVEIS</th>\n",
       "      <th>VL_IMOVEIS</th>\n",
       "      <th>OUTRA_RENDA</th>\n",
       "      <th>OUTRA_RENDA_VALOR</th>\n",
       "      <th>TEMPO_ULTIMO_EMPREGO_MESES</th>\n",
       "      <th>TRABALHANDO_ATUALMENTE</th>\n",
       "      <th>ULTIMO_SALARIO</th>\n",
       "      <th>QT_CARROS</th>\n",
       "      <th>VALOR_TABELA_CARROS</th>\n",
       "      <th>SCORE</th>\n",
       "    </tr>\n",
       "  </thead>\n",
       "  <tbody>\n",
       "    <tr>\n",
       "      <th>0</th>\n",
       "      <td>1</td>\n",
       "      <td>SP</td>\n",
       "      <td>19</td>\n",
       "      <td>Superior Cursando</td>\n",
       "      <td>Solteiro</td>\n",
       "      <td>0</td>\n",
       "      <td>Não</td>\n",
       "      <td>0</td>\n",
       "      <td>0</td>\n",
       "      <td>Não</td>\n",
       "      <td>0</td>\n",
       "      <td>8</td>\n",
       "      <td>Sim</td>\n",
       "      <td>1800</td>\n",
       "      <td>0</td>\n",
       "      <td>0</td>\n",
       "      <td>12.000</td>\n",
       "    </tr>\n",
       "    <tr>\n",
       "      <th>1</th>\n",
       "      <td>2</td>\n",
       "      <td>MG</td>\n",
       "      <td>23</td>\n",
       "      <td>Superior Completo</td>\n",
       "      <td>Solteiro</td>\n",
       "      <td>1</td>\n",
       "      <td>Não</td>\n",
       "      <td>0</td>\n",
       "      <td>0</td>\n",
       "      <td>Não</td>\n",
       "      <td>0</td>\n",
       "      <td>9</td>\n",
       "      <td>Não</td>\n",
       "      <td>4800</td>\n",
       "      <td>1</td>\n",
       "      <td>50000</td>\n",
       "      <td>18.000</td>\n",
       "    </tr>\n",
       "    <tr>\n",
       "      <th>2</th>\n",
       "      <td>3</td>\n",
       "      <td>SC</td>\n",
       "      <td>25</td>\n",
       "      <td>Segundo Grau Completo</td>\n",
       "      <td>Casado</td>\n",
       "      <td>0</td>\n",
       "      <td>Sim</td>\n",
       "      <td>1</td>\n",
       "      <td>220000</td>\n",
       "      <td>Não</td>\n",
       "      <td>0</td>\n",
       "      <td>18</td>\n",
       "      <td>Sim</td>\n",
       "      <td>2200</td>\n",
       "      <td>2</td>\n",
       "      <td>30000</td>\n",
       "      <td>23.000</td>\n",
       "    </tr>\n",
       "    <tr>\n",
       "      <th>3</th>\n",
       "      <td>4</td>\n",
       "      <td>PR</td>\n",
       "      <td>27</td>\n",
       "      <td>Superior Cursando</td>\n",
       "      <td>Casado</td>\n",
       "      <td>1</td>\n",
       "      <td>Sim</td>\n",
       "      <td>0</td>\n",
       "      <td>0</td>\n",
       "      <td>Não</td>\n",
       "      <td>0</td>\n",
       "      <td>22</td>\n",
       "      <td>Não</td>\n",
       "      <td>3900</td>\n",
       "      <td>0</td>\n",
       "      <td>0</td>\n",
       "      <td>28.667</td>\n",
       "    </tr>\n",
       "    <tr>\n",
       "      <th>4</th>\n",
       "      <td>5</td>\n",
       "      <td>RJ</td>\n",
       "      <td>28</td>\n",
       "      <td>Superior Completo</td>\n",
       "      <td>Divorciado</td>\n",
       "      <td>2</td>\n",
       "      <td>Não</td>\n",
       "      <td>1</td>\n",
       "      <td>370000</td>\n",
       "      <td>Não</td>\n",
       "      <td>0</td>\n",
       "      <td>30</td>\n",
       "      <td>Sim</td>\n",
       "      <td>NaN</td>\n",
       "      <td>1</td>\n",
       "      <td>35000</td>\n",
       "      <td>34.167</td>\n",
       "    </tr>\n",
       "  </tbody>\n",
       "</table>\n",
       "</div>"
      ],
      "text/plain": [
       "   CODIGO_CLIENTE  UF  IDADE           ESCOLARIDADE ESTADO_CIVIL  QT_FILHOS  \\\n",
       "0               1  SP     19      Superior Cursando     Solteiro          0   \n",
       "1               2  MG     23      Superior Completo     Solteiro          1   \n",
       "2               3  SC     25  Segundo Grau Completo       Casado          0   \n",
       "3               4  PR     27      Superior Cursando       Casado          1   \n",
       "4               5  RJ     28      Superior Completo   Divorciado          2   \n",
       "\n",
       "  CASA_PROPRIA  QT_IMOVEIS  VL_IMOVEIS OUTRA_RENDA  OUTRA_RENDA_VALOR  \\\n",
       "0          Não           0           0         Não                  0   \n",
       "1          Não           0           0         Não                  0   \n",
       "2          Sim           1      220000         Não                  0   \n",
       "3          Sim           0           0         Não                  0   \n",
       "4          Não           1      370000         Não                  0   \n",
       "\n",
       "   TEMPO_ULTIMO_EMPREGO_MESES TRABALHANDO_ATUALMENTE ULTIMO_SALARIO  \\\n",
       "0                           8                    Sim           1800   \n",
       "1                           9                    Não           4800   \n",
       "2                          18                    Sim           2200   \n",
       "3                          22                    Não           3900   \n",
       "4                          30                    Sim            NaN   \n",
       "\n",
       "   QT_CARROS  VALOR_TABELA_CARROS  SCORE  \n",
       "0          0                    0 12.000  \n",
       "1          1                50000 18.000  \n",
       "2          2                30000 23.000  \n",
       "3          0                    0 28.667  \n",
       "4          1                35000 34.167  "
      ]
     },
     "execution_count": 2,
     "metadata": {},
     "output_type": "execute_result"
    }
   ],
   "source": [
    "# Iportando e lendo a base de dados\n",
    "\n",
    "# file_path = ( 'https://www.dropbox.com/s/ch69238brbvrf56/dados_score_credito.xlsx?raw=1' )\n",
    "file_path = ( './img/dados_score_credito.xlsx' )         \n",
    "df_raw = pd.read_excel( file_path ).copy()\n",
    "\n",
    "\n",
    "# Codigo para checar as dimensões do conjunto de dados e imprimir cinco linhas da base\n",
    "\n",
    "print( f'Dimensões do Dataset:\\n' )\n",
    "print( f'Base de Dados importada com sucesso!\\n' )\n",
    "print( 'Quantidade de Variáveis ( colunas ):\\t {}'.format( df_raw.shape[1] ) )\n",
    "print( 'Quantidade de Linhas ( Clientes ): \\t {}\\n'.format( df_raw.shape[0] ) )\n",
    "print( f'Leitura dás cinco primeiras linhas do conjunto de dados\\n' )\n",
    "\n",
    "df_raw.head( 5 )"
   ]
  },
  {
   "cell_type": "code",
   "execution_count": 3,
   "id": "51a33ac7-6c80-4681-a89b-dd9966e5a065",
   "metadata": {},
   "outputs": [
    {
     "data": {
      "text/html": [
       "<div>\n",
       "<style scoped>\n",
       "    .dataframe tbody tr th:only-of-type {\n",
       "        vertical-align: middle;\n",
       "    }\n",
       "\n",
       "    .dataframe tbody tr th {\n",
       "        vertical-align: top;\n",
       "    }\n",
       "\n",
       "    .dataframe thead th {\n",
       "        text-align: right;\n",
       "    }\n",
       "</style>\n",
       "<table border=\"1\" class=\"dataframe\">\n",
       "  <thead>\n",
       "    <tr style=\"text-align: right;\">\n",
       "      <th></th>\n",
       "      <th>CODIGO_CLIENTE</th>\n",
       "      <th>UF</th>\n",
       "      <th>IDADE</th>\n",
       "      <th>ESCOLARIDADE</th>\n",
       "      <th>ESTADO_CIVIL</th>\n",
       "      <th>QT_FILHOS</th>\n",
       "      <th>CASA_PROPRIA</th>\n",
       "      <th>QT_IMOVEIS</th>\n",
       "      <th>VL_IMOVEIS</th>\n",
       "      <th>OUTRA_RENDA</th>\n",
       "      <th>OUTRA_RENDA_VALOR</th>\n",
       "      <th>TEMPO_ULTIMO_EMPREGO_MESES</th>\n",
       "      <th>TRABALHANDO_ATUALMENTE</th>\n",
       "      <th>ULTIMO_SALARIO</th>\n",
       "      <th>QT_CARROS</th>\n",
       "      <th>VALOR_TABELA_CARROS</th>\n",
       "      <th>SCORE</th>\n",
       "    </tr>\n",
       "  </thead>\n",
       "  <tbody>\n",
       "    <tr>\n",
       "      <th>10474</th>\n",
       "      <td>10475</td>\n",
       "      <td>RJ</td>\n",
       "      <td>48</td>\n",
       "      <td>Superior Completo</td>\n",
       "      <td>Divorciado</td>\n",
       "      <td>2</td>\n",
       "      <td>Não</td>\n",
       "      <td>1</td>\n",
       "      <td>370000</td>\n",
       "      <td>Não</td>\n",
       "      <td>0</td>\n",
       "      <td>30</td>\n",
       "      <td>Sim</td>\n",
       "      <td>NaN</td>\n",
       "      <td>1</td>\n",
       "      <td>35000</td>\n",
       "      <td>34.167</td>\n",
       "    </tr>\n",
       "    <tr>\n",
       "      <th>10475</th>\n",
       "      <td>10476</td>\n",
       "      <td>PR</td>\n",
       "      <td>51</td>\n",
       "      <td>Segundo Grau Completo</td>\n",
       "      <td>Divorciado</td>\n",
       "      <td>0</td>\n",
       "      <td>Não</td>\n",
       "      <td>0</td>\n",
       "      <td>0</td>\n",
       "      <td>Não</td>\n",
       "      <td>0</td>\n",
       "      <td>14</td>\n",
       "      <td>Sim</td>\n",
       "      <td>3100</td>\n",
       "      <td>2</td>\n",
       "      <td>40000</td>\n",
       "      <td>39.667</td>\n",
       "    </tr>\n",
       "  </tbody>\n",
       "</table>\n",
       "</div>"
      ],
      "text/plain": [
       "       CODIGO_CLIENTE  UF  IDADE           ESCOLARIDADE ESTADO_CIVIL  \\\n",
       "10474           10475  RJ     48      Superior Completo   Divorciado   \n",
       "10475           10476  PR     51  Segundo Grau Completo   Divorciado   \n",
       "\n",
       "       QT_FILHOS CASA_PROPRIA  QT_IMOVEIS  VL_IMOVEIS OUTRA_RENDA  \\\n",
       "10474          2          Não           1      370000         Não   \n",
       "10475          0          Não           0           0         Não   \n",
       "\n",
       "       OUTRA_RENDA_VALOR  TEMPO_ULTIMO_EMPREGO_MESES TRABALHANDO_ATUALMENTE  \\\n",
       "10474                  0                          30                    Sim   \n",
       "10475                  0                          14                    Sim   \n",
       "\n",
       "      ULTIMO_SALARIO  QT_CARROS  VALOR_TABELA_CARROS  SCORE  \n",
       "10474            NaN          1                35000 34.167  \n",
       "10475           3100          2                40000 39.667  "
      ]
     },
     "execution_count": 3,
     "metadata": {},
     "output_type": "execute_result"
    }
   ],
   "source": [
    "# Chegando o final do dataset para ter certeza que não há sub-totais, totais e etc...\n",
    "\n",
    "df_raw.tail( 2 )"
   ]
  },
  {
   "cell_type": "markdown",
   "id": "5f8559df-168d-4086-90c9-8273b6bdee56",
   "metadata": {
    "id": "5f8559df-168d-4086-90c9-8273b6bdee56"
   },
   "source": [
    "## Análise **exploratória** do Conjunto de Dados ( EDA )\n",
    "  - Com base na leitura dás últimas 2 linhas, não tenho intercorrência nos dados."
   ]
  },
  {
   "cell_type": "markdown",
   "id": "e2d47182-fec1-4c53-bc09-b1980013d5ae",
   "metadata": {
    "id": "6f9dfd15-cf39-43a6-8121-7b8f5ca04166",
    "tags": []
   },
   "source": [
    "### Criação e Aplicação de Funções:\n",
    "\n",
    " - Função para descrever melhor as variáveis **\"sumarydata\"** \n",
    " \n",
    "   - Checagem de dados `ausentes`, dados nulos ( nan ), representam dados missing e dados duplicados.\n",
    "  \n",
    " - Função para converter String em Float\n",
    " \n",
    "   - Check das variáveis dtypes (tipos) distribuição dos valores e nome das variáveis\n",
    "   \n",
    "---\n",
    "## Pontos que merecem atenção nessa fase inicial de \"awareness\" `conhecimento`:\n",
    "\n",
    "* A coluna `costumerID` não agrega nenhuma informação, trata-se de um identificador único para cada cliente. \"Identificação na base da operadora\".\n",
    "* A variável alvo está na coluna `Churn`, indicando a situação de churn \"rotatividade de clientes\" ou seja, \"Cancelamento do Serviço\".\n",
    "* A coluna `TotalCharges` deveria ser um `float`, mas está como `string`.\n",
    "    * Como veremos mais à frente, apesar de não termos detectado nenhum valor ausente, existem algumas strings que representam ( sim ) para valores ausentes.\n",
    "* Várias features precisam ser codificadas para valores numéricos, com os métodos de padronização e normalização das variáveis para os modelo de Machine Learning\n",
    "    * Há várias features binárias, incluindo nossa variável alvo, com múltiplos valores e cada um representando uma categoria.\n",
    "    * A variável coluna `TotalCharges` será convertida para \"float64\""
   ]
  },
  {
   "cell_type": "code",
   "execution_count": 4,
   "id": "e93eaa2f-4acc-4f43-b218-b4b4678b731b",
   "metadata": {
    "id": "ee28b9d7-f4d7-413f-a5b7-5a188dfd5b8a",
    "outputId": "2b67e2dc-5643-4c35-db9d-84e610586d76"
   },
   "outputs": [
    {
     "name": "stdout",
     "output_type": "stream",
     "text": [
      "             \n",
      "Python, imprima descritivo do dicionário das variáveis com sumarização detalhada:\n",
      "              \n"
     ]
    },
    {
     "data": {
      "application/javascript": [
       "\n",
       "        if (window._pyforest_update_imports_cell) { window._pyforest_update_imports_cell('import matplotlib as mpl\\nimport pandas as pd\\nimport sys'); }\n",
       "    "
      ],
      "text/plain": [
       "<IPython.core.display.Javascript object>"
      ]
     },
     "metadata": {},
     "output_type": "display_data"
    },
    {
     "data": {
      "text/html": [
       "<div>\n",
       "<style scoped>\n",
       "    .dataframe tbody tr th:only-of-type {\n",
       "        vertical-align: middle;\n",
       "    }\n",
       "\n",
       "    .dataframe tbody tr th {\n",
       "        vertical-align: top;\n",
       "    }\n",
       "\n",
       "    .dataframe thead th {\n",
       "        text-align: right;\n",
       "    }\n",
       "</style>\n",
       "<table border=\"1\" class=\"dataframe\">\n",
       "  <thead>\n",
       "    <tr style=\"text-align: right;\">\n",
       "      <th></th>\n",
       "      <th>Nome Variáveis</th>\n",
       "      <th>dtypes</th>\n",
       "      <th>Atributo Primário</th>\n",
       "      <th>Atributo Secundário</th>\n",
       "      <th>Valores Únicos</th>\n",
       "      <th>Dados Duplicados</th>\n",
       "      <th>Dados Ausentes</th>\n",
       "    </tr>\n",
       "  </thead>\n",
       "  <tbody>\n",
       "    <tr>\n",
       "      <th>0</th>\n",
       "      <td>CODIGO_CLIENTE</td>\n",
       "      <td>int64</td>\n",
       "      <td>1</td>\n",
       "      <td>2</td>\n",
       "      <td>10476</td>\n",
       "      <td>0</td>\n",
       "      <td>0</td>\n",
       "    </tr>\n",
       "    <tr>\n",
       "      <th>1</th>\n",
       "      <td>UF</td>\n",
       "      <td>object</td>\n",
       "      <td>SP</td>\n",
       "      <td>MG</td>\n",
       "      <td>5</td>\n",
       "      <td>0</td>\n",
       "      <td>0</td>\n",
       "    </tr>\n",
       "    <tr>\n",
       "      <th>2</th>\n",
       "      <td>IDADE</td>\n",
       "      <td>int64</td>\n",
       "      <td>19</td>\n",
       "      <td>23</td>\n",
       "      <td>28</td>\n",
       "      <td>0</td>\n",
       "      <td>0</td>\n",
       "    </tr>\n",
       "    <tr>\n",
       "      <th>3</th>\n",
       "      <td>ESCOLARIDADE</td>\n",
       "      <td>object</td>\n",
       "      <td>Superior Cursando</td>\n",
       "      <td>Superior Completo</td>\n",
       "      <td>3</td>\n",
       "      <td>0</td>\n",
       "      <td>0</td>\n",
       "    </tr>\n",
       "    <tr>\n",
       "      <th>4</th>\n",
       "      <td>ESTADO_CIVIL</td>\n",
       "      <td>object</td>\n",
       "      <td>Solteiro</td>\n",
       "      <td>Solteiro</td>\n",
       "      <td>4</td>\n",
       "      <td>0</td>\n",
       "      <td>0</td>\n",
       "    </tr>\n",
       "    <tr>\n",
       "      <th>5</th>\n",
       "      <td>QT_FILHOS</td>\n",
       "      <td>int64</td>\n",
       "      <td>0</td>\n",
       "      <td>1</td>\n",
       "      <td>6</td>\n",
       "      <td>0</td>\n",
       "      <td>0</td>\n",
       "    </tr>\n",
       "    <tr>\n",
       "      <th>6</th>\n",
       "      <td>CASA_PROPRIA</td>\n",
       "      <td>object</td>\n",
       "      <td>Não</td>\n",
       "      <td>Não</td>\n",
       "      <td>2</td>\n",
       "      <td>0</td>\n",
       "      <td>0</td>\n",
       "    </tr>\n",
       "    <tr>\n",
       "      <th>7</th>\n",
       "      <td>QT_IMOVEIS</td>\n",
       "      <td>int64</td>\n",
       "      <td>0</td>\n",
       "      <td>0</td>\n",
       "      <td>4</td>\n",
       "      <td>0</td>\n",
       "      <td>0</td>\n",
       "    </tr>\n",
       "    <tr>\n",
       "      <th>8</th>\n",
       "      <td>VL_IMOVEIS</td>\n",
       "      <td>int64</td>\n",
       "      <td>0</td>\n",
       "      <td>0</td>\n",
       "      <td>10</td>\n",
       "      <td>0</td>\n",
       "      <td>0</td>\n",
       "    </tr>\n",
       "    <tr>\n",
       "      <th>9</th>\n",
       "      <td>OUTRA_RENDA</td>\n",
       "      <td>object</td>\n",
       "      <td>Não</td>\n",
       "      <td>Não</td>\n",
       "      <td>2</td>\n",
       "      <td>0</td>\n",
       "      <td>0</td>\n",
       "    </tr>\n",
       "    <tr>\n",
       "      <th>10</th>\n",
       "      <td>OUTRA_RENDA_VALOR</td>\n",
       "      <td>int64</td>\n",
       "      <td>0</td>\n",
       "      <td>0</td>\n",
       "      <td>5</td>\n",
       "      <td>0</td>\n",
       "      <td>0</td>\n",
       "    </tr>\n",
       "    <tr>\n",
       "      <th>11</th>\n",
       "      <td>TEMPO_ULTIMO_EMPREGO_MESES</td>\n",
       "      <td>int64</td>\n",
       "      <td>8</td>\n",
       "      <td>9</td>\n",
       "      <td>17</td>\n",
       "      <td>0</td>\n",
       "      <td>0</td>\n",
       "    </tr>\n",
       "    <tr>\n",
       "      <th>12</th>\n",
       "      <td>TRABALHANDO_ATUALMENTE</td>\n",
       "      <td>object</td>\n",
       "      <td>Sim</td>\n",
       "      <td>Não</td>\n",
       "      <td>2</td>\n",
       "      <td>0</td>\n",
       "      <td>0</td>\n",
       "    </tr>\n",
       "    <tr>\n",
       "      <th>13</th>\n",
       "      <td>ULTIMO_SALARIO</td>\n",
       "      <td>object</td>\n",
       "      <td>1800</td>\n",
       "      <td>4800</td>\n",
       "      <td>18</td>\n",
       "      <td>0</td>\n",
       "      <td>2</td>\n",
       "    </tr>\n",
       "    <tr>\n",
       "      <th>14</th>\n",
       "      <td>QT_CARROS</td>\n",
       "      <td>int64</td>\n",
       "      <td>0</td>\n",
       "      <td>1</td>\n",
       "      <td>3</td>\n",
       "      <td>0</td>\n",
       "      <td>0</td>\n",
       "    </tr>\n",
       "    <tr>\n",
       "      <th>15</th>\n",
       "      <td>VALOR_TABELA_CARROS</td>\n",
       "      <td>int64</td>\n",
       "      <td>0</td>\n",
       "      <td>50000</td>\n",
       "      <td>11</td>\n",
       "      <td>0</td>\n",
       "      <td>0</td>\n",
       "    </tr>\n",
       "    <tr>\n",
       "      <th>16</th>\n",
       "      <td>SCORE</td>\n",
       "      <td>float64</td>\n",
       "      <td>12.000</td>\n",
       "      <td>18.000</td>\n",
       "      <td>17</td>\n",
       "      <td>0</td>\n",
       "      <td>0</td>\n",
       "    </tr>\n",
       "  </tbody>\n",
       "</table>\n",
       "</div>"
      ],
      "text/plain": [
       "                Nome Variáveis   dtypes  Atributo Primário  \\\n",
       "0               CODIGO_CLIENTE    int64                  1   \n",
       "1                           UF   object                 SP   \n",
       "2                        IDADE    int64                 19   \n",
       "3                 ESCOLARIDADE   object  Superior Cursando   \n",
       "4                 ESTADO_CIVIL   object           Solteiro   \n",
       "5                    QT_FILHOS    int64                  0   \n",
       "6                 CASA_PROPRIA   object                Não   \n",
       "7                   QT_IMOVEIS    int64                  0   \n",
       "8                   VL_IMOVEIS    int64                  0   \n",
       "9                  OUTRA_RENDA   object                Não   \n",
       "10           OUTRA_RENDA_VALOR    int64                  0   \n",
       "11  TEMPO_ULTIMO_EMPREGO_MESES    int64                  8   \n",
       "12      TRABALHANDO_ATUALMENTE   object                Sim   \n",
       "13              ULTIMO_SALARIO   object               1800   \n",
       "14                   QT_CARROS    int64                  0   \n",
       "15         VALOR_TABELA_CARROS    int64                  0   \n",
       "16                       SCORE  float64             12.000   \n",
       "\n",
       "   Atributo Secundário  Valores Únicos  Dados Duplicados  Dados Ausentes  \n",
       "0                    2           10476                 0               0  \n",
       "1                   MG               5                 0               0  \n",
       "2                   23              28                 0               0  \n",
       "3    Superior Completo               3                 0               0  \n",
       "4             Solteiro               4                 0               0  \n",
       "5                    1               6                 0               0  \n",
       "6                  Não               2                 0               0  \n",
       "7                    0               4                 0               0  \n",
       "8                    0              10                 0               0  \n",
       "9                  Não               2                 0               0  \n",
       "10                   0               5                 0               0  \n",
       "11                   9              17                 0               0  \n",
       "12                 Não               2                 0               0  \n",
       "13                4800              18                 0               2  \n",
       "14                   1               3                 0               0  \n",
       "15               50000              11                 0               0  \n",
       "16              18.000              17                 0               0  "
      ]
     },
     "execution_count": 4,
     "metadata": {},
     "output_type": "execute_result"
    }
   ],
   "source": [
    "# Função criada para otimizar leitura das entredas, chegar as variáveis categóricas, numéricas e os tipos das variáveis\n",
    "\n",
    "print( '\\nPython, imprima descritivo do dicionário das variáveis com sumarização detalhada:\\n'.center(110) )\n",
    "\n",
    "def summarycolumns ( df_raw ): \n",
    "    \"\"\"\n",
    "       fabian@Ds\n",
    "                \"\"\"\n",
    "    summary = pd.DataFrame( df_raw.dtypes, columns=[ 'dtypes' ] )\n",
    "    summary = summary.reset_index()\n",
    "    summary[ 'Nome Variáveis' ] = summary['index']\n",
    "    summary = summary[[ 'Nome Variáveis', 'dtypes' ]]\n",
    "    summary[ 'Atributo Primário' ]  = df_raw.loc[0].values\n",
    "    summary[ 'Atributo Secundário' ] = df_raw.loc[1].values\n",
    "    summary[ 'Valores Únicos' ] = df_raw.nunique().values\n",
    "    summary[ 'Dados Duplicados' ] = df_raw.duplicated().sum()\n",
    "    summary[ 'Dados Ausentes' ] = df_raw.isnull().sum().values \n",
    "    \n",
    "    return summary\n",
    "\n",
    "check = summarycolumns ( df_raw )\n",
    "\n",
    "check.head( 20 )"
   ]
  },
  {
   "cell_type": "code",
   "execution_count": 5,
   "id": "f9abfc8f-10c2-4d23-85fe-fdbbce6746e5",
   "metadata": {},
   "outputs": [
    {
     "data": {
      "text/html": [
       "<div>\n",
       "<style scoped>\n",
       "    .dataframe tbody tr th:only-of-type {\n",
       "        vertical-align: middle;\n",
       "    }\n",
       "\n",
       "    .dataframe tbody tr th {\n",
       "        vertical-align: top;\n",
       "    }\n",
       "\n",
       "    .dataframe thead th {\n",
       "        text-align: right;\n",
       "    }\n",
       "</style>\n",
       "<table border=\"1\" class=\"dataframe\">\n",
       "  <thead>\n",
       "    <tr style=\"text-align: right;\">\n",
       "      <th></th>\n",
       "      <th>CODIGO_CLIENTE</th>\n",
       "      <th>IDADE</th>\n",
       "      <th>QT_FILHOS</th>\n",
       "      <th>QT_IMOVEIS</th>\n",
       "      <th>VL_IMOVEIS</th>\n",
       "      <th>OUTRA_RENDA_VALOR</th>\n",
       "      <th>TEMPO_ULTIMO_EMPREGO_MESES</th>\n",
       "      <th>QT_CARROS</th>\n",
       "      <th>VALOR_TABELA_CARROS</th>\n",
       "      <th>SCORE</th>\n",
       "    </tr>\n",
       "  </thead>\n",
       "  <tbody>\n",
       "    <tr>\n",
       "      <th>0</th>\n",
       "      <td>1</td>\n",
       "      <td>19</td>\n",
       "      <td>0</td>\n",
       "      <td>0</td>\n",
       "      <td>0</td>\n",
       "      <td>0</td>\n",
       "      <td>8</td>\n",
       "      <td>0</td>\n",
       "      <td>0</td>\n",
       "      <td>12.000</td>\n",
       "    </tr>\n",
       "    <tr>\n",
       "      <th>1</th>\n",
       "      <td>2</td>\n",
       "      <td>23</td>\n",
       "      <td>1</td>\n",
       "      <td>0</td>\n",
       "      <td>0</td>\n",
       "      <td>0</td>\n",
       "      <td>9</td>\n",
       "      <td>1</td>\n",
       "      <td>50000</td>\n",
       "      <td>18.000</td>\n",
       "    </tr>\n",
       "    <tr>\n",
       "      <th>2</th>\n",
       "      <td>3</td>\n",
       "      <td>25</td>\n",
       "      <td>0</td>\n",
       "      <td>1</td>\n",
       "      <td>220000</td>\n",
       "      <td>0</td>\n",
       "      <td>18</td>\n",
       "      <td>2</td>\n",
       "      <td>30000</td>\n",
       "      <td>23.000</td>\n",
       "    </tr>\n",
       "    <tr>\n",
       "      <th>3</th>\n",
       "      <td>4</td>\n",
       "      <td>27</td>\n",
       "      <td>1</td>\n",
       "      <td>0</td>\n",
       "      <td>0</td>\n",
       "      <td>0</td>\n",
       "      <td>22</td>\n",
       "      <td>0</td>\n",
       "      <td>0</td>\n",
       "      <td>28.667</td>\n",
       "    </tr>\n",
       "    <tr>\n",
       "      <th>4</th>\n",
       "      <td>5</td>\n",
       "      <td>28</td>\n",
       "      <td>2</td>\n",
       "      <td>1</td>\n",
       "      <td>370000</td>\n",
       "      <td>0</td>\n",
       "      <td>30</td>\n",
       "      <td>1</td>\n",
       "      <td>35000</td>\n",
       "      <td>34.167</td>\n",
       "    </tr>\n",
       "  </tbody>\n",
       "</table>\n",
       "</div>"
      ],
      "text/plain": [
       "   CODIGO_CLIENTE  IDADE  QT_FILHOS  QT_IMOVEIS  VL_IMOVEIS  \\\n",
       "0               1     19          0           0           0   \n",
       "1               2     23          1           0           0   \n",
       "2               3     25          0           1      220000   \n",
       "3               4     27          1           0           0   \n",
       "4               5     28          2           1      370000   \n",
       "\n",
       "   OUTRA_RENDA_VALOR  TEMPO_ULTIMO_EMPREGO_MESES  QT_CARROS  \\\n",
       "0                  0                           8          0   \n",
       "1                  0                           9          1   \n",
       "2                  0                          18          2   \n",
       "3                  0                          22          0   \n",
       "4                  0                          30          1   \n",
       "\n",
       "   VALOR_TABELA_CARROS  SCORE  \n",
       "0                    0 12.000  \n",
       "1                50000 18.000  \n",
       "2                30000 23.000  \n",
       "3                    0 28.667  \n",
       "4                35000 34.167  "
      ]
     },
     "execution_count": 5,
     "metadata": {},
     "output_type": "execute_result"
    }
   ],
   "source": [
    "# Checagem das variáveis \"numéricas\" para compreender a distribuíção\n",
    "\n",
    "df_raw.select_dtypes(include='number').head()"
   ]
  },
  {
   "cell_type": "markdown",
   "id": "d6166cc9-7f0d-4243-ac67-c33215ce5df0",
   "metadata": {},
   "source": [
    "### Adotarei aluns procedimentos:\n",
    "  - Farei a exlusão da variável Cod. Cliente, nesse momento não agreda valor ás análises\n",
    "  - Checagem dos dados ausentes por variável em percentual"
   ]
  },
  {
   "cell_type": "code",
   "execution_count": 6,
   "id": "49872631-8501-4717-ada3-d9fb12d50241",
   "metadata": {},
   "outputs": [
    {
     "data": {
      "application/javascript": [
       "\n",
       "        if (window._pyforest_update_imports_cell) { window._pyforest_update_imports_cell('import matplotlib as mpl\\nimport pandas as pd\\nimport sys'); }\n",
       "    "
      ],
      "text/plain": [
       "<IPython.core.display.Javascript object>"
      ]
     },
     "metadata": {},
     "output_type": "display_data"
    },
    {
     "name": "stdout",
     "output_type": "stream",
     "text": [
      "Percentual de dados ausentes:\n",
      "\n"
     ]
    },
    {
     "data": {
      "application/javascript": [
       "\n",
       "        if (window._pyforest_update_imports_cell) { window._pyforest_update_imports_cell('import matplotlib as mpl\\nimport pandas as pd\\nimport sys'); }\n",
       "    "
      ],
      "text/plain": [
       "<IPython.core.display.Javascript object>"
      ]
     },
     "metadata": {},
     "output_type": "display_data"
    },
    {
     "name": "stdout",
     "output_type": "stream",
     "text": [
      "ULTIMO_SALARIO        0.02%\n",
      "UF                    0.00%\n",
      "                       ... \n",
      "VALOR_TABELA_CARROS   0.00%\n",
      "SCORE                 0.00%\n",
      "Length: 16, dtype: float64\n"
     ]
    }
   ],
   "source": [
    "# Procedimentos e processos para análises a posteore\n",
    "\n",
    "df_raw.drop( 'CODIGO_CLIENTE', axis=1, inplace = True )\n",
    "\n",
    "pd.set_option('display.float_format','{:.2f}%'.format)  \n",
    "print('Percentual de dados ausentes:\\n'),\n",
    "                 \n",
    "with pd.option_context('display.max_rows', (5), 'display.max_columns', None):\n",
    "  print((( df_raw.isnull().sum() / df_raw.shape[0]) ).sort_values( ascending = False) * 100 )"
   ]
  },
  {
   "cell_type": "markdown",
   "id": "0746bf84-f031-4094-801c-8cfb4d504fce",
   "metadata": {},
   "source": [
    "---\n",
    "* Na checagem acima posso ver que tenho ( 8 ) variáveis com ( 14 ) registros de ausência cada. \n",
    "- Procedimento que adotarei. Como irei trabalhar com predição, se enxertar com médiana, posso ter métricas e indicadores que não corresponderão ao propósito. Como trabalhaei com Machine Learning, optei por limpar os registros ausentes, excluíndo-os. São poucos registros frente ao volume de dados...12 mil linhas.\n",
    "- Analisando os dados acima posso concluir que o perído vai de fevereiro há dezembro com ( 10 ) meses de coleta dos dados do Google Analytics.\n",
    "- Vou investigar melhor a variável `ULTIMO_SALARIO`, preciso detalhar melhor às ocorréncias de dados ausentes, os reais motivos e quantitativos."
   ]
  },
  {
   "cell_type": "code",
   "execution_count": 7,
   "id": "d401ccd6-b31d-4cc0-97b2-1202c0467f4a",
   "metadata": {},
   "outputs": [
    {
     "data": {
      "text/html": [
       "<div>\n",
       "<style scoped>\n",
       "    .dataframe tbody tr th:only-of-type {\n",
       "        vertical-align: middle;\n",
       "    }\n",
       "\n",
       "    .dataframe tbody tr th {\n",
       "        vertical-align: top;\n",
       "    }\n",
       "\n",
       "    .dataframe thead th {\n",
       "        text-align: right;\n",
       "    }\n",
       "</style>\n",
       "<table border=\"1\" class=\"dataframe\">\n",
       "  <thead>\n",
       "    <tr style=\"text-align: right;\">\n",
       "      <th></th>\n",
       "      <th>UF</th>\n",
       "      <th>ESCOLARIDADE</th>\n",
       "      <th>ESTADO_CIVIL</th>\n",
       "      <th>CASA_PROPRIA</th>\n",
       "      <th>OUTRA_RENDA</th>\n",
       "      <th>TRABALHANDO_ATUALMENTE</th>\n",
       "      <th>ULTIMO_SALARIO</th>\n",
       "    </tr>\n",
       "  </thead>\n",
       "  <tbody>\n",
       "    <tr>\n",
       "      <th>unique</th>\n",
       "      <td>5</td>\n",
       "      <td>3</td>\n",
       "      <td>4</td>\n",
       "      <td>2</td>\n",
       "      <td>2</td>\n",
       "      <td>2</td>\n",
       "      <td>18</td>\n",
       "    </tr>\n",
       "    <tr>\n",
       "      <th>top</th>\n",
       "      <td>RJ</td>\n",
       "      <td>Superior Completo</td>\n",
       "      <td>Casado</td>\n",
       "      <td>Não</td>\n",
       "      <td>Não</td>\n",
       "      <td>Sim</td>\n",
       "      <td>1800</td>\n",
       "    </tr>\n",
       "    <tr>\n",
       "      <th>freq</th>\n",
       "      <td>2916</td>\n",
       "      <td>3672</td>\n",
       "      <td>4716</td>\n",
       "      <td>5724</td>\n",
       "      <td>8352</td>\n",
       "      <td>6336</td>\n",
       "      <td>846</td>\n",
       "    </tr>\n",
       "  </tbody>\n",
       "</table>\n",
       "</div>"
      ],
      "text/plain": [
       "          UF       ESCOLARIDADE ESTADO_CIVIL CASA_PROPRIA OUTRA_RENDA  \\\n",
       "unique     5                  3            4            2           2   \n",
       "top       RJ  Superior Completo       Casado          Não         Não   \n",
       "freq    2916               3672         4716         5724        8352   \n",
       "\n",
       "       TRABALHANDO_ATUALMENTE  ULTIMO_SALARIO  \n",
       "unique                      2              18  \n",
       "top                       Sim            1800  \n",
       "freq                     6336             846  "
      ]
     },
     "execution_count": 7,
     "metadata": {},
     "output_type": "execute_result"
    }
   ],
   "source": [
    "# Aplicação de Describe, incluindo as colunas objetc, excluindo count para validar os dados acima com print( )\n",
    "\n",
    "df_raw.describe( include=object ).drop(['count']).iloc[ :, : ]"
   ]
  },
  {
   "cell_type": "code",
   "execution_count": 8,
   "id": "91608e57-b353-46e0-ba84-ea663ad6f939",
   "metadata": {},
   "outputs": [
    {
     "data": {
      "text/html": [
       "<div>\n",
       "<style scoped>\n",
       "    .dataframe tbody tr th:only-of-type {\n",
       "        vertical-align: middle;\n",
       "    }\n",
       "\n",
       "    .dataframe tbody tr th {\n",
       "        vertical-align: top;\n",
       "    }\n",
       "\n",
       "    .dataframe thead th {\n",
       "        text-align: right;\n",
       "    }\n",
       "</style>\n",
       "<table border=\"1\" class=\"dataframe\">\n",
       "  <thead>\n",
       "    <tr style=\"text-align: right;\">\n",
       "      <th></th>\n",
       "      <th>ULTIMO_SALARIO</th>\n",
       "      <th>0</th>\n",
       "    </tr>\n",
       "  </thead>\n",
       "  <tbody>\n",
       "    <tr>\n",
       "      <th>0</th>\n",
       "      <td>1800</td>\n",
       "      <td>846</td>\n",
       "    </tr>\n",
       "    <tr>\n",
       "      <th>1</th>\n",
       "      <td>2200</td>\n",
       "      <td>792</td>\n",
       "    </tr>\n",
       "    <tr>\n",
       "      <th>2</th>\n",
       "      <td>3100</td>\n",
       "      <td>792</td>\n",
       "    </tr>\n",
       "    <tr>\n",
       "      <th>3</th>\n",
       "      <td>3900</td>\n",
       "      <td>792</td>\n",
       "    </tr>\n",
       "    <tr>\n",
       "      <th>4</th>\n",
       "      <td>4500</td>\n",
       "      <td>468</td>\n",
       "    </tr>\n",
       "    <tr>\n",
       "      <th>5</th>\n",
       "      <td>4800</td>\n",
       "      <td>792</td>\n",
       "    </tr>\n",
       "    <tr>\n",
       "      <th>6</th>\n",
       "      <td>5300</td>\n",
       "      <td>522</td>\n",
       "    </tr>\n",
       "    <tr>\n",
       "      <th>7</th>\n",
       "      <td>6100</td>\n",
       "      <td>522</td>\n",
       "    </tr>\n",
       "    <tr>\n",
       "      <th>8</th>\n",
       "      <td>6800</td>\n",
       "      <td>611</td>\n",
       "    </tr>\n",
       "    <tr>\n",
       "      <th>9</th>\n",
       "      <td>9000</td>\n",
       "      <td>522</td>\n",
       "    </tr>\n",
       "    <tr>\n",
       "      <th>10</th>\n",
       "      <td>9800</td>\n",
       "      <td>468</td>\n",
       "    </tr>\n",
       "    <tr>\n",
       "      <th>11</th>\n",
       "      <td>11500</td>\n",
       "      <td>790</td>\n",
       "    </tr>\n",
       "    <tr>\n",
       "      <th>12</th>\n",
       "      <td>13000</td>\n",
       "      <td>522</td>\n",
       "    </tr>\n",
       "    <tr>\n",
       "      <th>13</th>\n",
       "      <td>15000</td>\n",
       "      <td>522</td>\n",
       "    </tr>\n",
       "    <tr>\n",
       "      <th>14</th>\n",
       "      <td>17500</td>\n",
       "      <td>522</td>\n",
       "    </tr>\n",
       "    <tr>\n",
       "      <th>15</th>\n",
       "      <td>18300</td>\n",
       "      <td>522</td>\n",
       "    </tr>\n",
       "    <tr>\n",
       "      <th>16</th>\n",
       "      <td>22000</td>\n",
       "      <td>468</td>\n",
       "    </tr>\n",
       "    <tr>\n",
       "      <th>17</th>\n",
       "      <td>SEM DADOS</td>\n",
       "      <td>1</td>\n",
       "    </tr>\n",
       "  </tbody>\n",
       "</table>\n",
       "</div>"
      ],
      "text/plain": [
       "   ULTIMO_SALARIO    0\n",
       "0            1800  846\n",
       "1            2200  792\n",
       "2            3100  792\n",
       "3            3900  792\n",
       "4            4500  468\n",
       "5            4800  792\n",
       "6            5300  522\n",
       "7            6100  522\n",
       "8            6800  611\n",
       "9            9000  522\n",
       "10           9800  468\n",
       "11          11500  790\n",
       "12          13000  522\n",
       "13          15000  522\n",
       "14          17500  522\n",
       "15          18300  522\n",
       "16          22000  468\n",
       "17      SEM DADOS    1"
      ]
     },
     "execution_count": 8,
     "metadata": {},
     "output_type": "execute_result"
    }
   ],
   "source": [
    "agg_sal = df_raw.groupby( [ 'ULTIMO_SALARIO' ] ).size().reset_index()\n",
    "agg_sal"
   ]
  },
  {
   "cell_type": "code",
   "execution_count": 9,
   "id": "0a8cd145-c713-4db3-9fae-077d9b1badb8",
   "metadata": {},
   "outputs": [
    {
     "data": {
      "text/plain": [
       "(1800        8.08%\n",
       " 2200        7.56%\n",
       " 3900        7.56%\n",
       " 3100        7.56%\n",
       " 4800        7.56%\n",
       " 11500       7.54%\n",
       " 6800        5.83%\n",
       " 17500       4.98%\n",
       " 18300       4.98%\n",
       " 5300        4.98%\n",
       " 13000       4.98%\n",
       " 15000       4.98%\n",
       " 9000        4.98%\n",
       " 6100        4.98%\n",
       " 9800        4.47%\n",
       " 4500        4.47%\n",
       " 22000       4.47%\n",
       " SEM DADOS   0.01%\n",
       " Name: ULTIMO_SALARIO, dtype: float64,\n",
       " 2)"
      ]
     },
     "execution_count": 9,
     "metadata": {},
     "output_type": "execute_result"
    }
   ],
   "source": [
    "# Passando o shape para variável ULTIMO_SALARIO para entender os valores únicos e os ausentes em percentil\n",
    "\n",
    "df_raw.ULTIMO_SALARIO.value_counts() / df_raw.shape [0] * 100,2"
   ]
  },
  {
   "cell_type": "code",
   "execution_count": 10,
   "id": "5a9bee69-a1be-4b51-b682-3fcc6a1ac198",
   "metadata": {},
   "outputs": [
    {
     "data": {
      "text/plain": [
       "1800         846\n",
       "2200         792\n",
       "3900         792\n",
       "3100         792\n",
       "4800         792\n",
       "11500        790\n",
       "6800         611\n",
       "13000        522\n",
       "18300        522\n",
       "5300         522\n",
       "15000        522\n",
       "6100         522\n",
       "9000         522\n",
       "17500        522\n",
       "9800         468\n",
       "4500         468\n",
       "22000        468\n",
       "NaN            2\n",
       "SEM DADOS      1\n",
       "Name: ULTIMO_SALARIO, dtype: int64"
      ]
     },
     "execution_count": 10,
     "metadata": {},
     "output_type": "execute_result"
    }
   ],
   "source": [
    "# Quantitativo de dados únicos para a variável ULTIMO_SALARIO e dados NaN ( ausentes )\n",
    "\n",
    "df_raw.ULTIMO_SALARIO.value_counts( dropna=False )"
   ]
  },
  {
   "cell_type": "code",
   "execution_count": 11,
   "id": "c6c89c56-70c6-41f8-8f58-196e9f4829cf",
   "metadata": {},
   "outputs": [
    {
     "data": {
      "text/html": [
       "<div>\n",
       "<style scoped>\n",
       "    .dataframe tbody tr th:only-of-type {\n",
       "        vertical-align: middle;\n",
       "    }\n",
       "\n",
       "    .dataframe tbody tr th {\n",
       "        vertical-align: top;\n",
       "    }\n",
       "\n",
       "    .dataframe thead th {\n",
       "        text-align: right;\n",
       "    }\n",
       "</style>\n",
       "<table border=\"1\" class=\"dataframe\">\n",
       "  <thead>\n",
       "    <tr style=\"text-align: right;\">\n",
       "      <th></th>\n",
       "      <th>UF</th>\n",
       "      <th>IDADE</th>\n",
       "      <th>ESCOLARIDADE</th>\n",
       "      <th>ESTADO_CIVIL</th>\n",
       "      <th>QT_FILHOS</th>\n",
       "      <th>CASA_PROPRIA</th>\n",
       "      <th>QT_IMOVEIS</th>\n",
       "      <th>VL_IMOVEIS</th>\n",
       "      <th>OUTRA_RENDA</th>\n",
       "      <th>OUTRA_RENDA_VALOR</th>\n",
       "      <th>TEMPO_ULTIMO_EMPREGO_MESES</th>\n",
       "      <th>TRABALHANDO_ATUALMENTE</th>\n",
       "      <th>ULTIMO_SALARIO</th>\n",
       "      <th>QT_CARROS</th>\n",
       "      <th>VALOR_TABELA_CARROS</th>\n",
       "      <th>SCORE</th>\n",
       "    </tr>\n",
       "  </thead>\n",
       "  <tbody>\n",
       "    <tr>\n",
       "      <th>10459</th>\n",
       "      <td>RJ</td>\n",
       "      <td>45</td>\n",
       "      <td>Superior Cursando</td>\n",
       "      <td>Solteiro</td>\n",
       "      <td>1</td>\n",
       "      <td>Sim</td>\n",
       "      <td>1</td>\n",
       "      <td>185000</td>\n",
       "      <td>Sim</td>\n",
       "      <td>3000</td>\n",
       "      <td>19</td>\n",
       "      <td>Sim</td>\n",
       "      <td>SEM DADOS</td>\n",
       "      <td>0</td>\n",
       "      <td>0</td>\n",
       "      <td>45.17%</td>\n",
       "    </tr>\n",
       "  </tbody>\n",
       "</table>\n",
       "</div>"
      ],
      "text/plain": [
       "       UF  IDADE       ESCOLARIDADE ESTADO_CIVIL  QT_FILHOS CASA_PROPRIA  \\\n",
       "10459  RJ     45  Superior Cursando     Solteiro          1          Sim   \n",
       "\n",
       "       QT_IMOVEIS  VL_IMOVEIS OUTRA_RENDA  OUTRA_RENDA_VALOR  \\\n",
       "10459           1      185000         Sim               3000   \n",
       "\n",
       "       TEMPO_ULTIMO_EMPREGO_MESES TRABALHANDO_ATUALMENTE ULTIMO_SALARIO  \\\n",
       "10459                          19                    Sim      SEM DADOS   \n",
       "\n",
       "       QT_CARROS  VALOR_TABELA_CARROS  SCORE  \n",
       "10459          0                    0 45.17%  "
      ]
     },
     "execution_count": 11,
     "metadata": {},
     "output_type": "execute_result"
    }
   ],
   "source": [
    "# Checando a origem para entender as causas dos dados ausentes na variável ULTIMO_SALARIO\n",
    "\n",
    "df_raw.loc[df_raw[ 'ULTIMO_SALARIO' ] == 'SEM DADOS']"
   ]
  },
  {
   "cell_type": "code",
   "execution_count": 12,
   "id": "bbcea8a7-bab8-49f3-84f6-8465385a209a",
   "metadata": {},
   "outputs": [
    {
     "data": {
      "text/html": [
       "<div>\n",
       "<style scoped>\n",
       "    .dataframe tbody tr th:only-of-type {\n",
       "        vertical-align: middle;\n",
       "    }\n",
       "\n",
       "    .dataframe tbody tr th {\n",
       "        vertical-align: top;\n",
       "    }\n",
       "\n",
       "    .dataframe thead th {\n",
       "        text-align: right;\n",
       "    }\n",
       "</style>\n",
       "<table border=\"1\" class=\"dataframe\">\n",
       "  <thead>\n",
       "    <tr style=\"text-align: right;\">\n",
       "      <th></th>\n",
       "      <th>TEMPO_ULTIMO_EMPREGO_MESES</th>\n",
       "      <th>TRABALHANDO_ATUALMENTE</th>\n",
       "      <th>ULTIMO_SALARIO</th>\n",
       "      <th>QT_CARROS</th>\n",
       "      <th>VALOR_TABELA_CARROS</th>\n",
       "      <th>SCORE</th>\n",
       "    </tr>\n",
       "  </thead>\n",
       "  <tbody>\n",
       "    <tr>\n",
       "      <th>10459</th>\n",
       "      <td>19</td>\n",
       "      <td>Sim</td>\n",
       "      <td>SEM DADOS</td>\n",
       "      <td>0</td>\n",
       "      <td>0</td>\n",
       "      <td>45.17%</td>\n",
       "    </tr>\n",
       "  </tbody>\n",
       "</table>\n",
       "</div>"
      ],
      "text/plain": [
       "       TEMPO_ULTIMO_EMPREGO_MESES TRABALHANDO_ATUALMENTE ULTIMO_SALARIO  \\\n",
       "10459                          19                    Sim      SEM DADOS   \n",
       "\n",
       "       QT_CARROS  VALOR_TABELA_CARROS  SCORE  \n",
       "10459          0                    0 45.17%  "
      ]
     },
     "execution_count": 12,
     "metadata": {},
     "output_type": "execute_result"
    }
   ],
   "source": [
    "# Checando a causa dos dados ausentes na variável ULTIMO_SALARIO sem dados\n",
    "\n",
    "check = df_raw.loc[df_raw[ 'ULTIMO_SALARIO' ] == 'SEM DADOS']\n",
    "check.iloc[ :, 10: 21 ]"
   ]
  },
  {
   "cell_type": "code",
   "execution_count": 13,
   "id": "71241225-dfa4-443e-a380-b4f3a19ccfbd",
   "metadata": {},
   "outputs": [],
   "source": [
    "# Farei a substituição da palabra (string) sem valor por dado nulo.\n",
    "\n",
    "df_raw.replace( 'SEM DADOS',np.nan, inplace = True) \n",
    "\n",
    "# Aproveito para converter esta variável em float64\n",
    "\n",
    "df_raw[ 'ULTIMO_SALARIO' ] = df_raw[ 'ULTIMO_SALARIO' ].astype(np.float64)"
   ]
  },
  {
   "cell_type": "code",
   "execution_count": 14,
   "id": "1e32e655-401e-4933-853d-4bd288b5eec4",
   "metadata": {},
   "outputs": [
    {
     "name": "stdout",
     "output_type": "stream",
     "text": [
      "Checando se tenho mais algum dado ausente\n"
     ]
    },
    {
     "data": {
      "text/plain": [
       "(None,\n",
       "                          index  0\n",
       " 0                           UF  0\n",
       " 1                        IDADE  0\n",
       " 2                 ESCOLARIDADE  0\n",
       " 3                 ESTADO_CIVIL  0\n",
       " 4                    QT_FILHOS  0\n",
       " 5                 CASA_PROPRIA  0\n",
       " 6                   QT_IMOVEIS  0\n",
       " 7                   VL_IMOVEIS  0\n",
       " 8                  OUTRA_RENDA  0\n",
       " 9            OUTRA_RENDA_VALOR  0\n",
       " 10  TEMPO_ULTIMO_EMPREGO_MESES  0\n",
       " 11      TRABALHANDO_ATUALMENTE  0\n",
       " 12              ULTIMO_SALARIO  3\n",
       " 13                   QT_CARROS  0\n",
       " 14         VALOR_TABELA_CARROS  0\n",
       " 15                       SCORE  0)"
      ]
     },
     "execution_count": 14,
     "metadata": {},
     "output_type": "execute_result"
    }
   ],
   "source": [
    "# Checagem dos dados ausentes\n",
    "\n",
    "print( 'Checando se tenho mais algum dado ausente'), df_raw.isna().sum().reset_index()"
   ]
  },
  {
   "cell_type": "code",
   "execution_count": 15,
   "id": "9a1e0cd2-599c-424b-b22e-1cc4fbf48919",
   "metadata": {},
   "outputs": [],
   "source": [
    "# Preenchendo os dados ausentes com a mediana da variável em questão ( ULTIMO SALARIO )\n",
    "\n",
    "df_raw[ 'ULTIMO_SALARIO' ] = df_raw[ 'ULTIMO_SALARIO' ].fillna((df_raw[ 'ULTIMO_SALARIO'].median() ))"
   ]
  },
  {
   "cell_type": "code",
   "execution_count": 16,
   "id": "83ea731d-1fe0-4030-907c-1bed2140ef31",
   "metadata": {},
   "outputs": [
    {
     "name": "stdout",
     "output_type": "stream",
     "text": [
      "Checando se tenho mais algum dado ausente\n"
     ]
    },
    {
     "data": {
      "text/plain": [
       "(None,\n",
       "                          index  0\n",
       " 0                           UF  0\n",
       " 1                        IDADE  0\n",
       " 2                 ESCOLARIDADE  0\n",
       " 3                 ESTADO_CIVIL  0\n",
       " 4                    QT_FILHOS  0\n",
       " 5                 CASA_PROPRIA  0\n",
       " 6                   QT_IMOVEIS  0\n",
       " 7                   VL_IMOVEIS  0\n",
       " 8                  OUTRA_RENDA  0\n",
       " 9            OUTRA_RENDA_VALOR  0\n",
       " 10  TEMPO_ULTIMO_EMPREGO_MESES  0\n",
       " 11      TRABALHANDO_ATUALMENTE  0\n",
       " 12              ULTIMO_SALARIO  0\n",
       " 13                   QT_CARROS  0\n",
       " 14         VALOR_TABELA_CARROS  0\n",
       " 15                       SCORE  0)"
      ]
     },
     "execution_count": 16,
     "metadata": {},
     "output_type": "execute_result"
    }
   ],
   "source": [
    "# Checagem dos dados ausentes\n",
    "\n",
    "print( 'Checando se tenho mais algum dado ausente'), df_raw.isna().sum().reset_index()"
   ]
  },
  {
   "cell_type": "code",
   "execution_count": 17,
   "id": "ac182d23-c175-4ea3-a55a-2ecd037d8aec",
   "metadata": {},
   "outputs": [
    {
     "name": "stdout",
     "output_type": "stream",
     "text": [
      "\n",
      "Print variáveis numéricas:\n",
      "\n",
      "IDADE : int64\n",
      "QT_FILHOS : int64\n",
      "QT_IMOVEIS : int64\n",
      "VL_IMOVEIS : int64\n",
      "OUTRA_RENDA_VALOR : int64\n",
      "TEMPO_ULTIMO_EMPREGO_MESES : int64\n",
      "ULTIMO_SALARIO : float64\n",
      "QT_CARROS : int64\n",
      "VALOR_TABELA_CARROS : int64\n",
      "SCORE : float64\n"
     ]
    }
   ],
   "source": [
    "# For para relacinar as variáveis numéricas\n",
    "\n",
    "var_num = [ ]\n",
    "\n",
    "print( f'\\nPrint variáveis numéricas:\\n' )\n",
    "\n",
    "for i in df_raw.columns[ 0:16 ].tolist():\n",
    "           if df_raw.dtypes[ i ] == 'int64' or df_raw.dtypes[i] == 'float64':\n",
    "              print( i, ':', df_raw.dtypes[ i ] )\n",
    "              var_num.append( i )"
   ]
  },
  {
   "cell_type": "code",
   "execution_count": 18,
   "id": "81648ea8-8fc4-4898-9702-616fd511be8b",
   "metadata": {},
   "outputs": [
    {
     "data": {
      "application/javascript": [
       "\n",
       "        if (window._pyforest_update_imports_cell) { window._pyforest_update_imports_cell('import matplotlib as mpl\\nimport pandas as pd\\nimport sys'); }\n",
       "    "
      ],
      "text/plain": [
       "<IPython.core.display.Javascript object>"
      ]
     },
     "metadata": {},
     "output_type": "display_data"
    },
    {
     "data": {
      "text/html": [
       "<div>\n",
       "<style scoped>\n",
       "    .dataframe tbody tr th:only-of-type {\n",
       "        vertical-align: middle;\n",
       "    }\n",
       "\n",
       "    .dataframe tbody tr th {\n",
       "        vertical-align: top;\n",
       "    }\n",
       "\n",
       "    .dataframe thead th {\n",
       "        text-align: right;\n",
       "    }\n",
       "</style>\n",
       "<table border=\"1\" class=\"dataframe\">\n",
       "  <thead>\n",
       "    <tr style=\"text-align: right;\">\n",
       "      <th></th>\n",
       "      <th>mean</th>\n",
       "      <th>std</th>\n",
       "      <th>min</th>\n",
       "      <th>25%</th>\n",
       "      <th>50%</th>\n",
       "      <th>75%</th>\n",
       "      <th>max</th>\n",
       "    </tr>\n",
       "  </thead>\n",
       "  <tbody>\n",
       "    <tr>\n",
       "      <th>ULTIMO_SALARIO</th>\n",
       "      <td>8286.5311</td>\n",
       "      <td>5826.5898</td>\n",
       "      <td>1800.0000</td>\n",
       "      <td>3900.0000</td>\n",
       "      <td>6100.0000</td>\n",
       "      <td>11500.0000</td>\n",
       "      <td>22000.0000</td>\n",
       "    </tr>\n",
       "    <tr>\n",
       "      <th>SCORE</th>\n",
       "      <td>51.0587</td>\n",
       "      <td>27.3063</td>\n",
       "      <td>12.0000</td>\n",
       "      <td>28.6667</td>\n",
       "      <td>45.1667</td>\n",
       "      <td>72.6667</td>\n",
       "      <td>98.0000</td>\n",
       "    </tr>\n",
       "  </tbody>\n",
       "</table>\n",
       "</div>"
      ],
      "text/plain": [
       "                    mean       std       min       25%       50%        75%  \\\n",
       "ULTIMO_SALARIO 8286.5311 5826.5898 1800.0000 3900.0000 6100.0000 11500.0000   \n",
       "SCORE            51.0587   27.3063   12.0000   28.6667   45.1667    72.6667   \n",
       "\n",
       "                      max  \n",
       "ULTIMO_SALARIO 22000.0000  \n",
       "SCORE             98.0000  "
      ]
     },
     "execution_count": 18,
     "metadata": {},
     "output_type": "execute_result"
    }
   ],
   "source": [
    "# Clarificando a variável \"alvo\" e \"Último Salário\" com técnica \"select_dtypes\" para um descritiva\n",
    "\n",
    "pd.set_option('display.float_format','{:.4f}'.format)  \n",
    "(\n",
    " df_raw\n",
    " .select_dtypes(float)\n",
    " .describe().drop( [ 'count' ] ).T\n",
    ")"
   ]
  },
  {
   "cell_type": "code",
   "execution_count": 19,
   "id": "f68dbffe-e54a-4209-8d5d-bef031a0b2d9",
   "metadata": {},
   "outputs": [
    {
     "data": {
      "text/html": [
       "<div>\n",
       "<style scoped>\n",
       "    .dataframe tbody tr th:only-of-type {\n",
       "        vertical-align: middle;\n",
       "    }\n",
       "\n",
       "    .dataframe tbody tr th {\n",
       "        vertical-align: top;\n",
       "    }\n",
       "\n",
       "    .dataframe thead th {\n",
       "        text-align: right;\n",
       "    }\n",
       "</style>\n",
       "<table border=\"1\" class=\"dataframe\">\n",
       "  <thead>\n",
       "    <tr style=\"text-align: right;\">\n",
       "      <th></th>\n",
       "      <th>mean</th>\n",
       "      <th>std</th>\n",
       "      <th>min</th>\n",
       "      <th>25%</th>\n",
       "      <th>50%</th>\n",
       "      <th>75%</th>\n",
       "      <th>max</th>\n",
       "    </tr>\n",
       "  </thead>\n",
       "  <tbody>\n",
       "    <tr>\n",
       "      <th>IDADE</th>\n",
       "      <td>41.0500</td>\n",
       "      <td>13.8800</td>\n",
       "      <td>19.0000</td>\n",
       "      <td>28.0000</td>\n",
       "      <td>42.0000</td>\n",
       "      <td>53.0000</td>\n",
       "      <td>65.0000</td>\n",
       "    </tr>\n",
       "    <tr>\n",
       "      <th>QT_FILHOS</th>\n",
       "      <td>1.1200</td>\n",
       "      <td>1.1100</td>\n",
       "      <td>0.0000</td>\n",
       "      <td>0.0000</td>\n",
       "      <td>1.0000</td>\n",
       "      <td>2.0000</td>\n",
       "      <td>42.0000</td>\n",
       "    </tr>\n",
       "    <tr>\n",
       "      <th>QT_IMOVEIS</th>\n",
       "      <td>0.8500</td>\n",
       "      <td>0.9600</td>\n",
       "      <td>0.0000</td>\n",
       "      <td>0.0000</td>\n",
       "      <td>1.0000</td>\n",
       "      <td>1.0000</td>\n",
       "      <td>3.0000</td>\n",
       "    </tr>\n",
       "    <tr>\n",
       "      <th>VL_IMOVEIS</th>\n",
       "      <td>238453.6100</td>\n",
       "      <td>265843.9300</td>\n",
       "      <td>0.0000</td>\n",
       "      <td>0.0000</td>\n",
       "      <td>185000.0000</td>\n",
       "      <td>370000.0000</td>\n",
       "      <td>900000.0000</td>\n",
       "    </tr>\n",
       "    <tr>\n",
       "      <th>OUTRA_RENDA_VALOR</th>\n",
       "      <td>641.2400</td>\n",
       "      <td>1295.9800</td>\n",
       "      <td>0.0000</td>\n",
       "      <td>0.0000</td>\n",
       "      <td>0.0000</td>\n",
       "      <td>0.0000</td>\n",
       "      <td>4000.0000</td>\n",
       "    </tr>\n",
       "    <tr>\n",
       "      <th>TEMPO_ULTIMO_EMPREGO_MESES</th>\n",
       "      <td>43.0700</td>\n",
       "      <td>40.8500</td>\n",
       "      <td>8.0000</td>\n",
       "      <td>14.0000</td>\n",
       "      <td>22.0000</td>\n",
       "      <td>75.0000</td>\n",
       "      <td>150.0000</td>\n",
       "    </tr>\n",
       "    <tr>\n",
       "      <th>QT_CARROS</th>\n",
       "      <td>0.9400</td>\n",
       "      <td>0.8100</td>\n",
       "      <td>0.0000</td>\n",
       "      <td>0.0000</td>\n",
       "      <td>1.0000</td>\n",
       "      <td>2.0000</td>\n",
       "      <td>2.0000</td>\n",
       "    </tr>\n",
       "    <tr>\n",
       "      <th>VALOR_TABELA_CARROS</th>\n",
       "      <td>40996.5600</td>\n",
       "      <td>47404.2100</td>\n",
       "      <td>0.0000</td>\n",
       "      <td>0.0000</td>\n",
       "      <td>35000.0000</td>\n",
       "      <td>50000.0000</td>\n",
       "      <td>180000.0000</td>\n",
       "    </tr>\n",
       "  </tbody>\n",
       "</table>\n",
       "</div>"
      ],
      "text/plain": [
       "                                  mean         std     min     25%  \\\n",
       "IDADE                          41.0500     13.8800 19.0000 28.0000   \n",
       "QT_FILHOS                       1.1200      1.1100  0.0000  0.0000   \n",
       "QT_IMOVEIS                      0.8500      0.9600  0.0000  0.0000   \n",
       "VL_IMOVEIS                 238453.6100 265843.9300  0.0000  0.0000   \n",
       "OUTRA_RENDA_VALOR             641.2400   1295.9800  0.0000  0.0000   \n",
       "TEMPO_ULTIMO_EMPREGO_MESES     43.0700     40.8500  8.0000 14.0000   \n",
       "QT_CARROS                       0.9400      0.8100  0.0000  0.0000   \n",
       "VALOR_TABELA_CARROS         40996.5600  47404.2100  0.0000  0.0000   \n",
       "\n",
       "                                   50%         75%         max  \n",
       "IDADE                          42.0000     53.0000     65.0000  \n",
       "QT_FILHOS                       1.0000      2.0000     42.0000  \n",
       "QT_IMOVEIS                      1.0000      1.0000      3.0000  \n",
       "VL_IMOVEIS                 185000.0000 370000.0000 900000.0000  \n",
       "OUTRA_RENDA_VALOR               0.0000      0.0000   4000.0000  \n",
       "TEMPO_ULTIMO_EMPREGO_MESES     22.0000     75.0000    150.0000  \n",
       "QT_CARROS                       1.0000      2.0000      2.0000  \n",
       "VALOR_TABELA_CARROS         35000.0000  50000.0000 180000.0000  "
      ]
     },
     "execution_count": 19,
     "metadata": {},
     "output_type": "execute_result"
    }
   ],
   "source": [
    "# Clarificando ás variáveis int com descritivo sem coluna \"count\"\n",
    "\n",
    "(\n",
    " df_raw\n",
    " .select_dtypes(int)\n",
    " .describe().drop( [ 'count' ] ).round(2).T\n",
    ")"
   ]
  },
  {
   "cell_type": "code",
   "execution_count": 20,
   "id": "4eeeb6ff-022c-45e6-acc9-e505b81b35f9",
   "metadata": {},
   "outputs": [
    {
     "data": {
      "text/html": [
       "<div>\n",
       "<style scoped>\n",
       "    .dataframe tbody tr th:only-of-type {\n",
       "        vertical-align: middle;\n",
       "    }\n",
       "\n",
       "    .dataframe tbody tr th {\n",
       "        vertical-align: top;\n",
       "    }\n",
       "\n",
       "    .dataframe thead th {\n",
       "        text-align: right;\n",
       "    }\n",
       "</style>\n",
       "<table border=\"1\" class=\"dataframe\">\n",
       "  <thead>\n",
       "    <tr style=\"text-align: right;\">\n",
       "      <th></th>\n",
       "      <th>IDADE</th>\n",
       "      <th>QT_FILHOS</th>\n",
       "      <th>QT_IMOVEIS</th>\n",
       "      <th>VL_IMOVEIS</th>\n",
       "      <th>OUTRA_RENDA_VALOR</th>\n",
       "      <th>TEMPO_ULTIMO_EMPREGO_MESES</th>\n",
       "      <th>ULTIMO_SALARIO</th>\n",
       "      <th>QT_CARROS</th>\n",
       "      <th>VALOR_TABELA_CARROS</th>\n",
       "      <th>SCORE</th>\n",
       "    </tr>\n",
       "  </thead>\n",
       "  <tbody>\n",
       "    <tr>\n",
       "      <th>mean</th>\n",
       "      <td>41.0500</td>\n",
       "      <td>1.1200</td>\n",
       "      <td>0.8500</td>\n",
       "      <td>238453.6100</td>\n",
       "      <td>641.2400</td>\n",
       "      <td>43.0700</td>\n",
       "      <td>8286.5300</td>\n",
       "      <td>0.9400</td>\n",
       "      <td>40996.5600</td>\n",
       "      <td>51.0600</td>\n",
       "    </tr>\n",
       "    <tr>\n",
       "      <th>std</th>\n",
       "      <td>13.8800</td>\n",
       "      <td>1.1100</td>\n",
       "      <td>0.9600</td>\n",
       "      <td>265843.9300</td>\n",
       "      <td>1295.9800</td>\n",
       "      <td>40.8500</td>\n",
       "      <td>5826.5900</td>\n",
       "      <td>0.8100</td>\n",
       "      <td>47404.2100</td>\n",
       "      <td>27.3100</td>\n",
       "    </tr>\n",
       "    <tr>\n",
       "      <th>min</th>\n",
       "      <td>19.0000</td>\n",
       "      <td>0.0000</td>\n",
       "      <td>0.0000</td>\n",
       "      <td>0.0000</td>\n",
       "      <td>0.0000</td>\n",
       "      <td>8.0000</td>\n",
       "      <td>1800.0000</td>\n",
       "      <td>0.0000</td>\n",
       "      <td>0.0000</td>\n",
       "      <td>12.0000</td>\n",
       "    </tr>\n",
       "    <tr>\n",
       "      <th>25%</th>\n",
       "      <td>28.0000</td>\n",
       "      <td>0.0000</td>\n",
       "      <td>0.0000</td>\n",
       "      <td>0.0000</td>\n",
       "      <td>0.0000</td>\n",
       "      <td>14.0000</td>\n",
       "      <td>3900.0000</td>\n",
       "      <td>0.0000</td>\n",
       "      <td>0.0000</td>\n",
       "      <td>28.6700</td>\n",
       "    </tr>\n",
       "    <tr>\n",
       "      <th>50%</th>\n",
       "      <td>42.0000</td>\n",
       "      <td>1.0000</td>\n",
       "      <td>1.0000</td>\n",
       "      <td>185000.0000</td>\n",
       "      <td>0.0000</td>\n",
       "      <td>22.0000</td>\n",
       "      <td>6100.0000</td>\n",
       "      <td>1.0000</td>\n",
       "      <td>35000.0000</td>\n",
       "      <td>45.1700</td>\n",
       "    </tr>\n",
       "    <tr>\n",
       "      <th>75%</th>\n",
       "      <td>53.0000</td>\n",
       "      <td>2.0000</td>\n",
       "      <td>1.0000</td>\n",
       "      <td>370000.0000</td>\n",
       "      <td>0.0000</td>\n",
       "      <td>75.0000</td>\n",
       "      <td>11500.0000</td>\n",
       "      <td>2.0000</td>\n",
       "      <td>50000.0000</td>\n",
       "      <td>72.6700</td>\n",
       "    </tr>\n",
       "    <tr>\n",
       "      <th>max</th>\n",
       "      <td>65.0000</td>\n",
       "      <td>42.0000</td>\n",
       "      <td>3.0000</td>\n",
       "      <td>900000.0000</td>\n",
       "      <td>4000.0000</td>\n",
       "      <td>150.0000</td>\n",
       "      <td>22000.0000</td>\n",
       "      <td>2.0000</td>\n",
       "      <td>180000.0000</td>\n",
       "      <td>98.0000</td>\n",
       "    </tr>\n",
       "  </tbody>\n",
       "</table>\n",
       "</div>"
      ],
      "text/plain": [
       "       IDADE  QT_FILHOS  QT_IMOVEIS  VL_IMOVEIS  OUTRA_RENDA_VALOR  \\\n",
       "mean 41.0500     1.1200      0.8500 238453.6100           641.2400   \n",
       "std  13.8800     1.1100      0.9600 265843.9300          1295.9800   \n",
       "min  19.0000     0.0000      0.0000      0.0000             0.0000   \n",
       "25%  28.0000     0.0000      0.0000      0.0000             0.0000   \n",
       "50%  42.0000     1.0000      1.0000 185000.0000             0.0000   \n",
       "75%  53.0000     2.0000      1.0000 370000.0000             0.0000   \n",
       "max  65.0000    42.0000      3.0000 900000.0000          4000.0000   \n",
       "\n",
       "      TEMPO_ULTIMO_EMPREGO_MESES  ULTIMO_SALARIO  QT_CARROS  \\\n",
       "mean                     43.0700       8286.5300     0.9400   \n",
       "std                      40.8500       5826.5900     0.8100   \n",
       "min                       8.0000       1800.0000     0.0000   \n",
       "25%                      14.0000       3900.0000     0.0000   \n",
       "50%                      22.0000       6100.0000     1.0000   \n",
       "75%                      75.0000      11500.0000     2.0000   \n",
       "max                     150.0000      22000.0000     2.0000   \n",
       "\n",
       "      VALOR_TABELA_CARROS   SCORE  \n",
       "mean           40996.5600 51.0600  \n",
       "std            47404.2100 27.3100  \n",
       "min                0.0000 12.0000  \n",
       "25%                0.0000 28.6700  \n",
       "50%            35000.0000 45.1700  \n",
       "75%            50000.0000 72.6700  \n",
       "max           180000.0000 98.0000  "
      ]
     },
     "execution_count": 20,
     "metadata": {},
     "output_type": "execute_result"
    }
   ],
   "source": [
    "# Análise descritiva com todas ás variáveis int e float\n",
    "\n",
    "df_raw.describe( ).drop( [ 'count' ] ).round(2)"
   ]
  },
  {
   "cell_type": "markdown",
   "id": "e655f165-9f88-4e8b-a0cc-2ea57a1bfbcf",
   "metadata": {},
   "source": [
    "### Criando um filtro \"for\" para trazer somente variáveis numéricas em boxplot para enteder as distribuições\n",
    "   - Com base na var_num criada acima, sigo persquisando e investidando as varáveis numéricas ( Int e Float )"
   ]
  },
  {
   "cell_type": "code",
   "execution_count": 21,
   "id": "de4b021e-625a-491f-9332-f35d6762aad1",
   "metadata": {},
   "outputs": [
    {
     "name": "stdout",
     "output_type": "stream",
     "text": [
      "\n",
      "                                            BOXPLOT COM TODAS AS VARIÁVEIS NUMÉRICAS PARA ENTENDER AS DISTRIBUIÇÕES                                             \n",
      "\n"
     ]
    },
    {
     "data": {
      "image/png": "[encoded data removed]",
      "text/plain": [
       "<Figure size 1500x1200 with 10 Axes>"
      ]
     },
     "metadata": {},
     "output_type": "display_data"
    }
   ],
   "source": [
    "# Aplicarei n/ gráficos boxplot para entendimento das distribuiões dos intra-quartis ( outliers )\n",
    "\n",
    "plt.rcParams[\"figure.figsize\"] = [15.00, 12.00]\n",
    "# plt.rcParams[\"figure.autolayout\"] = True\n",
    "print( )\n",
    "print( 'BOXPLOT COM TODAS AS VARIÁVEIS NUMÉRICAS PARA ENTENDER AS DISTRIBUIÇÕES'.center( 160 ) )\n",
    "print( )\n",
    "f, axes = plt.subplots( 2, 5 ) \n",
    "\n",
    "linha  = 0\n",
    "coluna = 0\n",
    "\n",
    "for i in var_num:\n",
    "    sns.boxplot( data=df_raw, y=i, palette= [\"#90F1EF\"], ax=axes[linha][coluna] );\n",
    "    coluna += 1\n",
    "    if coluna == 5:\n",
    "        linha += 1\n",
    "        coluna = 0            \n",
    "\n",
    "plt.grid(False),\n",
    "plt.box(True),\n",
    "\n",
    "plt.tight_layout ();"
   ]
  },
  {
   "cell_type": "markdown",
   "id": "09b0695c-4557-48e0-8b6e-f2779ad2a162",
   "metadata": {},
   "source": [
    "### Checagem de Outliers: <em>**valores muito acima da média**<em>\n",
    "\n",
    "* Com base nos boxplots acima têm alguns Outliers nás variáveis: `QT_FILHOS, QT_IMOVEIS, VALOR_TABELA_CARROS e OUTRA_RENDA_VALOR`.\n",
    "  - Vou analisar com cautela para entender como tratar esses casos, porque vou trabalhar com essas variáveis.\n",
    "\n",
    "\n",
    "* Farei um filtro para pegar número de filhos acima ( q ) > 4 ( f ).\n",
    "* Tenho ( 2 ) registros, aponstando que estão fora da curva. O que fazer? \n",
    "* Como são só dois registros e ficou evidente que houve algum equivoco, adotarei o procedimento de limpeza ( exclusão ). \n",
    "* Tenho um registro com ( 38 ) e outro com ( 42 ) filhos.\n",
    "- Toda via o mesmo não aplica-se a variável QT_IMOVEIS. Por quê? Pelo fato de que temos pessoas que poderão ter vários imóveis, por tanto, não é \"outlier\". Agora..tudo depende de como ela será usada, para isso, cabe outros procedimentos no caso desta variável tiver \"outiliers\" muito acima da média.\n",
    "- `Por que adotar esse procedimento? Porque caso os deixe, em alguma análise futura esses dois casos poderão distorcer qualquer métrica e ou indicador`.\n",
    "    \n",
    "- Farei alguns agrupamentos na sequência para detalhar melhor as variáveis em análise."
   ]
  },
  {
   "cell_type": "code",
   "execution_count": 22,
   "id": "b177802c-b9a5-400c-b6db-f711018b404b",
   "metadata": {},
   "outputs": [
    {
     "data": {
      "text/html": [
       "<div>\n",
       "<style scoped>\n",
       "    .dataframe tbody tr th:only-of-type {\n",
       "        vertical-align: middle;\n",
       "    }\n",
       "\n",
       "    .dataframe tbody tr th {\n",
       "        vertical-align: top;\n",
       "    }\n",
       "\n",
       "    .dataframe thead th {\n",
       "        text-align: right;\n",
       "    }\n",
       "</style>\n",
       "<table border=\"1\" class=\"dataframe\">\n",
       "  <thead>\n",
       "    <tr style=\"text-align: right;\">\n",
       "      <th></th>\n",
       "      <th>UF</th>\n",
       "      <th>IDADE</th>\n",
       "      <th>ESCOLARIDADE</th>\n",
       "      <th>ESTADO_CIVIL</th>\n",
       "      <th>QT_FILHOS</th>\n",
       "      <th>CASA_PROPRIA</th>\n",
       "      <th>QT_IMOVEIS</th>\n",
       "      <th>VL_IMOVEIS</th>\n",
       "      <th>OUTRA_RENDA</th>\n",
       "      <th>OUTRA_RENDA_VALOR</th>\n",
       "      <th>TEMPO_ULTIMO_EMPREGO_MESES</th>\n",
       "      <th>TRABALHANDO_ATUALMENTE</th>\n",
       "      <th>ULTIMO_SALARIO</th>\n",
       "      <th>QT_CARROS</th>\n",
       "      <th>VALOR_TABELA_CARROS</th>\n",
       "      <th>SCORE</th>\n",
       "    </tr>\n",
       "  </thead>\n",
       "  <tbody>\n",
       "    <tr>\n",
       "      <th>27</th>\n",
       "      <td>SP</td>\n",
       "      <td>48</td>\n",
       "      <td>Superior Completo</td>\n",
       "      <td>Divorciado</td>\n",
       "      <td>38</td>\n",
       "      <td>Sim</td>\n",
       "      <td>2</td>\n",
       "      <td>600000</td>\n",
       "      <td>Não</td>\n",
       "      <td>0</td>\n",
       "      <td>15</td>\n",
       "      <td>Sim</td>\n",
       "      <td>15000.0000</td>\n",
       "      <td>1</td>\n",
       "      <td>70000</td>\n",
       "      <td>67.1667</td>\n",
       "    </tr>\n",
       "    <tr>\n",
       "      <th>10455</th>\n",
       "      <td>SP</td>\n",
       "      <td>45</td>\n",
       "      <td>Segundo Grau Completo</td>\n",
       "      <td>Casado</td>\n",
       "      <td>42</td>\n",
       "      <td>Sim</td>\n",
       "      <td>1</td>\n",
       "      <td>220000</td>\n",
       "      <td>Não</td>\n",
       "      <td>0</td>\n",
       "      <td>18</td>\n",
       "      <td>Sim</td>\n",
       "      <td>2200.0000</td>\n",
       "      <td>2</td>\n",
       "      <td>30000</td>\n",
       "      <td>23.0000</td>\n",
       "    </tr>\n",
       "  </tbody>\n",
       "</table>\n",
       "</div>"
      ],
      "text/plain": [
       "       UF  IDADE           ESCOLARIDADE ESTADO_CIVIL  QT_FILHOS CASA_PROPRIA  \\\n",
       "27     SP     48      Superior Completo   Divorciado         38          Sim   \n",
       "10455  SP     45  Segundo Grau Completo       Casado         42          Sim   \n",
       "\n",
       "       QT_IMOVEIS  VL_IMOVEIS OUTRA_RENDA  OUTRA_RENDA_VALOR  \\\n",
       "27              2      600000         Não                  0   \n",
       "10455           1      220000         Não                  0   \n",
       "\n",
       "       TEMPO_ULTIMO_EMPREGO_MESES TRABALHANDO_ATUALMENTE  ULTIMO_SALARIO  \\\n",
       "27                             15                    Sim      15000.0000   \n",
       "10455                          18                    Sim       2200.0000   \n",
       "\n",
       "       QT_CARROS  VALOR_TABELA_CARROS   SCORE  \n",
       "27             1                70000 67.1667  \n",
       "10455          2                30000 23.0000  "
      ]
     },
     "execution_count": 22,
     "metadata": {},
     "output_type": "execute_result"
    }
   ],
   "source": [
    "# Trazendo ambos os registros que estão acima da curva para ver quais são.\n",
    "\n",
    "df_raw.loc[ df_raw[ 'QT_FILHOS' ] > 4 ]"
   ]
  },
  {
   "cell_type": "code",
   "execution_count": 23,
   "id": "a22b388d-3798-4864-9f33-d35ede6573b6",
   "metadata": {},
   "outputs": [],
   "source": [
    "# Filtrando e efeturando à exclusão dos registros acima da curva.\n",
    "\n",
    "df_raw.drop(df_raw.loc[ df_raw[ 'QT_FILHOS' ] > 4 ].index, inplace=True )"
   ]
  },
  {
   "cell_type": "code",
   "execution_count": 24,
   "id": "7adc6e06-2c45-4eb2-bfe0-94f1d5f9a242",
   "metadata": {},
   "outputs": [
    {
     "data": {
      "text/html": [
       "<div>\n",
       "<style scoped>\n",
       "    .dataframe tbody tr th:only-of-type {\n",
       "        vertical-align: middle;\n",
       "    }\n",
       "\n",
       "    .dataframe tbody tr th {\n",
       "        vertical-align: top;\n",
       "    }\n",
       "\n",
       "    .dataframe thead th {\n",
       "        text-align: right;\n",
       "    }\n",
       "</style>\n",
       "<table border=\"1\" class=\"dataframe\">\n",
       "  <thead>\n",
       "    <tr style=\"text-align: right;\">\n",
       "      <th></th>\n",
       "      <th>OUTRA_RENDA_VALOR</th>\n",
       "      <th>0</th>\n",
       "    </tr>\n",
       "  </thead>\n",
       "  <tbody>\n",
       "    <tr>\n",
       "      <th>0</th>\n",
       "      <td>0</td>\n",
       "      <td>8350</td>\n",
       "    </tr>\n",
       "    <tr>\n",
       "      <th>1</th>\n",
       "      <td>2400</td>\n",
       "      <td>468</td>\n",
       "    </tr>\n",
       "    <tr>\n",
       "      <th>2</th>\n",
       "      <td>3000</td>\n",
       "      <td>612</td>\n",
       "    </tr>\n",
       "    <tr>\n",
       "      <th>3</th>\n",
       "      <td>3200</td>\n",
       "      <td>522</td>\n",
       "    </tr>\n",
       "    <tr>\n",
       "      <th>4</th>\n",
       "      <td>4000</td>\n",
       "      <td>522</td>\n",
       "    </tr>\n",
       "  </tbody>\n",
       "</table>\n",
       "</div>"
      ],
      "text/plain": [
       "   OUTRA_RENDA_VALOR     0\n",
       "0                  0  8350\n",
       "1               2400   468\n",
       "2               3000   612\n",
       "3               3200   522\n",
       "4               4000   522"
      ]
     },
     "execution_count": 24,
     "metadata": {},
     "output_type": "execute_result"
    }
   ],
   "source": [
    "# Agrupamento variável \"Outra Renda Valores\"\n",
    "\n",
    "agg_outra_renda_valor = df_raw.groupby( [ 'OUTRA_RENDA_VALOR' ] ).size().reset_index()\n",
    "agg_outra_renda_valor"
   ]
  },
  {
   "cell_type": "code",
   "execution_count": 25,
   "id": "f766c7cf-d3d9-4100-bd37-b45c3088eccc",
   "metadata": {},
   "outputs": [
    {
     "data": {
      "text/html": [
       "<div>\n",
       "<style scoped>\n",
       "    .dataframe tbody tr th:only-of-type {\n",
       "        vertical-align: middle;\n",
       "    }\n",
       "\n",
       "    .dataframe tbody tr th {\n",
       "        vertical-align: top;\n",
       "    }\n",
       "\n",
       "    .dataframe thead th {\n",
       "        text-align: right;\n",
       "    }\n",
       "</style>\n",
       "<table border=\"1\" class=\"dataframe\">\n",
       "  <thead>\n",
       "    <tr style=\"text-align: right;\">\n",
       "      <th></th>\n",
       "      <th>VALOR_TABELA_CARROS</th>\n",
       "      <th>0</th>\n",
       "    </tr>\n",
       "  </thead>\n",
       "  <tbody>\n",
       "    <tr>\n",
       "      <th>0</th>\n",
       "      <td>0</td>\n",
       "      <td>3762</td>\n",
       "    </tr>\n",
       "    <tr>\n",
       "      <th>1</th>\n",
       "      <td>28000</td>\n",
       "      <td>468</td>\n",
       "    </tr>\n",
       "    <tr>\n",
       "      <th>2</th>\n",
       "      <td>30000</td>\n",
       "      <td>791</td>\n",
       "    </tr>\n",
       "    <tr>\n",
       "      <th>3</th>\n",
       "      <td>35000</td>\n",
       "      <td>792</td>\n",
       "    </tr>\n",
       "    <tr>\n",
       "      <th>4</th>\n",
       "      <td>40000</td>\n",
       "      <td>792</td>\n",
       "    </tr>\n",
       "    <tr>\n",
       "      <th>5</th>\n",
       "      <td>48000</td>\n",
       "      <td>522</td>\n",
       "    </tr>\n",
       "    <tr>\n",
       "      <th>6</th>\n",
       "      <td>50000</td>\n",
       "      <td>1314</td>\n",
       "    </tr>\n",
       "    <tr>\n",
       "      <th>7</th>\n",
       "      <td>70000</td>\n",
       "      <td>521</td>\n",
       "    </tr>\n",
       "    <tr>\n",
       "      <th>8</th>\n",
       "      <td>80000</td>\n",
       "      <td>522</td>\n",
       "    </tr>\n",
       "    <tr>\n",
       "      <th>9</th>\n",
       "      <td>150000</td>\n",
       "      <td>468</td>\n",
       "    </tr>\n",
       "    <tr>\n",
       "      <th>10</th>\n",
       "      <td>180000</td>\n",
       "      <td>522</td>\n",
       "    </tr>\n",
       "  </tbody>\n",
       "</table>\n",
       "</div>"
      ],
      "text/plain": [
       "    VALOR_TABELA_CARROS     0\n",
       "0                     0  3762\n",
       "1                 28000   468\n",
       "2                 30000   791\n",
       "3                 35000   792\n",
       "4                 40000   792\n",
       "5                 48000   522\n",
       "6                 50000  1314\n",
       "7                 70000   521\n",
       "8                 80000   522\n",
       "9                150000   468\n",
       "10               180000   522"
      ]
     },
     "execution_count": 25,
     "metadata": {},
     "output_type": "execute_result"
    }
   ],
   "source": [
    "# Agrupamento variável \"Valores Tabel de Carros\"\n",
    "\n",
    "agg_tab_carros = df_raw.groupby( [ 'VALOR_TABELA_CARROS' ] ).size().reset_index()\n",
    "agg_tab_carros"
   ]
  },
  {
   "cell_type": "code",
   "execution_count": 26,
   "id": "0684f989-8d16-4eba-8d38-28348ab660cf",
   "metadata": {},
   "outputs": [
    {
     "data": {
      "text/html": [
       "<div>\n",
       "<style scoped>\n",
       "    .dataframe tbody tr th:only-of-type {\n",
       "        vertical-align: middle;\n",
       "    }\n",
       "\n",
       "    .dataframe tbody tr th {\n",
       "        vertical-align: top;\n",
       "    }\n",
       "\n",
       "    .dataframe thead th {\n",
       "        text-align: right;\n",
       "    }\n",
       "</style>\n",
       "<table border=\"1\" class=\"dataframe\">\n",
       "  <thead>\n",
       "    <tr style=\"text-align: right;\">\n",
       "      <th></th>\n",
       "      <th>QT_IMOVEIS</th>\n",
       "      <th>0</th>\n",
       "    </tr>\n",
       "  </thead>\n",
       "  <tbody>\n",
       "    <tr>\n",
       "      <th>0</th>\n",
       "      <td>0</td>\n",
       "      <td>4680</td>\n",
       "    </tr>\n",
       "    <tr>\n",
       "      <th>1</th>\n",
       "      <td>1</td>\n",
       "      <td>3761</td>\n",
       "    </tr>\n",
       "    <tr>\n",
       "      <th>2</th>\n",
       "      <td>2</td>\n",
       "      <td>989</td>\n",
       "    </tr>\n",
       "    <tr>\n",
       "      <th>3</th>\n",
       "      <td>3</td>\n",
       "      <td>1044</td>\n",
       "    </tr>\n",
       "  </tbody>\n",
       "</table>\n",
       "</div>"
      ],
      "text/plain": [
       "   QT_IMOVEIS     0\n",
       "0           0  4680\n",
       "1           1  3761\n",
       "2           2   989\n",
       "3           3  1044"
      ]
     },
     "execution_count": 26,
     "metadata": {},
     "output_type": "execute_result"
    }
   ],
   "source": [
    "# Agrupamento variável \"Qt. Imóveis\"\n",
    "\n",
    "agg_imoveis = df_raw.groupby( [ 'QT_IMOVEIS' ] ).size().reset_index()\n",
    "agg_imoveis"
   ]
  },
  {
   "cell_type": "markdown",
   "id": "71ffadba-e0ee-44c9-b945-0be84aeb78bc",
   "metadata": {},
   "source": [
    "### Aplicação de n_ gráficos para compreender a distância euclidiana\n",
    "\n",
    "  - Entender como estão distribuidas as variáveis observando e comparando uma à uma.\n",
    "    - Obs.: Há uma certa dispersão entre os dados por variável, e como conseguência entre elas o distândiamento é visível também. Algumas estão bem espaçadas, será preciso normalizar os dados para **Machine Learning**"
   ]
  },
  {
   "cell_type": "code",
   "execution_count": 27,
   "id": "e853ea37-cd93-4880-9848-916562291f4b",
   "metadata": {},
   "outputs": [
    {
     "data": {
      "image/png": "[encoded data removed]",
      "text/plain": [
       "<Figure size 1500x1200 with 12 Axes>"
      ]
     },
     "metadata": {},
     "output_type": "display_data"
    }
   ],
   "source": [
    "# For para gerar graficos das variáveis para ver como estão distribuidas\n",
    "\n",
    "plt.rcParams[ 'figure.figsize' ] = [15.00, 12.00]\n",
    "plt.rcParams[ 'figure.autolayout' ] = True\n",
    "\n",
    "f, axes = plt.subplots(4, 3)\n",
    "\n",
    "linha  = 0\n",
    "coluna = 0\n",
    "\n",
    "for i in var_num:\n",
    "    sns.histplot(data = df_raw, palette= [\"#001D3D\"], x=i, ax=axes[linha][coluna])    \n",
    "    coluna += 1\n",
    "    if coluna == 3:\n",
    "        linha += 1\n",
    "        coluna = 0            \n",
    "\n",
    "plt.grid(False),\n",
    "plt.box(False),\n",
    "\n",
    "plt.tight_layout()"
   ]
  },
  {
   "cell_type": "code",
   "execution_count": 28,
   "id": "06626933-1993-4bad-b7dd-79897d5415b9",
   "metadata": {},
   "outputs": [
    {
     "data": {
      "image/png": "[encoded data removed]",
      "text/plain": [
       "<Figure size 1800x800 with 2 Axes>"
      ]
     },
     "metadata": {},
     "output_type": "display_data"
    }
   ],
   "source": [
    "# Através do hitmap podemos observar a correlação entre todas as variáveis.\n",
    "\n",
    "plt.rcParams[\"figure.figsize\"] = ( 18, 8 )\n",
    "ax = sns.heatmap( df_raw.corr(), annot=True ) \n",
    "\n",
    "plt.title( 'MATRIZ DE CORRELAÇÃO ENTRE VARIÁVEIS', pad=25, fontsize=15, color='Black' );\n",
    "\n",
    "plt.tight_layout()"
   ]
  },
  {
   "cell_type": "code",
   "execution_count": 29,
   "id": "5a6f6a59-e73c-4a1f-a7ce-4ae9d4cd2182",
   "metadata": {},
   "outputs": [
    {
     "data": {
      "text/html": [
       "<div>\n",
       "<style scoped>\n",
       "    .dataframe tbody tr th:only-of-type {\n",
       "        vertical-align: middle;\n",
       "    }\n",
       "\n",
       "    .dataframe tbody tr th {\n",
       "        vertical-align: top;\n",
       "    }\n",
       "\n",
       "    .dataframe thead th {\n",
       "        text-align: right;\n",
       "    }\n",
       "</style>\n",
       "<table border=\"1\" class=\"dataframe\">\n",
       "  <thead>\n",
       "    <tr style=\"text-align: right;\">\n",
       "      <th></th>\n",
       "      <th>index</th>\n",
       "      <th>SCORE</th>\n",
       "    </tr>\n",
       "  </thead>\n",
       "  <tbody>\n",
       "    <tr>\n",
       "      <th>0</th>\n",
       "      <td>SCORE</td>\n",
       "      <td>1.0000</td>\n",
       "    </tr>\n",
       "    <tr>\n",
       "      <th>1</th>\n",
       "      <td>TEMPO_ULTIMO_EMPREGO_MESES</td>\n",
       "      <td>0.7598</td>\n",
       "    </tr>\n",
       "    <tr>\n",
       "      <th>2</th>\n",
       "      <td>VL_IMOVEIS</td>\n",
       "      <td>0.6496</td>\n",
       "    </tr>\n",
       "    <tr>\n",
       "      <th>3</th>\n",
       "      <td>ULTIMO_SALARIO</td>\n",
       "      <td>0.5963</td>\n",
       "    </tr>\n",
       "    <tr>\n",
       "      <th>4</th>\n",
       "      <td>QT_IMOVEIS</td>\n",
       "      <td>0.5793</td>\n",
       "    </tr>\n",
       "    <tr>\n",
       "      <th>5</th>\n",
       "      <td>OUTRA_RENDA_VALOR</td>\n",
       "      <td>0.3808</td>\n",
       "    </tr>\n",
       "    <tr>\n",
       "      <th>6</th>\n",
       "      <td>VALOR_TABELA_CARROS</td>\n",
       "      <td>0.3508</td>\n",
       "    </tr>\n",
       "    <tr>\n",
       "      <th>7</th>\n",
       "      <td>QT_FILHOS</td>\n",
       "      <td>0.3346</td>\n",
       "    </tr>\n",
       "    <tr>\n",
       "      <th>8</th>\n",
       "      <td>IDADE</td>\n",
       "      <td>0.2198</td>\n",
       "    </tr>\n",
       "    <tr>\n",
       "      <th>9</th>\n",
       "      <td>QT_CARROS</td>\n",
       "      <td>0.0644</td>\n",
       "    </tr>\n",
       "  </tbody>\n",
       "</table>\n",
       "</div>"
      ],
      "text/plain": [
       "                        index  SCORE\n",
       "0                       SCORE 1.0000\n",
       "1  TEMPO_ULTIMO_EMPREGO_MESES 0.7598\n",
       "2                  VL_IMOVEIS 0.6496\n",
       "3              ULTIMO_SALARIO 0.5963\n",
       "4                  QT_IMOVEIS 0.5793\n",
       "5           OUTRA_RENDA_VALOR 0.3808\n",
       "6         VALOR_TABELA_CARROS 0.3508\n",
       "7                   QT_FILHOS 0.3346\n",
       "8                       IDADE 0.2198\n",
       "9                   QT_CARROS 0.0644"
      ]
     },
     "execution_count": 29,
     "metadata": {},
     "output_type": "execute_result"
    }
   ],
   "source": [
    "# Relatório das variáveis que conrrelacionam-se   \n",
    "\n",
    "describe = df_raw.corr()[ 'SCORE' ].sort_values(ascending=False).reset_index()\n",
    "describe"
   ]
  },
  {
   "cell_type": "markdown",
   "id": "d992d852-90a2-46b5-97a0-de466a7791c8",
   "metadata": {},
   "source": [
    "* Fica evidente que quanto melhor a média por tempo de serviço - emprego, maior é a pontuação \"Score\""
   ]
  },
  {
   "cell_type": "code",
   "execution_count": 30,
   "id": "254663c1-1e77-43f4-8656-8c513d3bac6e",
   "metadata": {},
   "outputs": [
    {
     "data": {
      "image/png": "[encoded data removed]",
      "text/plain": [
       "<Figure size 500x500 with 1 Axes>"
      ]
     },
     "metadata": {},
     "output_type": "display_data"
    }
   ],
   "source": [
    "# Olnando para à matriz de correlação, vejo uma forte correlação entre Score X \"Tempo último emprego meses\". Aplicarei um gráfico para entendimento.\n",
    "\n",
    "sns.lmplot(x = 'TEMPO_ULTIMO_EMPREGO_MESES', y = 'SCORE', data = df_raw );\n",
    "plt.title( 'TESTE' )\n",
    "\n",
    "plt.show()"
   ]
  },
  {
   "cell_type": "markdown",
   "id": "040a39b1-37cb-4317-838e-1a3218f91319",
   "metadata": {},
   "source": [
    "* Fica evidente que quanto melhor a média do Valor do Imóvel, melhor à pontuação \"Score\""
   ]
  },
  {
   "cell_type": "markdown",
   "id": "86dac1b8-6ba3-4a97-94a9-a049da09ee01",
   "metadata": {},
   "source": [
    "### Engenharia de Atributos\n",
    "  - Criarei nova variável para segmentar por faixa de idade ( `clusterizar/agrupar` )\n",
    "  - Idade mínima, média, máxima e faixa da moda das `idades` que deverá ter um range que inícia em **( 0 ) e possívelmente irá até ( 50 )**, pelo que já ví anteriormente."
   ]
  },
  {
   "cell_type": "code",
   "execution_count": 31,
   "id": "51349d67-8266-497c-b851-1282a2eee461",
   "metadata": {},
   "outputs": [
    {
     "name": "stdout",
     "output_type": "stream",
     "text": [
      "\n",
      "Python, traga resultado dos parâmetros informados:\n",
      "\n",
      "Quero a menor idade   :\f",
      " 19\n",
      "Quero a média de idade:\f",
      " 41.05308382661829\n",
      "Quero a maior idade   :\f",
      " 65\n",
      "Quero a moda de idade :\f",
      " 0    51\n",
      "Name: IDADE, dtype: int64\n"
     ]
    }
   ],
   "source": [
    "# Criando minímo, médio, máximo e moda de idades dos clientes na base\n",
    "\n",
    "print( f'\\nPython, traga resultado dos parâmetros informados:\\n' )\n",
    "print( f'Quero a menor idade   :\\f', df_raw[ 'IDADE' ].min  () )\n",
    "print( f'Quero a média de idade:\\f', df_raw[ 'IDADE' ].mean () )\n",
    "print( f'Quero a maior idade   :\\f', df_raw[ 'IDADE' ].max  () )\n",
    "print( f'Quero a moda de idade :\\f', df_raw[ 'IDADE' ].mode () )"
   ]
  },
  {
   "cell_type": "code",
   "execution_count": 32,
   "id": "bd120d91-8eb7-491f-819a-e698fa26fc19",
   "metadata": {},
   "outputs": [
    {
     "data": {
      "application/javascript": [
       "\n",
       "        if (window._pyforest_update_imports_cell) { window._pyforest_update_imports_cell('import matplotlib as mpl\\nimport pandas as pd\\nimport sys'); }\n",
       "    "
      ],
      "text/plain": [
       "<IPython.core.display.Javascript object>"
      ]
     },
     "metadata": {},
     "output_type": "display_data"
    },
    {
     "name": "stdout",
     "output_type": "stream",
     "text": [
      "\n",
      "Categorização dos clientes por faixa de idade:\n"
     ]
    },
    {
     "data": {
      "text/plain": [
       "De 25-35    3070\n",
       "De 45-55    2663\n",
       "De 55-65    1692\n",
       "De 35-45    1302\n",
       "De 20-25    1189\n",
       "Name: FAIXA_ETARIA, dtype: int64"
      ]
     },
     "execution_count": 32,
     "metadata": {},
     "output_type": "execute_result"
    }
   ],
   "source": [
    "# Criação de Atributos faixa etaria ( idades )\n",
    "\n",
    "class_idade_categ = [ 20, 25, 35, 45, 55, 65 ]\n",
    "\n",
    "categorizacao_idades = [ 'De 20-25', 'De 25-35', 'De 35-45', 'De 45-55', 'De 55-65' ] \n",
    "df_raw[ 'FAIXA_ETARIA' ] = pd.cut(df_raw[ 'IDADE' ], class_idade_categ, labels = categorizacao_idades ) \n",
    "\n",
    "print( '\\nCategorização dos clientes por faixa de idade:' )\n",
    "\n",
    "categorizacao = df_raw[ 'FAIXA_ETARIA' ].value_counts()\n",
    "categorizacao.head()"
   ]
  },
  {
   "cell_type": "code",
   "execution_count": 33,
   "id": "6229ff61-c6cb-4686-9405-abde0215bcf3",
   "metadata": {},
   "outputs": [
    {
     "data": {
      "text/plain": [
       "FAIXA_ETARIA\n",
       "De 20-25   44.2024\n",
       "De 25-35   47.9286\n",
       "De 35-45   50.1211\n",
       "De 45-55   55.2219\n",
       "De 55-65   60.1809\n",
       "Name: SCORE, dtype: float64"
      ]
     },
     "execution_count": 33,
     "metadata": {},
     "output_type": "execute_result"
    }
   ],
   "source": [
    "# Agrupamento pela variável Score\n",
    "\n",
    "agg_categ_cli_idade = df_raw.groupby( [ 'FAIXA_ETARIA' ] ).mean()[ 'SCORE' ]\n",
    "agg_categ_cli_idade.head()"
   ]
  },
  {
   "cell_type": "code",
   "execution_count": 34,
   "id": "d6638625-4626-4ca6-bad7-728f43d146a6",
   "metadata": {},
   "outputs": [
    {
     "name": "stdout",
     "output_type": "stream",
     "text": [
      "Python, imprima quantitativo por faixa de idade em percentual\n",
      "\n"
     ]
    },
    {
     "data": {
      "text/plain": [
       "De 25-35    30.96%\n",
       "De 45-55    26.86%\n",
       "De 55-65    17.06%\n",
       "De 35-45    13.13%\n",
       "De 20-25    11.99%\n",
       "Name: FAIXA_ETARIA, dtype: object"
      ]
     },
     "execution_count": 34,
     "metadata": {},
     "output_type": "execute_result"
    }
   ],
   "source": [
    "# Conhecendo o quantitativo das ocorrências de \"ESTADO_CIVIL\" com Percentil\n",
    "\n",
    "print( 'Python, imprima quantitativo por faixa de idade em percentual\\n' )\n",
    "df_raw[ 'FAIXA_ETARIA' ].value_counts( normalize=True ).map(\"{:.2%}\".format)"
   ]
  },
  {
   "cell_type": "markdown",
   "id": "3b65d27e-7d8a-4d7b-b806-116bd664fe76",
   "metadata": {},
   "source": [
    "* Criação de uma variável (target) com classificação para filtros e predições que serão feitas com base em alguns atributos dos indivíduos\n",
    "  - Não  - Não aprovado! Critério principale adotado: quando os clientes têm menos de 12 meses de emprego.\n",
    "  - Sim  - Aprovado com sucesso!."
   ]
  },
  {
   "cell_type": "code",
   "execution_count": 35,
   "id": "f232d603-b397-4cd0-926d-17f755a64fb6",
   "metadata": {},
   "outputs": [],
   "source": [
    "# Criação de uma variável emprestimo com condição se, tempo de trabalho for < q\\ 12 recebe não, se > 12 recebe sim.\n",
    "\n",
    "df_raw[ 'EMPRESTIMO' ] = np.where( df_raw[ 'TEMPO_ULTIMO_EMPREGO_MESES' ] <=12, 'Não', 'Sim' )\n"
   ]
  },
  {
   "cell_type": "code",
   "execution_count": 36,
   "id": "6f0b7224-3904-4b73-ac56-c2466a5bcd54",
   "metadata": {},
   "outputs": [
    {
     "data": {
      "text/plain": [
       "EMPRESTIMO\n",
       "Não   30.1903\n",
       "Sim   56.4818\n",
       "Name: SCORE, dtype: float64"
      ]
     },
     "execution_count": 36,
     "metadata": {},
     "output_type": "execute_result"
    }
   ],
   "source": [
    "# Agrupamento pela variável Score\n",
    "\n",
    "agg_analise_emprestimo = df_raw.groupby( [ 'EMPRESTIMO' ] ).mean()[ 'SCORE' ]\n",
    "agg_analise_emprestimo.head()"
   ]
  },
  {
   "cell_type": "code",
   "execution_count": 37,
   "id": "e68630ca-f7e1-4014-ba2d-759dacfc49c0",
   "metadata": {},
   "outputs": [
    {
     "name": "stdout",
     "output_type": "stream",
     "text": [
      "Python, imprima quantitativo por tempo de trabalho em percentual\n",
      "\n"
     ]
    },
    {
     "data": {
      "text/plain": [
       "Sim    79.38%\n",
       "Não    20.62%\n",
       "Name: EMPRESTIMO, dtype: object"
      ]
     },
     "execution_count": 37,
     "metadata": {},
     "output_type": "execute_result"
    }
   ],
   "source": [
    "# Conhecendo o quantitativo dos indivíduos com maior tempo de trabalho, sendo superior há 12 meses.\n",
    "\n",
    "print( 'Python, imprima quantitativo por tempo de trabalho em percentual\\n' )\n",
    "df_raw[ 'EMPRESTIMO' ].value_counts( normalize=True ).map(\"{:.2%}\".format)"
   ]
  },
  {
   "cell_type": "markdown",
   "id": "a9667e00-84ee-4918-9bd8-b5267bbe4c06",
   "metadata": {},
   "source": [
    "---\n",
    "* Quando aplicar tranformação LabelEncoder as tranformações seguirão a seguinte lógica:\n",
    "\n",
    "  - Não = ( 0 )\n",
    "  - Sim = ( 1 )"
   ]
  },
  {
   "cell_type": "code",
   "execution_count": 38,
   "id": "b228a14c-a16b-471b-a114-285f22a19b34",
   "metadata": {},
   "outputs": [
    {
     "data": {
      "application/javascript": [
       "\n",
       "        if (window._pyforest_update_imports_cell) { window._pyforest_update_imports_cell('import matplotlib as mpl\\nimport pandas as pd\\nimport sys'); }\n",
       "    "
      ],
      "text/plain": [
       "<IPython.core.display.Javascript object>"
      ]
     },
     "metadata": {},
     "output_type": "display_data"
    },
    {
     "data": {
      "text/html": [
       "<div>\n",
       "<style scoped>\n",
       "    .dataframe tbody tr th:only-of-type {\n",
       "        vertical-align: middle;\n",
       "    }\n",
       "\n",
       "    .dataframe tbody tr th {\n",
       "        vertical-align: top;\n",
       "    }\n",
       "\n",
       "    .dataframe thead th {\n",
       "        text-align: right;\n",
       "    }\n",
       "</style>\n",
       "<table border=\"1\" class=\"dataframe\">\n",
       "  <thead>\n",
       "    <tr style=\"text-align: right;\">\n",
       "      <th></th>\n",
       "      <th>Score:</th>\n",
       "      <th>12.0</th>\n",
       "      <th>18.0</th>\n",
       "      <th>23.0</th>\n",
       "      <th>28.6666666666667</th>\n",
       "      <th>34.1666666666667</th>\n",
       "      <th>39.6666666666667</th>\n",
       "      <th>45.1666666666667</th>\n",
       "      <th>50.6666666666667</th>\n",
       "      <th>56.1666666666667</th>\n",
       "      <th>61.6666666666667</th>\n",
       "      <th>67.1666666666667</th>\n",
       "      <th>72.6666666666667</th>\n",
       "      <th>78.1666666666667</th>\n",
       "      <th>83.6666666666667</th>\n",
       "      <th>89.1666666666667</th>\n",
       "      <th>94.6666666666667</th>\n",
       "      <th>98.0</th>\n",
       "    </tr>\n",
       "  </thead>\n",
       "  <tbody>\n",
       "    <tr>\n",
       "      <th>0</th>\n",
       "      <td>Não</td>\n",
       "      <td>846</td>\n",
       "      <td>792</td>\n",
       "      <td>0</td>\n",
       "      <td>0</td>\n",
       "      <td>0</td>\n",
       "      <td>0</td>\n",
       "      <td>0</td>\n",
       "      <td>0</td>\n",
       "      <td>0</td>\n",
       "      <td>0</td>\n",
       "      <td>0</td>\n",
       "      <td>0</td>\n",
       "      <td>522</td>\n",
       "      <td>0</td>\n",
       "      <td>0</td>\n",
       "      <td>0</td>\n",
       "      <td>0</td>\n",
       "    </tr>\n",
       "    <tr>\n",
       "      <th>1</th>\n",
       "      <td>Sim</td>\n",
       "      <td>0</td>\n",
       "      <td>0</td>\n",
       "      <td>791</td>\n",
       "      <td>792</td>\n",
       "      <td>792</td>\n",
       "      <td>792</td>\n",
       "      <td>612</td>\n",
       "      <td>468</td>\n",
       "      <td>468</td>\n",
       "      <td>468</td>\n",
       "      <td>521</td>\n",
       "      <td>522</td>\n",
       "      <td>0</td>\n",
       "      <td>522</td>\n",
       "      <td>522</td>\n",
       "      <td>522</td>\n",
       "      <td>522</td>\n",
       "    </tr>\n",
       "  </tbody>\n",
       "</table>\n",
       "</div>"
      ],
      "text/plain": [
       "  Score:  12.0  18.0  23.0  28.6666666666667  34.1666666666667  \\\n",
       "0    Não   846   792     0                 0                 0   \n",
       "1    Sim     0     0   791               792               792   \n",
       "\n",
       "   39.6666666666667  45.1666666666667  50.6666666666667  56.1666666666667  \\\n",
       "0                 0                 0                 0                 0   \n",
       "1               792               612               468               468   \n",
       "\n",
       "   61.6666666666667  67.1666666666667  72.6666666666667  78.1666666666667  \\\n",
       "0                 0                 0                 0               522   \n",
       "1               468               521               522                 0   \n",
       "\n",
       "   83.6666666666667  89.1666666666667  94.6666666666667  98.0  \n",
       "0                 0                 0                 0     0  \n",
       "1               522               522               522   522  "
      ]
     },
     "execution_count": 38,
     "metadata": {},
     "output_type": "execute_result"
    }
   ],
   "source": [
    "# Crosstab dos quantitativos da variável emprestimo X score\n",
    "\n",
    "dfemp = pd.crosstab(df_raw[ 'EMPRESTIMO' ],df_raw[ 'SCORE' ] )\n",
    "dfemp.index.name,dfemp.columns.name = ( 'Score:','' )\n",
    "dfemp.reset_index()"
   ]
  },
  {
   "cell_type": "code",
   "execution_count": 39,
   "id": "1e77fba1-c699-4d2b-93e1-8f3de35c35f3",
   "metadata": {},
   "outputs": [
    {
     "name": "stdout",
     "output_type": "stream",
     "text": [
      "Python, imprima quantitativo de cancelamentos por tipo de ocorrência\n",
      "\n"
     ]
    },
    {
     "data": {
      "text/plain": [
       "Sim    8314\n",
       "Não    2160\n",
       "Name: EMPRESTIMO, dtype: int64"
      ]
     },
     "metadata": {},
     "output_type": "display_data"
    },
    {
     "name": "stdout",
     "output_type": "stream",
     "text": [
      "\n",
      "Python, imprima quantitativo de cancelamentos por tipo de ocorrência em percentual\n",
      "\n"
     ]
    },
    {
     "data": {
      "text/plain": [
       "Sim    79.38%\n",
       "Não    20.62%\n",
       "Name: EMPRESTIMO, dtype: object"
      ]
     },
     "metadata": {},
     "output_type": "display_data"
    }
   ],
   "source": [
    "# Conhecendo o quantitativo das ocorrências de \"Churn\" com Percentil\n",
    "\n",
    "print( 'Python, imprima quantitativo de cancelamentos por tipo de ocorrência\\n' )\n",
    "display( df_raw[ 'EMPRESTIMO' ].value_counts())\n",
    "print( )\n",
    "print( 'Python, imprima quantitativo de cancelamentos por tipo de ocorrência em percentual\\n' )\n",
    "display( df_raw[ 'EMPRESTIMO' ].value_counts( normalize=True ).map(\"{:.2%}\".format))"
   ]
  },
  {
   "cell_type": "code",
   "execution_count": 40,
   "id": "e32c324a-b945-4957-b7f8-191f54a14e75",
   "metadata": {},
   "outputs": [
    {
     "name": "stdout",
     "output_type": "stream",
     "text": [
      "\n"
     ]
    },
    {
     "data": {
      "image/png": "[encoded data removed]",
      "text/plain": [
       "<Figure size 1500x500 with 1 Axes>"
      ]
     },
     "metadata": {},
     "output_type": "display_data"
    }
   ],
   "source": [
    "# Aplicação de gráfico customizado nova variável agrupada faixa etária e Score\n",
    "\n",
    "print( )\n",
    "fig, ax = plt.subplots(figsize=( 15, 5 ) )\n",
    "agg_analise_emprestimo.plot( kind='bar', color = [ '#80FFDB' ] );\n",
    "    \n",
    "plt.xlabel( 'ESCALA EMPREGABILIDADE TEMPO', fontsize= 10, color='#04052E' )\n",
    "plt.ylabel( 'SCORE - CLIENTES',  fontsize= 10, color='#04052E' )\n",
    "\n",
    "for i in ax.patches:\n",
    "      ax.annotate(format( i.get_height(), '.3f')+\"\",\n",
    "                                 (i.get_x() + i.get_width() / 2, \n",
    "                                  i.get_height() +1 ),\n",
    "                                  ha='center',\n",
    "                                  va='baseline',\n",
    "                                  fontsize= 13,\n",
    "                                  color='#04052E',\n",
    "                                  fontweight='ultralight',\n",
    "                                  xytext=( 0, 1 ),\n",
    "                                  rotation= 0.0,\n",
    "                                  textcoords='offset pixels' ), \n",
    "plt.text( x= -1.7, \n",
    "         y= 40,\n",
    "         s='$\\\\bf{NOTAÇÃO}$\\n'\n",
    "         'A maior média\\n'\n",
    "         'está concentrada\\n'\n",
    "         'entre os indivíduos com \\n'\n",
    "         'Score médio bom e emprego\\n'\n",
    "         'superior há 12 meses.',\n",
    "         verticalalignment=\"top\",\n",
    "         fontsize=12,\n",
    "         color='#00072D' ); \n",
    "\n",
    "plt.xticks( color='#04052E', \n",
    "            fontsize=12, rotation= 0 )\n",
    "\n",
    "plt.legend()\n",
    "plt.grid( False )\n",
    "plt.box( False )\n",
    "plt.title( 'QUANTITATIVO POR FAIXA DE ADERÊNCIA AO CRÉDITO', \n",
    "                        pad=25, fontsize=14, color='#04052E' )\n",
    "\n",
    "plt.tight_layout()"
   ]
  },
  {
   "cell_type": "code",
   "execution_count": 41,
   "id": "9ff4b06d-2da5-4a54-afd4-d45ec40a507a",
   "metadata": {},
   "outputs": [
    {
     "name": "stdout",
     "output_type": "stream",
     "text": [
      "\n"
     ]
    },
    {
     "data": {
      "image/png": "[encoded data removed]",
      "text/plain": [
       "<Figure size 1500x500 with 1 Axes>"
      ]
     },
     "metadata": {},
     "output_type": "display_data"
    }
   ],
   "source": [
    "# Aplicação de gráfico customizado nova variável agrupada faixa etária e Score\n",
    "\n",
    "print( )\n",
    "fig, ax = plt.subplots(figsize=( 15, 5 ) )\n",
    "agg_categ_cli_idade.plot( kind='bar', color = [ '#1FEAEA' ] );\n",
    "    \n",
    "plt.xlabel( 'ESCALA FAIXA IDADES', fontsize= 10, color='#04052E' )\n",
    "plt.ylabel( 'SCORE - CLIENTES',  fontsize= 10, color='#04052E' )\n",
    "\n",
    "for i in ax.patches:\n",
    "      ax.annotate(format( i.get_height(), '.3f')+\"\",\n",
    "                                 (i.get_x() + i.get_width() / 2, \n",
    "                                  i.get_height() +1 ),\n",
    "                                  ha='center',\n",
    "                                  va='baseline',\n",
    "                                  fontsize= 13,\n",
    "                                  color='#04052E',\n",
    "                                  fontweight='ultralight',\n",
    "                                  xytext=( 0, 1 ),\n",
    "                                  rotation= 0.0,\n",
    "                                  textcoords='offset pixels' ), \n",
    "plt.text( x= -1.7, \n",
    "         y= 40,\n",
    "         s='$\\\\bf{NOTAÇÃO}$\\n'\n",
    "         'A maior média\\n'\n",
    "         'está concentrada\\n'\n",
    "         'entre os indivíduos com \\n'\n",
    "         'idade entre 35 e 65 .',\n",
    "         verticalalignment=\"top\",\n",
    "         fontsize=12,\n",
    "         color='#00072D' ); \n",
    "\n",
    "plt.xticks( color='#04052E', \n",
    "            fontsize=12, rotation= 0 )\n",
    "\n",
    "plt.legend()\n",
    "plt.grid( False )\n",
    "plt.box( False )\n",
    "plt.axhline(y = .5, xmin = 0.5, xmax = 0.9, color='#D90429')\n",
    "plt.title( 'QUANTITATIVO POR FAIXA DE IDADE X SCORE MÉDIO', \n",
    "                        pad=25, fontsize=14, color='#04052E' )\n",
    "\n",
    "plt.tight_layout()"
   ]
  },
  {
   "cell_type": "code",
   "execution_count": 42,
   "id": "4daf47af-ae15-4584-9522-f915bc3be341",
   "metadata": {},
   "outputs": [
    {
     "data": {
      "text/plain": [
       "ESCOLARIDADE\n",
       "Segundo Grau Completo   49.9590\n",
       "Superior Completo       52.8450\n",
       "Superior Cursando       50.2151\n",
       "Name: SCORE, dtype: float64"
      ]
     },
     "execution_count": 42,
     "metadata": {},
     "output_type": "execute_result"
    }
   ],
   "source": [
    "# Agrupamento pela variável Escolaridade\n",
    "\n",
    "agg_escol_score = df_raw.groupby( [ 'ESCOLARIDADE' ] ).mean()[ 'SCORE' ]\n",
    "agg_escol_score.head()"
   ]
  },
  {
   "cell_type": "code",
   "execution_count": 43,
   "id": "51fba607-4299-4763-b842-f7a8b572f979",
   "metadata": {},
   "outputs": [
    {
     "name": "stdout",
     "output_type": "stream",
     "text": [
      "Python, imprima quantitativo por escolaridade em percentual\n",
      "\n"
     ]
    },
    {
     "data": {
      "text/plain": [
       "Superior Completo        35.05%\n",
       "Superior Cursando        34.89%\n",
       "Segundo Grau Completo    30.06%\n",
       "Name: ESCOLARIDADE, dtype: object"
      ]
     },
     "execution_count": 43,
     "metadata": {},
     "output_type": "execute_result"
    }
   ],
   "source": [
    "# Conhecendo o quantitativo das ocorrências de \"ESTADO_CIVIL\" com Percentil\n",
    "\n",
    "print( 'Python, imprima quantitativo por escolaridade em percentual\\n' )\n",
    "df_raw[ 'ESCOLARIDADE' ].value_counts( normalize=True ).map(\"{:.2%}\".format)"
   ]
  },
  {
   "cell_type": "code",
   "execution_count": 44,
   "id": "78b3918c-fccf-4e0e-afc2-884c425ba55a",
   "metadata": {},
   "outputs": [
    {
     "name": "stdout",
     "output_type": "stream",
     "text": [
      "\n"
     ]
    },
    {
     "data": {
      "image/png": "[encoded data removed]",
      "text/plain": [
       "<Figure size 1500x500 with 1 Axes>"
      ]
     },
     "metadata": {},
     "output_type": "display_data"
    }
   ],
   "source": [
    "# Aplicação de gráfico customizado nova variável agrupada faixa escolaridade e Score\n",
    "\n",
    "print( )\n",
    "fig, ax = plt.subplots(figsize=( 15, 5 ) )\n",
    "agg_escol_score.plot( kind='bar', color = [ '#00CECB' ] );\n",
    "    \n",
    "plt.xlabel( 'ESCALA ESCOLARIDADE', fontsize= 10, color='#00072D' )\n",
    "plt.ylabel( 'SCORE - CLIENTES',  fontsize= 10, color='#00072D' )\n",
    "\n",
    "for i in ax.patches:\n",
    "      ax.annotate(format( i.get_height(), '.3f')+\"\",\n",
    "                                 (i.get_x() + i.get_width() / 2, \n",
    "                                  i.get_height() +1),\n",
    "                                  ha='center',\n",
    "                                  va='baseline',\n",
    "                                  fontsize= 13,\n",
    "                                  color='#00072D',\n",
    "                                  fontweight='ultralight',\n",
    "                                  xytext=( 0, 1 ),\n",
    "                                  rotation= 0.0,\n",
    "                                  textcoords='offset pixels'), \n",
    "\n",
    "plt.text( x= -1.3, \n",
    "          y= 40,\n",
    "          s='$\\\\bf{NOTAÇÃO}$\\n'\n",
    "          'A maior média\\n'\n",
    "          'está concentrada\\n'\n",
    "          'entre os indivíduos com \\n'\n",
    "          'superior completo.',\n",
    "          verticalalignment=\"top\",\n",
    "          fontsize=13,\n",
    "          color='#00072D' );\n",
    "\n",
    "plt.xticks( color='#00072D',\n",
    "            fontsize= 12, rotation= 0 )\n",
    "plt.legend()\n",
    "plt.grid( False )\n",
    "plt.box( False )\n",
    "plt.title( 'QUANTITATIVO POR FAIXA DE ESCOLARIDADE X SCORE', \n",
    "                        pad=25, fontsize=14, color='#00072D' )\n",
    "\n",
    "plt.tight_layout()"
   ]
  },
  {
   "cell_type": "code",
   "execution_count": 45,
   "id": "e1261aaa-e1ba-4f42-9e53-a2ec0f25f39a",
   "metadata": {},
   "outputs": [
    {
     "data": {
      "text/plain": [
       "ESTADO_CIVIL\n",
       "Casado       57.2318\n",
       "Divorciado   48.1512\n",
       "Solteiro     36.5463\n",
       "Viuvo        78.9323\n",
       "Name: SCORE, dtype: float64"
      ]
     },
     "execution_count": 45,
     "metadata": {},
     "output_type": "execute_result"
    }
   ],
   "source": [
    "# Agrupamento pela variável estado civil\n",
    "\n",
    "agg_est_civil_score = df_raw.groupby( [ 'ESTADO_CIVIL' ] ).mean()[ 'SCORE' ]\n",
    "agg_est_civil_score.head()"
   ]
  },
  {
   "cell_type": "code",
   "execution_count": 46,
   "id": "f4307115-fe9a-400d-8f8e-83c61cc0f8d6",
   "metadata": {},
   "outputs": [
    {
     "name": "stdout",
     "output_type": "stream",
     "text": [
      "Python, imprima quantitativo por estado civil em percentual\n",
      "\n"
     ]
    },
    {
     "data": {
      "text/plain": [
       "Casado        45.02%\n",
       "Solteiro      24.75%\n",
       "Divorciado    24.74%\n",
       "Viuvo          5.50%\n",
       "Name: ESTADO_CIVIL, dtype: object"
      ]
     },
     "execution_count": 46,
     "metadata": {},
     "output_type": "execute_result"
    }
   ],
   "source": [
    "# Conhecendo o quantitativo das ocorrências de \"ESTADO_CIVIL\" com Percentil\n",
    "\n",
    "print( 'Python, imprima quantitativo por estado civil em percentual\\n' )\n",
    "df_raw[ 'ESTADO_CIVIL' ].value_counts( normalize=True ).map(\"{:.2%}\".format)"
   ]
  },
  {
   "cell_type": "code",
   "execution_count": 47,
   "id": "b76e6258-41bc-4a0d-b513-1ee1145a02d5",
   "metadata": {},
   "outputs": [
    {
     "name": "stdout",
     "output_type": "stream",
     "text": [
      "\n"
     ]
    },
    {
     "data": {
      "image/png": "[encoded data removed]",
      "text/plain": [
       "<Figure size 1500x500 with 1 Axes>"
      ]
     },
     "metadata": {},
     "output_type": "display_data"
    }
   ],
   "source": [
    "# Aplicação de gráfico customizado nova variável agrupada faixa escolaridade e Score\n",
    "\n",
    "print( )\n",
    "fig, ax = plt.subplots(figsize=( 15, 5 ) )\n",
    "agg_est_civil_score.plot( kind='bar', color = [ '#FF5400' ] );\n",
    "    \n",
    "plt.xlabel( 'ESTADO CIVIL', fontsize= 12, color='#03045E' )\n",
    "plt.ylabel( 'SCORE - CLIENTES',  fontsize= 12, color='#03045E' )\n",
    "\n",
    "for i in ax.patches:\n",
    "      ax.annotate(format( i.get_height(), '.3f')+\"\",\n",
    "                                 (i.get_x() + i.get_width() / 2, \n",
    "                                  i.get_height() +1),\n",
    "                                  ha='center',\n",
    "                                  va='baseline',\n",
    "                                  fontsize= 13,\n",
    "                                  color='#03045E',\n",
    "                                  fontweight='ultralight',\n",
    "                                  xytext=( 0, 1 ),\n",
    "                                  rotation= 0.0,\n",
    "                                  textcoords='offset pixels'), \n",
    "plt.text( x= -1.7, \n",
    "          y= 40,\n",
    "          s='$\\\\bf{NOTAÇÃO}$\\n'\n",
    "          'A maior média\\n'\n",
    "          'está concentrada\\n'\n",
    "          'entre os indivíduos viúvos\\n'\n",
    "          'e casados.',\n",
    "          verticalalignment=\"top\",\n",
    "          fontsize=13,\n",
    "          color='#00072D' ); \n",
    "\n",
    "plt.xticks( color='#03045E', \n",
    "            fontsize=12, rotation= 0 )\n",
    "plt.legend()\n",
    "plt.grid( False )\n",
    "plt.box( False )\n",
    "plt.title( 'QUANTITATIVO POR ESTADO CIVIL X SCORE', \n",
    "                        pad=25, fontsize=14, color='#03045E' )\n",
    "\n",
    "plt.tight_layout()"
   ]
  },
  {
   "cell_type": "code",
   "execution_count": 48,
   "id": "8a918ff6-dda9-4234-a431-34d43c7d67fb",
   "metadata": {},
   "outputs": [
    {
     "data": {
      "text/plain": [
       "TRABALHANDO_ATUALMENTE\n",
       "Não   59.9029\n",
       "Sim   45.2799\n",
       "Name: SCORE, dtype: float64"
      ]
     },
     "execution_count": 48,
     "metadata": {},
     "output_type": "execute_result"
    }
   ],
   "source": [
    "# Agrupamento pela variável estado civil\n",
    "\n",
    "agg_empregado_score = df_raw.groupby( [ 'TRABALHANDO_ATUALMENTE' ] ).mean()[ 'SCORE' ]\n",
    "agg_empregado_score.head()"
   ]
  },
  {
   "cell_type": "code",
   "execution_count": 49,
   "id": "f028216e-5e0f-4876-b2f0-50690b50cd20",
   "metadata": {},
   "outputs": [
    {
     "name": "stdout",
     "output_type": "stream",
     "text": [
      "Python, imprima quantitativo se está empregado ou não percentual\n",
      "\n"
     ]
    },
    {
     "data": {
      "text/plain": [
       "Sim    60.47%\n",
       "Não    39.53%\n",
       "Name: TRABALHANDO_ATUALMENTE, dtype: object"
      ]
     },
     "execution_count": 49,
     "metadata": {},
     "output_type": "execute_result"
    }
   ],
   "source": [
    "# Conhecendo o quantitativo das ocorrências de \"emprego\" com Percentil\n",
    "\n",
    "print( 'Python, imprima quantitativo se está empregado ou não percentual\\n' )\n",
    "df_raw[ 'TRABALHANDO_ATUALMENTE' ].value_counts( normalize=True ).map(\"{:.2%}\".format)"
   ]
  },
  {
   "cell_type": "code",
   "execution_count": 50,
   "id": "7b25cf7b-3576-4480-909a-d58486b362db",
   "metadata": {},
   "outputs": [
    {
     "data": {
      "text/plain": [
       "CASA_PROPRIA\n",
       "Não   47.8097\n",
       "Sim   54.9764\n",
       "Name: SCORE, dtype: float64"
      ]
     },
     "execution_count": 50,
     "metadata": {},
     "output_type": "execute_result"
    }
   ],
   "source": [
    "# Agrupamento pela variável estado civil\n",
    "\n",
    "agg_casaprop_score = df_raw.groupby( [ 'CASA_PROPRIA' ] ).mean()[ 'SCORE' ]\n",
    "agg_casaprop_score.head()"
   ]
  },
  {
   "cell_type": "code",
   "execution_count": 51,
   "id": "bc54ebaf-8173-41c0-9580-d2df5241af15",
   "metadata": {},
   "outputs": [
    {
     "name": "stdout",
     "output_type": "stream",
     "text": [
      "Python, imprima quantitativo de casa própria percentual\n",
      "\n"
     ]
    },
    {
     "data": {
      "text/plain": [
       "Não    54.65%\n",
       "Sim    45.35%\n",
       "Name: CASA_PROPRIA, dtype: object"
      ]
     },
     "execution_count": 51,
     "metadata": {},
     "output_type": "execute_result"
    }
   ],
   "source": [
    "# Conhecendo o quantitativo das ocorrências de \"casa própria\" com Percentil\n",
    "\n",
    "print( 'Python, imprima quantitativo de casa própria percentual\\n' )\n",
    "df_raw[ 'CASA_PROPRIA' ].value_counts( normalize=True ).map(\"{:.2%}\".format)"
   ]
  },
  {
   "cell_type": "code",
   "execution_count": 52,
   "id": "ede9d606-f9cf-4273-8e61-1dc8419b9641",
   "metadata": {},
   "outputs": [
    {
     "data": {
      "text/plain": [
       "OUTRA_RENDA_VALOR\n",
       "0      46.4055\n",
       "2400   50.6667\n",
       "3000   45.1667\n",
       "3200   94.6667\n",
       "4000   89.1667\n",
       "Name: SCORE, dtype: float64"
      ]
     },
     "execution_count": 52,
     "metadata": {},
     "output_type": "execute_result"
    }
   ],
   "source": [
    "# Agrupamento pela variável outra renda se sim ou não\n",
    "\n",
    "agg_casaprop_score = df_raw.groupby( [ 'OUTRA_RENDA_VALOR' ] ).mean()[ 'SCORE' ]\n",
    "agg_casaprop_score.head()"
   ]
  },
  {
   "cell_type": "code",
   "execution_count": 53,
   "id": "68f7da11-1c4e-45c3-a422-c49987c67391",
   "metadata": {},
   "outputs": [
    {
     "name": "stdout",
     "output_type": "stream",
     "text": [
      "Python, imprima quantitativo outra renda percentual\n",
      "\n"
     ]
    },
    {
     "data": {
      "text/plain": [
       "0       79.72%\n",
       "3000     5.84%\n",
       "4000     4.98%\n",
       "3200     4.98%\n",
       "2400     4.47%\n",
       "Name: OUTRA_RENDA_VALOR, dtype: object"
      ]
     },
     "execution_count": 53,
     "metadata": {},
     "output_type": "execute_result"
    }
   ],
   "source": [
    "# Conhecendo o quantitativo das ocorrências de \"outra renda\" com Percentil\n",
    "\n",
    "print( 'Python, imprima quantitativo outra renda percentual\\n' )\n",
    "df_raw[ 'OUTRA_RENDA_VALOR' ].value_counts( normalize=True ).map(\"{:.2%}\".format)"
   ]
  },
  {
   "cell_type": "markdown",
   "id": "7190b7d8-9f00-48d3-af0e-29ac8c1c716f",
   "metadata": {},
   "source": [
    "---\n",
    "### Pré-processamento para aplicação de ( IA ) `Machine Learning`\n",
    "\n",
    "  - Checar as variáveis categóricas para processamento com LabelEncoder.\n",
    "  - Aplicação de Label Encoder para tranformar o que é categórica em 0, 1, 2... \n",
    "  - Ele pega as categorias por exemplo \"sim e não\" e tranforma em ( 0 e 1 ), e assim sucessivamente com todas as var. categoricas.\n",
    "  - Cópia dos dados, cópia de segurança e checagem de dados ausentes\n",
    "  - Separação da variável criada emprestimo."
   ]
  },
  {
   "cell_type": "code",
   "execution_count": 54,
   "id": "07d4f2a7-57a0-4de6-bf78-8c32aebfdeea",
   "metadata": {},
   "outputs": [
    {
     "name": "stdout",
     "output_type": "stream",
     "text": [
      "\n",
      "Print variáveis categóricas:\n",
      "\n",
      "UF : object\n",
      "ESCOLARIDADE : object\n",
      "ESTADO_CIVIL : object\n",
      "CASA_PROPRIA : object\n",
      "OUTRA_RENDA : object\n",
      "TRABALHANDO_ATUALMENTE : object\n",
      "FAIXA_ETARIA : category\n",
      "EMPRESTIMO : object\n"
     ]
    }
   ],
   "source": [
    "# For para relacinar as variáveis categóricas\n",
    "\n",
    "var_categoricas = [ ] \n",
    "\n",
    "print( f'\\nPrint variáveis categóricas:\\n' )\n",
    "\n",
    "for i in df_raw.columns[ 0:48 ].tolist():\n",
    "           if df_raw.dtypes[ i ] == ( 'object' ) or df_raw.dtypes[i] == ( 'category' ):\n",
    "              print( i, ':', df_raw.dtypes[ i ] )\n",
    "              var_categoricas.append( i )"
   ]
  },
  {
   "cell_type": "code",
   "execution_count": 55,
   "id": "569c4458-7646-4aa1-adfd-fb163c33c26f",
   "metadata": {},
   "outputs": [
    {
     "data": {
      "application/javascript": [
       "\n",
       "        if (window._pyforest_update_imports_cell) { window._pyforest_update_imports_cell('import matplotlib as mpl\\nimport pandas as pd\\nimport sys'); }\n",
       "    "
      ],
      "text/plain": [
       "<IPython.core.display.Javascript object>"
      ]
     },
     "metadata": {},
     "output_type": "display_data"
    },
    {
     "data": {
      "text/html": [
       "<div>\n",
       "<style scoped>\n",
       "    .dataframe tbody tr th:only-of-type {\n",
       "        vertical-align: middle;\n",
       "    }\n",
       "\n",
       "    .dataframe tbody tr th {\n",
       "        vertical-align: top;\n",
       "    }\n",
       "\n",
       "    .dataframe thead th {\n",
       "        text-align: right;\n",
       "    }\n",
       "</style>\n",
       "<table border=\"1\" class=\"dataframe\">\n",
       "  <thead>\n",
       "    <tr style=\"text-align: right;\">\n",
       "      <th></th>\n",
       "      <th>QT_CARROS</th>\n",
       "      <th>VALOR_TABELA_CARROS</th>\n",
       "      <th>SCORE</th>\n",
       "      <th>FAIXA_ETARIA</th>\n",
       "    </tr>\n",
       "  </thead>\n",
       "  <tbody>\n",
       "    <tr>\n",
       "      <th>1</th>\n",
       "      <td>1</td>\n",
       "      <td>50000</td>\n",
       "      <td>18.000</td>\n",
       "      <td>De 20-25</td>\n",
       "    </tr>\n",
       "    <tr>\n",
       "      <th>2</th>\n",
       "      <td>2</td>\n",
       "      <td>30000</td>\n",
       "      <td>23.000</td>\n",
       "      <td>De 20-25</td>\n",
       "    </tr>\n",
       "    <tr>\n",
       "      <th>3</th>\n",
       "      <td>0</td>\n",
       "      <td>0</td>\n",
       "      <td>28.667</td>\n",
       "      <td>De 25-35</td>\n",
       "    </tr>\n",
       "  </tbody>\n",
       "</table>\n",
       "</div>"
      ],
      "text/plain": [
       "   QT_CARROS  VALOR_TABELA_CARROS  SCORE FAIXA_ETARIA\n",
       "1          1                50000 18.000     De 20-25\n",
       "2          2                30000 23.000     De 20-25\n",
       "3          0                    0 28.667     De 25-35"
      ]
     },
     "execution_count": 55,
     "metadata": {},
     "output_type": "execute_result"
    }
   ],
   "source": [
    "# Chamando a base, passando para outro objeto \"Python\" \n",
    "# Farei cópia dos dados por precaucão, seguindo política de boas práticas.\n",
    "# Farei \"encoder\" em todas às variáveis string-object, mas antes separo a base em duas, uma terá a coluna criada emprestimos e outra não.  \n",
    "\n",
    "df_clean = df_raw.copy()\n",
    "\n",
    "df_clean.dropna( inplace = True )\n",
    "df_prep = df_clean.drop( [ 'EMPRESTIMO' ], axis=1 ).copy()\n",
    "\n",
    "pd.set_option( 'display.float_format','{:.3f}'.format ) \n",
    "\n",
    "df_prep.head(3).iloc[ :, 13:20 ]"
   ]
  },
  {
   "cell_type": "code",
   "execution_count": 56,
   "id": "54573f2a-0168-47c3-97c6-20b37a86c4d8",
   "metadata": {},
   "outputs": [
    {
     "data": {
      "text/html": [
       "<div>\n",
       "<style scoped>\n",
       "    .dataframe tbody tr th:only-of-type {\n",
       "        vertical-align: middle;\n",
       "    }\n",
       "\n",
       "    .dataframe tbody tr th {\n",
       "        vertical-align: top;\n",
       "    }\n",
       "\n",
       "    .dataframe thead th {\n",
       "        text-align: right;\n",
       "    }\n",
       "</style>\n",
       "<table border=\"1\" class=\"dataframe\">\n",
       "  <thead>\n",
       "    <tr style=\"text-align: right;\">\n",
       "      <th></th>\n",
       "      <th>QT_CARROS</th>\n",
       "      <th>VALOR_TABELA_CARROS</th>\n",
       "      <th>SCORE</th>\n",
       "      <th>FAIXA_ETARIA</th>\n",
       "      <th>EMPRESTIMO</th>\n",
       "    </tr>\n",
       "  </thead>\n",
       "  <tbody>\n",
       "    <tr>\n",
       "      <th>1</th>\n",
       "      <td>1</td>\n",
       "      <td>50000</td>\n",
       "      <td>18.000</td>\n",
       "      <td>De 20-25</td>\n",
       "      <td>Não</td>\n",
       "    </tr>\n",
       "    <tr>\n",
       "      <th>2</th>\n",
       "      <td>2</td>\n",
       "      <td>30000</td>\n",
       "      <td>23.000</td>\n",
       "      <td>De 20-25</td>\n",
       "      <td>Sim</td>\n",
       "    </tr>\n",
       "    <tr>\n",
       "      <th>3</th>\n",
       "      <td>0</td>\n",
       "      <td>0</td>\n",
       "      <td>28.667</td>\n",
       "      <td>De 25-35</td>\n",
       "      <td>Sim</td>\n",
       "    </tr>\n",
       "  </tbody>\n",
       "</table>\n",
       "</div>"
      ],
      "text/plain": [
       "   QT_CARROS  VALOR_TABELA_CARROS  SCORE FAIXA_ETARIA EMPRESTIMO\n",
       "1          1                50000 18.000     De 20-25        Não\n",
       "2          2                30000 23.000     De 20-25        Sim\n",
       "3          0                    0 28.667     De 25-35        Sim"
      ]
     },
     "execution_count": 56,
     "metadata": {},
     "output_type": "execute_result"
    }
   ],
   "source": [
    "# Checando o slice com a var \"emprestimo\".\n",
    "\n",
    "df_clean.head(3).iloc[ :, 13:20 ]"
   ]
  },
  {
   "cell_type": "code",
   "execution_count": 57,
   "id": "797b3b82-b8bc-48d0-8028-395e7fce4538",
   "metadata": {},
   "outputs": [],
   "source": [
    "# Chamando a base, passando para outro objeto \"Python\" \n",
    "# Farei cópia dos dados por precaucão, seguindo política de boas práticas.\n",
    "# Farei \"encoder\" em todas às variáveis string, object.  \n",
    "\n",
    "\n",
    "# Aplicação do método \"LabelEncoder\" para transformar as variáveis categóricas, passando para variável \"lb_score\"\n",
    "\n",
    "lb_score = LabelEncoder()\n",
    "\n",
    "df_prep[ 'UF' ]                     = lb_score.fit_transform(df_prep[ 'UF' ] )\n",
    "df_prep[ 'OUTRA_RENDA' ]            = lb_score.fit_transform(df_prep[ 'OUTRA_RENDA' ] )\n",
    "df_prep[ 'FAIXA_ETARIA' ]           = lb_score.fit_transform(df_prep[ 'FAIXA_ETARIA' ] )\n",
    "df_prep[ 'ESTADO_CIVIL' ]           = lb_score.fit_transform(df_prep[ 'ESTADO_CIVIL' ] )\n",
    "df_prep[ 'CASA_PROPRIA' ]           = lb_score.fit_transform(df_prep[ 'CASA_PROPRIA' ] )\n",
    "df_prep[ 'ESCOLARIDADE' ]           = lb_score.fit_transform(df_prep[ 'ESCOLARIDADE' ] )\n",
    "df_prep[ 'TRABALHANDO_ATUALMENTE' ] = lb_score.fit_transform(df_prep[ 'TRABALHANDO_ATUALMENTE' ] )\n",
    "\n",
    "# Aplicação de Dropna para garantir que não haja dados ausentes de espécie alguma. Esses dados entrarão em produção de Machine Learning\n",
    "# Inplace True para gravar na base origem\n",
    "\n",
    "df_prep.dropna( inplace = True )"
   ]
  },
  {
   "cell_type": "code",
   "execution_count": 58,
   "id": "c2fa12d3-1cae-4abe-b25d-dd58bced27f8",
   "metadata": {},
   "outputs": [
    {
     "data": {
      "text/html": [
       "<div>\n",
       "<style scoped>\n",
       "    .dataframe tbody tr th:only-of-type {\n",
       "        vertical-align: middle;\n",
       "    }\n",
       "\n",
       "    .dataframe tbody tr th {\n",
       "        vertical-align: top;\n",
       "    }\n",
       "\n",
       "    .dataframe thead th {\n",
       "        text-align: right;\n",
       "    }\n",
       "</style>\n",
       "<table border=\"1\" class=\"dataframe\">\n",
       "  <thead>\n",
       "    <tr style=\"text-align: right;\">\n",
       "      <th></th>\n",
       "      <th>UF</th>\n",
       "      <th>IDADE</th>\n",
       "      <th>ESCOLARIDADE</th>\n",
       "      <th>ESTADO_CIVIL</th>\n",
       "      <th>QT_FILHOS</th>\n",
       "      <th>CASA_PROPRIA</th>\n",
       "      <th>QT_IMOVEIS</th>\n",
       "      <th>VL_IMOVEIS</th>\n",
       "      <th>OUTRA_RENDA</th>\n",
       "      <th>OUTRA_RENDA_VALOR</th>\n",
       "      <th>TEMPO_ULTIMO_EMPREGO_MESES</th>\n",
       "      <th>TRABALHANDO_ATUALMENTE</th>\n",
       "      <th>ULTIMO_SALARIO</th>\n",
       "      <th>QT_CARROS</th>\n",
       "      <th>VALOR_TABELA_CARROS</th>\n",
       "      <th>SCORE</th>\n",
       "      <th>FAIXA_ETARIA</th>\n",
       "    </tr>\n",
       "  </thead>\n",
       "  <tbody>\n",
       "    <tr>\n",
       "      <th>1</th>\n",
       "      <td>0</td>\n",
       "      <td>23</td>\n",
       "      <td>1</td>\n",
       "      <td>2</td>\n",
       "      <td>1</td>\n",
       "      <td>0</td>\n",
       "      <td>0</td>\n",
       "      <td>0</td>\n",
       "      <td>0</td>\n",
       "      <td>0</td>\n",
       "      <td>9</td>\n",
       "      <td>0</td>\n",
       "      <td>4800.000</td>\n",
       "      <td>1</td>\n",
       "      <td>50000</td>\n",
       "      <td>18.000</td>\n",
       "      <td>0</td>\n",
       "    </tr>\n",
       "    <tr>\n",
       "      <th>2</th>\n",
       "      <td>3</td>\n",
       "      <td>25</td>\n",
       "      <td>0</td>\n",
       "      <td>0</td>\n",
       "      <td>0</td>\n",
       "      <td>1</td>\n",
       "      <td>1</td>\n",
       "      <td>220000</td>\n",
       "      <td>0</td>\n",
       "      <td>0</td>\n",
       "      <td>18</td>\n",
       "      <td>1</td>\n",
       "      <td>2200.000</td>\n",
       "      <td>2</td>\n",
       "      <td>30000</td>\n",
       "      <td>23.000</td>\n",
       "      <td>0</td>\n",
       "    </tr>\n",
       "    <tr>\n",
       "      <th>3</th>\n",
       "      <td>1</td>\n",
       "      <td>27</td>\n",
       "      <td>2</td>\n",
       "      <td>0</td>\n",
       "      <td>1</td>\n",
       "      <td>1</td>\n",
       "      <td>0</td>\n",
       "      <td>0</td>\n",
       "      <td>0</td>\n",
       "      <td>0</td>\n",
       "      <td>22</td>\n",
       "      <td>0</td>\n",
       "      <td>3900.000</td>\n",
       "      <td>0</td>\n",
       "      <td>0</td>\n",
       "      <td>28.667</td>\n",
       "      <td>1</td>\n",
       "    </tr>\n",
       "  </tbody>\n",
       "</table>\n",
       "</div>"
      ],
      "text/plain": [
       "   UF  IDADE  ESCOLARIDADE  ESTADO_CIVIL  QT_FILHOS  CASA_PROPRIA  QT_IMOVEIS  \\\n",
       "1   0     23             1             2          1             0           0   \n",
       "2   3     25             0             0          0             1           1   \n",
       "3   1     27             2             0          1             1           0   \n",
       "\n",
       "   VL_IMOVEIS  OUTRA_RENDA  OUTRA_RENDA_VALOR  TEMPO_ULTIMO_EMPREGO_MESES  \\\n",
       "1           0            0                  0                           9   \n",
       "2      220000            0                  0                          18   \n",
       "3           0            0                  0                          22   \n",
       "\n",
       "   TRABALHANDO_ATUALMENTE  ULTIMO_SALARIO  QT_CARROS  VALOR_TABELA_CARROS  \\\n",
       "1                       0        4800.000          1                50000   \n",
       "2                       1        2200.000          2                30000   \n",
       "3                       0        3900.000          0                    0   \n",
       "\n",
       "   SCORE  FAIXA_ETARIA  \n",
       "1 18.000             0  \n",
       "2 23.000             0  \n",
       "3 28.667             1  "
      ]
     },
     "execution_count": 58,
     "metadata": {},
     "output_type": "execute_result"
    }
   ],
   "source": [
    "# lendo três linnhas da base com \"LabelEncoder\" aplicado para visualizar dás transformações e check do exemplo acima \"ESCOLARIDADE\".\n",
    "\n",
    "df_prep.head( 3 )"
   ]
  },
  {
   "cell_type": "code",
   "execution_count": 59,
   "id": "4d3589b7-5d72-44b0-9ee1-1366fd06a3c7",
   "metadata": {},
   "outputs": [],
   "source": [
    "# Checagem com \"df_pred.info\" da ordem dás varáveis, principalemte a variável Alvo ( Target - Score )\n",
    "# A var alvo está na posição \"15\", sendo reservado para ela a posição \"16\".\n",
    "# df_pred.info()"
   ]
  },
  {
   "cell_type": "markdown",
   "id": "56994b8f-5602-44ab-bd0a-f8ebcc55b304",
   "metadata": {},
   "source": [
    "### Slice - extração da variável alvo ( Score )  com extração das Preditoras\n",
    "  - Aplicarei um slice com `iloc` para dar início dos trabalhos de predição, com aplicaçao de Marchine Learning"
   ]
  },
  {
   "cell_type": "code",
   "execution_count": 60,
   "id": "6e11ea40-a67c-4086-8046-65dad4b86671",
   "metadata": {},
   "outputs": [
    {
     "data": {
      "text/html": [
       "<div>\n",
       "<style scoped>\n",
       "    .dataframe tbody tr th:only-of-type {\n",
       "        vertical-align: middle;\n",
       "    }\n",
       "\n",
       "    .dataframe tbody tr th {\n",
       "        vertical-align: top;\n",
       "    }\n",
       "\n",
       "    .dataframe thead th {\n",
       "        text-align: right;\n",
       "    }\n",
       "</style>\n",
       "<table border=\"1\" class=\"dataframe\">\n",
       "  <thead>\n",
       "    <tr style=\"text-align: right;\">\n",
       "      <th></th>\n",
       "      <th>SCORE</th>\n",
       "    </tr>\n",
       "  </thead>\n",
       "  <tbody>\n",
       "    <tr>\n",
       "      <th>1</th>\n",
       "      <td>18.000</td>\n",
       "    </tr>\n",
       "    <tr>\n",
       "      <th>2</th>\n",
       "      <td>23.000</td>\n",
       "    </tr>\n",
       "    <tr>\n",
       "      <th>3</th>\n",
       "      <td>28.667</td>\n",
       "    </tr>\n",
       "  </tbody>\n",
       "</table>\n",
       "</div>"
      ],
      "text/plain": [
       "   SCORE\n",
       "1 18.000\n",
       "2 23.000\n",
       "3 28.667"
      ]
     },
     "execution_count": 60,
     "metadata": {},
     "output_type": "execute_result"
    }
   ],
   "source": [
    "# Aplicando o Slice com iloc, essa é uma dás formas de fazer slice, usarei variações de métodos, passando a target para \"varviavel_target\"\n",
    "# Explicando o slice com Método iloc. Até \":\" significa que eu quero todas às linhas, depois da \",\" quero só a coluna alvo \"SCORE\" posição reservada \"16\".\n",
    "\n",
    "variavel_target = df_prep.iloc[ :, 15:16 ]\n",
    "\n",
    "variavel_target.head( 3 )"
   ]
  },
  {
   "cell_type": "code",
   "execution_count": 61,
   "id": "f92cc29b-0535-48bc-b193-ea3621468c7e",
   "metadata": {},
   "outputs": [
    {
     "data": {
      "text/html": [
       "<div>\n",
       "<style scoped>\n",
       "    .dataframe tbody tr th:only-of-type {\n",
       "        vertical-align: middle;\n",
       "    }\n",
       "\n",
       "    .dataframe tbody tr th {\n",
       "        vertical-align: top;\n",
       "    }\n",
       "\n",
       "    .dataframe thead th {\n",
       "        text-align: right;\n",
       "    }\n",
       "</style>\n",
       "<table border=\"1\" class=\"dataframe\">\n",
       "  <thead>\n",
       "    <tr style=\"text-align: right;\">\n",
       "      <th></th>\n",
       "      <th>UF</th>\n",
       "      <th>IDADE</th>\n",
       "      <th>ESCOLARIDADE</th>\n",
       "      <th>ESTADO_CIVIL</th>\n",
       "      <th>QT_FILHOS</th>\n",
       "      <th>CASA_PROPRIA</th>\n",
       "      <th>QT_IMOVEIS</th>\n",
       "      <th>VL_IMOVEIS</th>\n",
       "      <th>OUTRA_RENDA</th>\n",
       "      <th>OUTRA_RENDA_VALOR</th>\n",
       "      <th>TEMPO_ULTIMO_EMPREGO_MESES</th>\n",
       "      <th>TRABALHANDO_ATUALMENTE</th>\n",
       "      <th>ULTIMO_SALARIO</th>\n",
       "      <th>QT_CARROS</th>\n",
       "      <th>VALOR_TABELA_CARROS</th>\n",
       "      <th>FAIXA_ETARIA</th>\n",
       "    </tr>\n",
       "  </thead>\n",
       "  <tbody>\n",
       "    <tr>\n",
       "      <th>1</th>\n",
       "      <td>0</td>\n",
       "      <td>23</td>\n",
       "      <td>1</td>\n",
       "      <td>2</td>\n",
       "      <td>1</td>\n",
       "      <td>0</td>\n",
       "      <td>0</td>\n",
       "      <td>0</td>\n",
       "      <td>0</td>\n",
       "      <td>0</td>\n",
       "      <td>9</td>\n",
       "      <td>0</td>\n",
       "      <td>4800.000</td>\n",
       "      <td>1</td>\n",
       "      <td>50000</td>\n",
       "      <td>0</td>\n",
       "    </tr>\n",
       "    <tr>\n",
       "      <th>2</th>\n",
       "      <td>3</td>\n",
       "      <td>25</td>\n",
       "      <td>0</td>\n",
       "      <td>0</td>\n",
       "      <td>0</td>\n",
       "      <td>1</td>\n",
       "      <td>1</td>\n",
       "      <td>220000</td>\n",
       "      <td>0</td>\n",
       "      <td>0</td>\n",
       "      <td>18</td>\n",
       "      <td>1</td>\n",
       "      <td>2200.000</td>\n",
       "      <td>2</td>\n",
       "      <td>30000</td>\n",
       "      <td>0</td>\n",
       "    </tr>\n",
       "    <tr>\n",
       "      <th>3</th>\n",
       "      <td>1</td>\n",
       "      <td>27</td>\n",
       "      <td>2</td>\n",
       "      <td>0</td>\n",
       "      <td>1</td>\n",
       "      <td>1</td>\n",
       "      <td>0</td>\n",
       "      <td>0</td>\n",
       "      <td>0</td>\n",
       "      <td>0</td>\n",
       "      <td>22</td>\n",
       "      <td>0</td>\n",
       "      <td>3900.000</td>\n",
       "      <td>0</td>\n",
       "      <td>0</td>\n",
       "      <td>1</td>\n",
       "    </tr>\n",
       "  </tbody>\n",
       "</table>\n",
       "</div>"
      ],
      "text/plain": [
       "   UF  IDADE  ESCOLARIDADE  ESTADO_CIVIL  QT_FILHOS  CASA_PROPRIA  QT_IMOVEIS  \\\n",
       "1   0     23             1             2          1             0           0   \n",
       "2   3     25             0             0          0             1           1   \n",
       "3   1     27             2             0          1             1           0   \n",
       "\n",
       "   VL_IMOVEIS  OUTRA_RENDA  OUTRA_RENDA_VALOR  TEMPO_ULTIMO_EMPREGO_MESES  \\\n",
       "1           0            0                  0                           9   \n",
       "2      220000            0                  0                          18   \n",
       "3           0            0                  0                          22   \n",
       "\n",
       "   TRABALHANDO_ATUALMENTE  ULTIMO_SALARIO  QT_CARROS  VALOR_TABELA_CARROS  \\\n",
       "1                       0        4800.000          1                50000   \n",
       "2                       1        2200.000          2                30000   \n",
       "3                       0        3900.000          0                    0   \n",
       "\n",
       "   FAIXA_ETARIA  \n",
       "1             0  \n",
       "2             0  \n",
       "3             1  "
      ]
     },
     "execution_count": 61,
     "metadata": {},
     "output_type": "execute_result"
    }
   ],
   "source": [
    "# Extração das variáveis preditoras - Agora passo para dentro da var predicao todas menos a target SCORE.\n",
    "\n",
    "predicao = df_prep.copy()\n",
    "\n",
    "del predicao[ 'SCORE' ]\n",
    "\n",
    "predicao.head( 3 )"
   ]
  },
  {
   "cell_type": "markdown",
   "id": "49bfd63e-14e5-4c97-98f8-dde86d4ba715",
   "metadata": {},
   "source": [
    "### Separação dos dados para implementação de Machine Learning - IA\n",
    "  - Separação dos dado em ( X, e y ) para entrar o primeiro modelo em produção.\n",
    "  - Normalização dos dados MinmaxScaler para padronização e aplicação nos dados de treino e testes."
   ]
  },
  {
   "cell_type": "code",
   "execution_count": 62,
   "id": "8ed08d6d-c32a-4e48-9f17-0da90e97c39c",
   "metadata": {},
   "outputs": [],
   "source": [
    "# Aplicação dos dados de treino e testes, com ( \"train_X e test_y\", predicao e variavel_target )\n",
    "\n",
    "train_X, test_X, train_y, test_y = train_test_split( predicao, variavel_target, test_size = 0.3, random_state = 40 )"
   ]
  },
  {
   "cell_type": "code",
   "execution_count": 63,
   "id": "335c9644-0265-488d-bf6e-1bc6dfa6e1e6",
   "metadata": {},
   "outputs": [],
   "source": [
    "# Normalização e Padronização dos dados\n",
    "\n",
    "pdscaler = MinMaxScaler()\n",
    "\n",
    "train_X_normalizado = pdscaler.fit_transform( train_X )\n",
    "test_X_normalizado  = pdscaler.transform( test_X )"
   ]
  },
  {
   "cell_type": "markdown",
   "id": "57a78524-ec6d-43ad-aeaf-2b042542def9",
   "metadata": {},
   "source": [
    "### Modelo entrando em produção com dados de treinos e testes para predições "
   ]
  },
  {
   "cell_type": "code",
   "execution_count": 64,
   "id": "8b261790-aea3-4774-bb44-188f3e4f415f",
   "metadata": {},
   "outputs": [
    {
     "name": "stdout",
     "output_type": "stream",
     "text": [
      "\n",
      "Resultado do modelo Regressão Linear:\n",
      "\n",
      "Resultado r2_score:\f",
      " 0.7914509396933948\n"
     ]
    }
   ],
   "source": [
    "# Modelprediction \n",
    "\n",
    "model_pred = LinearRegression( normalize= True, fit_intercept = True ) \n",
    "model_pred = model_pred.fit( train_X_normalizado, train_y ) \n",
    "\n",
    "# Gerando a métrica r2_score para ver qual acurácio o modelo construiu.\n",
    "\n",
    "print( f'\\nResultado do modelo Regressão Linear:\\n' )\n",
    "\n",
    "result_r2 = r2_score( test_y, model_pred.fit( train_X_normalizado, train_y ).predict( test_X_normalizado ) )\n",
    "\n",
    "print( f'Resultado r2_score:\\f', result_r2 )"
   ]
  },
  {
   "cell_type": "markdown",
   "id": "91749c4c-9820-4415-b0ca-8edfea7a48a3",
   "metadata": {},
   "source": [
    "---\n",
    "### Criação de um modelo de consultas com atributos - Validação de hipóteses com variáveis \n",
    "---\n",
    "  - Esse modelo de atributos têm como objetivo simular a operação como se fosse um cliente solicitando pelo aplicativo aprovação para um empréstimo, similar à uma `API` que faz a interface entre `ERP` Software de Gestão e Modelo de Predição criado com Machine Learning.\n",
    "  \n",
    "  - Se o empréstimo será liberado ou não, irá depender dos atributos e da (pontuação) criada, bem como o Score encontrato pelo modelo de Machine Learning. Aplica-se uma regra que dirá sim ou não - Seu empréstimo foi liberado com sucesso!\n",
    "  \n",
    " - Usarei os mesmos atributos da base origem, como se fossem dados do Software de Gestão ( ERP )"
   ]
  },
  {
   "cell_type": "code",
   "execution_count": 65,
   "id": "2aa9f18c-aa85-4ccf-acd1-8c008c315aa7",
   "metadata": {},
   "outputs": [
    {
     "name": "stdout",
     "output_type": "stream",
     "text": [
      "\n",
      "Simulação do Score de credito:\n",
      "\n",
      "Score de crédito simulado para esse cliente é: [[140.21630432]]\n"
     ]
    }
   ],
   "source": [
    "# Implementação de testes para validar as predições de Score\n",
    "\n",
    "\"\"\"-------------------------------------\"\"\"\n",
    "\n",
    "print( '\\nSimulação do Score de credito:' )\n",
    "\n",
    "UF                         = 2 \n",
    "IDADE                      = 78 \n",
    "ESCOLARIDADE               = 3\n",
    "ESTADO_CIVIL               = 2\n",
    "QT_FILHOS                  = 2\n",
    "CASA_PROPRIA               = 1\n",
    "QT_IMOVEIS                 = 1\n",
    "VL_IMOVEIS                 = 30000.0\n",
    "OUTRA_RENDA                = 1\n",
    "OUTRA_RENDA_VALOR          = 3000.0 \n",
    "TEMPO_ULTIMO_EMPREGO_MESES = 120 \n",
    "TRABALHANDO_ATUALMENTE     = 2\n",
    "ULTIMO_SALARIO             = 15000.0\n",
    "QT_CARROS                  = 4\n",
    "VALOR_TABELA_CARROS        = 20000.0\n",
    "FAIXA_ETARIA               = 5\n",
    "\n",
    "atributos_API = [\n",
    "                   UF, IDADE, ESCOLARIDADE, ESTADO_CIVIL, QT_FILHOS,CASA_PROPRIA,QT_IMOVEIS,VL_IMOVEIS,OUTRA_RENDA,\n",
    "                   OUTRA_RENDA_VALOR,TEMPO_ULTIMO_EMPREGO_MESES,TRABALHANDO_ATUALMENTE,ULTIMO_SALARIO,QT_CARROS,\n",
    "                   VALOR_TABELA_CARROS, FAIXA_ETARIA \n",
    "                ]\n",
    "\n",
    "X = np.array( atributos_API ).reshape( 1 , -1 )\n",
    "X = pdscaler.transform( X ) \n",
    "\n",
    "print( f'\\nScore de crédito simulado para esse cliente é:',model_pred.predict( X ) )"
   ]
  },
  {
   "cell_type": "markdown",
   "id": "9363155d-f5da-46c5-96bb-e4679cdaf46c",
   "metadata": {},
   "source": [
    "---\n",
    "### Aplicação de **Machine Learning** para liberação de empréstimos pessoais\n",
    "  - Importando a base para aplicação de um novo modelo de Machine Learning - IA\n",
    "  - Pré-processamento: `LabelEncoder` e separação da variável **Target**: ( Alvo )\n",
    "  - Aplicarei para esse processo a Random Forest. \n",
    "  - Separação dos dados de treino testes ( train_X, test_X, train_y, teste_y )\n",
    "### Importando a base original para trabalhos de reprocessamento\n",
    "---"
   ]
  },
  {
   "cell_type": "code",
   "execution_count": 81,
   "id": "bb654af9-65ff-43d8-a25e-c4933f4fe54a",
   "metadata": {},
   "outputs": [
    {
     "data": {
      "application/javascript": [
       "\n",
       "        if (window._pyforest_update_imports_cell) { window._pyforest_update_imports_cell('import matplotlib as mpl\\nimport pandas as pd\\nimport sys'); }\n",
       "    "
      ],
      "text/plain": [
       "<IPython.core.display.Javascript object>"
      ]
     },
     "metadata": {},
     "output_type": "display_data"
    },
    {
     "data": {
      "text/html": [
       "<div>\n",
       "<style scoped>\n",
       "    .dataframe tbody tr th:only-of-type {\n",
       "        vertical-align: middle;\n",
       "    }\n",
       "\n",
       "    .dataframe tbody tr th {\n",
       "        vertical-align: top;\n",
       "    }\n",
       "\n",
       "    .dataframe thead th {\n",
       "        text-align: right;\n",
       "    }\n",
       "</style>\n",
       "<table border=\"1\" class=\"dataframe\">\n",
       "  <thead>\n",
       "    <tr style=\"text-align: right;\">\n",
       "      <th></th>\n",
       "      <th>TEMPO_ULTIMO_EMPREGO_MESES</th>\n",
       "      <th>TRABALHANDO_ATUALMENTE</th>\n",
       "      <th>ULTIMO_SALARIO</th>\n",
       "      <th>QT_CARROS</th>\n",
       "      <th>VALOR_TABELA_CARROS</th>\n",
       "      <th>SCORE_CREDITO</th>\n",
       "      <th>EMPRESTIMO</th>\n",
       "    </tr>\n",
       "  </thead>\n",
       "  <tbody>\n",
       "    <tr>\n",
       "      <th>0</th>\n",
       "      <td>8</td>\n",
       "      <td>Sim</td>\n",
       "      <td>1800</td>\n",
       "      <td>0</td>\n",
       "      <td>0</td>\n",
       "      <td>56.000</td>\n",
       "      <td>SIM</td>\n",
       "    </tr>\n",
       "    <tr>\n",
       "      <th>1</th>\n",
       "      <td>9</td>\n",
       "      <td>Não</td>\n",
       "      <td>4800</td>\n",
       "      <td>1</td>\n",
       "      <td>50000</td>\n",
       "      <td>18.000</td>\n",
       "      <td>NAO</td>\n",
       "    </tr>\n",
       "    <tr>\n",
       "      <th>2</th>\n",
       "      <td>18</td>\n",
       "      <td>Sim</td>\n",
       "      <td>2200</td>\n",
       "      <td>2</td>\n",
       "      <td>30000</td>\n",
       "      <td>45.000</td>\n",
       "      <td>SIM</td>\n",
       "    </tr>\n",
       "  </tbody>\n",
       "</table>\n",
       "</div>"
      ],
      "text/plain": [
       "   TEMPO_ULTIMO_EMPREGO_MESES TRABALHANDO_ATUALMENTE  ULTIMO_SALARIO  \\\n",
       "0                           8                    Sim            1800   \n",
       "1                           9                    Não            4800   \n",
       "2                          18                    Sim            2200   \n",
       "\n",
       "   QT_CARROS  VALOR_TABELA_CARROS  SCORE_CREDITO EMPRESTIMO  \n",
       "0          0                    0         56.000        SIM  \n",
       "1          1                50000         18.000        NAO  \n",
       "2          2                30000         45.000        SIM  "
      ]
     },
     "execution_count": 81,
     "metadata": {},
     "output_type": "execute_result"
    }
   ],
   "source": [
    "# Importando a base e fazendo a leitura da coluna ( 10 até coluna 17 )\n",
    "\n",
    "file_path = ( './img/dados_credito.xlsx' )\n",
    "df_cred   = pd.read_excel( file_path ).copy()\n",
    "\n",
    "df_cred.head( 3 ).iloc[ :, 10:18 ]"
   ]
  },
  {
   "cell_type": "code",
   "execution_count": 82,
   "id": "e173d9ec-b15d-4a8c-8ff4-06d2c5b469bc",
   "metadata": {},
   "outputs": [
    {
     "data": {
      "text/html": [
       "<div>\n",
       "<style scoped>\n",
       "    .dataframe tbody tr th:only-of-type {\n",
       "        vertical-align: middle;\n",
       "    }\n",
       "\n",
       "    .dataframe tbody tr th {\n",
       "        vertical-align: top;\n",
       "    }\n",
       "\n",
       "    .dataframe thead th {\n",
       "        text-align: right;\n",
       "    }\n",
       "</style>\n",
       "<table border=\"1\" class=\"dataframe\">\n",
       "  <thead>\n",
       "    <tr style=\"text-align: right;\">\n",
       "      <th></th>\n",
       "      <th>CODIGO_CLIENTE</th>\n",
       "      <th>UF</th>\n",
       "      <th>IDADE</th>\n",
       "      <th>ESCOLARIDADE</th>\n",
       "      <th>ESTADO_CIVIL</th>\n",
       "      <th>QT_FILHOS</th>\n",
       "      <th>CASA_PROPRIA</th>\n",
       "      <th>QT_IMOVEIS</th>\n",
       "      <th>VL_IMOVEIS</th>\n",
       "      <th>OUTRA_RENDA_VALOR</th>\n",
       "      <th>TEMPO_ULTIMO_EMPREGO_MESES</th>\n",
       "      <th>TRABALHANDO_ATUALMENTE</th>\n",
       "      <th>ULTIMO_SALARIO</th>\n",
       "      <th>QT_CARROS</th>\n",
       "      <th>VALOR_TABELA_CARROS</th>\n",
       "      <th>SCORE_CREDITO</th>\n",
       "      <th>EMPRESTIMO</th>\n",
       "    </tr>\n",
       "  </thead>\n",
       "  <tbody>\n",
       "    <tr>\n",
       "      <th>0</th>\n",
       "      <td>1</td>\n",
       "      <td>SP</td>\n",
       "      <td>19</td>\n",
       "      <td>Superior Cursando</td>\n",
       "      <td>Solteiro</td>\n",
       "      <td>0</td>\n",
       "      <td>Não</td>\n",
       "      <td>0</td>\n",
       "      <td>0</td>\n",
       "      <td>0</td>\n",
       "      <td>8</td>\n",
       "      <td>Sim</td>\n",
       "      <td>1800</td>\n",
       "      <td>0</td>\n",
       "      <td>0</td>\n",
       "      <td>56.000</td>\n",
       "      <td>SIM</td>\n",
       "    </tr>\n",
       "  </tbody>\n",
       "</table>\n",
       "</div>"
      ],
      "text/plain": [
       "   CODIGO_CLIENTE  UF  IDADE       ESCOLARIDADE ESTADO_CIVIL  QT_FILHOS  \\\n",
       "0               1  SP     19  Superior Cursando     Solteiro          0   \n",
       "\n",
       "  CASA_PROPRIA  QT_IMOVEIS  VL_IMOVEIS  OUTRA_RENDA_VALOR  \\\n",
       "0          Não           0           0                  0   \n",
       "\n",
       "   TEMPO_ULTIMO_EMPREGO_MESES TRABALHANDO_ATUALMENTE  ULTIMO_SALARIO  \\\n",
       "0                           8                    Sim            1800   \n",
       "\n",
       "   QT_CARROS  VALOR_TABELA_CARROS  SCORE_CREDITO EMPRESTIMO  \n",
       "0          0                    0         56.000        SIM  "
      ]
     },
     "execution_count": 82,
     "metadata": {},
     "output_type": "execute_result"
    }
   ],
   "source": [
    "df_cred.head(1)"
   ]
  },
  {
   "cell_type": "code",
   "execution_count": 83,
   "id": "d0c83284-aa9d-46fb-9e9b-a7ea302ea309",
   "metadata": {},
   "outputs": [
    {
     "data": {
      "text/html": [
       "<div>\n",
       "<style scoped>\n",
       "    .dataframe tbody tr th:only-of-type {\n",
       "        vertical-align: middle;\n",
       "    }\n",
       "\n",
       "    .dataframe tbody tr th {\n",
       "        vertical-align: top;\n",
       "    }\n",
       "\n",
       "    .dataframe thead th {\n",
       "        text-align: right;\n",
       "    }\n",
       "</style>\n",
       "<table border=\"1\" class=\"dataframe\">\n",
       "  <thead>\n",
       "    <tr style=\"text-align: right;\">\n",
       "      <th></th>\n",
       "      <th>UF</th>\n",
       "      <th>IDADE</th>\n",
       "      <th>ESCOLARIDADE</th>\n",
       "      <th>ESTADO_CIVIL</th>\n",
       "      <th>QT_FILHOS</th>\n",
       "      <th>CASA_PROPRIA</th>\n",
       "      <th>QT_IMOVEIS</th>\n",
       "      <th>VL_IMOVEIS</th>\n",
       "      <th>OUTRA_RENDA_VALOR</th>\n",
       "      <th>TEMPO_ULTIMO_EMPREGO_MESES</th>\n",
       "      <th>TRABALHANDO_ATUALMENTE</th>\n",
       "      <th>ULTIMO_SALARIO</th>\n",
       "      <th>QT_CARROS</th>\n",
       "      <th>VALOR_TABELA_CARROS</th>\n",
       "      <th>SCORE_CREDITO</th>\n",
       "      <th>EMPRESTIMO</th>\n",
       "    </tr>\n",
       "  </thead>\n",
       "  <tbody>\n",
       "    <tr>\n",
       "      <th>0</th>\n",
       "      <td>4</td>\n",
       "      <td>19</td>\n",
       "      <td>2</td>\n",
       "      <td>2</td>\n",
       "      <td>0</td>\n",
       "      <td>0</td>\n",
       "      <td>0</td>\n",
       "      <td>0</td>\n",
       "      <td>0</td>\n",
       "      <td>8</td>\n",
       "      <td>1</td>\n",
       "      <td>1800</td>\n",
       "      <td>0</td>\n",
       "      <td>0</td>\n",
       "      <td>56.000</td>\n",
       "      <td>SIM</td>\n",
       "    </tr>\n",
       "    <tr>\n",
       "      <th>1</th>\n",
       "      <td>0</td>\n",
       "      <td>23</td>\n",
       "      <td>1</td>\n",
       "      <td>2</td>\n",
       "      <td>1</td>\n",
       "      <td>0</td>\n",
       "      <td>0</td>\n",
       "      <td>0</td>\n",
       "      <td>0</td>\n",
       "      <td>9</td>\n",
       "      <td>0</td>\n",
       "      <td>4800</td>\n",
       "      <td>1</td>\n",
       "      <td>50000</td>\n",
       "      <td>18.000</td>\n",
       "      <td>NAO</td>\n",
       "    </tr>\n",
       "    <tr>\n",
       "      <th>2</th>\n",
       "      <td>3</td>\n",
       "      <td>25</td>\n",
       "      <td>0</td>\n",
       "      <td>0</td>\n",
       "      <td>0</td>\n",
       "      <td>1</td>\n",
       "      <td>1</td>\n",
       "      <td>220000</td>\n",
       "      <td>0</td>\n",
       "      <td>18</td>\n",
       "      <td>1</td>\n",
       "      <td>2200</td>\n",
       "      <td>2</td>\n",
       "      <td>30000</td>\n",
       "      <td>45.000</td>\n",
       "      <td>SIM</td>\n",
       "    </tr>\n",
       "  </tbody>\n",
       "</table>\n",
       "</div>"
      ],
      "text/plain": [
       "   UF  IDADE  ESCOLARIDADE  ESTADO_CIVIL  QT_FILHOS  CASA_PROPRIA  QT_IMOVEIS  \\\n",
       "0   4     19             2             2          0             0           0   \n",
       "1   0     23             1             2          1             0           0   \n",
       "2   3     25             0             0          0             1           1   \n",
       "\n",
       "   VL_IMOVEIS  OUTRA_RENDA_VALOR  TEMPO_ULTIMO_EMPREGO_MESES  \\\n",
       "0           0                  0                           8   \n",
       "1           0                  0                           9   \n",
       "2      220000                  0                          18   \n",
       "\n",
       "   TRABALHANDO_ATUALMENTE  ULTIMO_SALARIO  QT_CARROS  VALOR_TABELA_CARROS  \\\n",
       "0                       1            1800          0                    0   \n",
       "1                       0            4800          1                50000   \n",
       "2                       1            2200          2                30000   \n",
       "\n",
       "   SCORE_CREDITO EMPRESTIMO  \n",
       "0         56.000        SIM  \n",
       "1         18.000        NAO  \n",
       "2         45.000        SIM  "
      ]
     },
     "execution_count": 83,
     "metadata": {},
     "output_type": "execute_result"
    }
   ],
   "source": [
    "# Aplicação do método \"LabelEncoder\" e dropna só para garantir que não terei dados ausentes criados com \"L.E\".\n",
    "\n",
    "lb_cred = LabelEncoder()\n",
    "\n",
    "df_cred[ 'TRABALHANDO_ATUALMENTE' ] = lb_cred.fit_transform(df_cred['TRABALHANDO_ATUALMENTE' ] )\n",
    "df_cred[ 'ESTADO_CIVIL' ]           = lb_cred.fit_transform(df_cred[ 'ESTADO_CIVIL' ] )\n",
    "df_cred[ 'CASA_PROPRIA' ]           = lb_cred.fit_transform(df_cred[ 'CASA_PROPRIA' ] )\n",
    "df_cred[ 'ESCOLARIDADE' ]           = lb_cred.fit_transform(df_cred[ 'ESCOLARIDADE' ] )\n",
    "df_cred[ 'UF' ]                     = lb_cred.fit_transform(df_cred[ 'UF' ] )\n",
    "\n",
    "# Removendo a coluna ID Cliente\n",
    "\n",
    "df_cred.drop( [ 'CODIGO_CLIENTE' ], axis=1, inplace=True )\n",
    "\n",
    "# Remove valores missing eventualmente gerados\n",
    "\n",
    "df_cred.dropna(inplace = True)\n",
    "\n",
    "df_cred.head( 3 )"
   ]
  },
  {
   "cell_type": "code",
   "execution_count": 84,
   "id": "9e73242c-a3d4-4e40-8b76-15bbbe8dc773",
   "metadata": {},
   "outputs": [
    {
     "data": {
      "text/html": [
       "<div>\n",
       "<style scoped>\n",
       "    .dataframe tbody tr th:only-of-type {\n",
       "        vertical-align: middle;\n",
       "    }\n",
       "\n",
       "    .dataframe tbody tr th {\n",
       "        vertical-align: top;\n",
       "    }\n",
       "\n",
       "    .dataframe thead th {\n",
       "        text-align: right;\n",
       "    }\n",
       "</style>\n",
       "<table border=\"1\" class=\"dataframe\">\n",
       "  <thead>\n",
       "    <tr style=\"text-align: right;\">\n",
       "      <th></th>\n",
       "      <th>index</th>\n",
       "      <th>EMPRESTIMO</th>\n",
       "    </tr>\n",
       "  </thead>\n",
       "  <tbody>\n",
       "    <tr>\n",
       "      <th>0</th>\n",
       "      <td>0</td>\n",
       "      <td>SIM</td>\n",
       "    </tr>\n",
       "    <tr>\n",
       "      <th>1</th>\n",
       "      <td>1</td>\n",
       "      <td>NAO</td>\n",
       "    </tr>\n",
       "    <tr>\n",
       "      <th>2</th>\n",
       "      <td>2</td>\n",
       "      <td>SIM</td>\n",
       "    </tr>\n",
       "    <tr>\n",
       "      <th>3</th>\n",
       "      <td>3</td>\n",
       "      <td>NAO</td>\n",
       "    </tr>\n",
       "    <tr>\n",
       "      <th>4</th>\n",
       "      <td>4</td>\n",
       "      <td>SIM</td>\n",
       "    </tr>\n",
       "  </tbody>\n",
       "</table>\n",
       "</div>"
      ],
      "text/plain": [
       "   index EMPRESTIMO\n",
       "0      0        SIM\n",
       "1      1        NAO\n",
       "2      2        SIM\n",
       "3      3        NAO\n",
       "4      4        SIM"
      ]
     },
     "execution_count": 84,
     "metadata": {},
     "output_type": "execute_result"
    }
   ],
   "source": [
    "# Separação, slice da variável alvo ( Target ) Emprestimo.\n",
    "\n",
    "target_cred = df_cred.iloc[ :, 15 ]\n",
    "target_cred.head( 5 ).reset_index()"
   ]
  },
  {
   "cell_type": "code",
   "execution_count": 86,
   "id": "199c6a90-7b84-457a-a8ae-9045cc13de9e",
   "metadata": {},
   "outputs": [
    {
     "data": {
      "text/html": [
       "<div>\n",
       "<style scoped>\n",
       "    .dataframe tbody tr th:only-of-type {\n",
       "        vertical-align: middle;\n",
       "    }\n",
       "\n",
       "    .dataframe tbody tr th {\n",
       "        vertical-align: top;\n",
       "    }\n",
       "\n",
       "    .dataframe thead th {\n",
       "        text-align: right;\n",
       "    }\n",
       "</style>\n",
       "<table border=\"1\" class=\"dataframe\">\n",
       "  <thead>\n",
       "    <tr style=\"text-align: right;\">\n",
       "      <th></th>\n",
       "      <th>UF</th>\n",
       "      <th>IDADE</th>\n",
       "      <th>ESCOLARIDADE</th>\n",
       "      <th>ESTADO_CIVIL</th>\n",
       "      <th>QT_FILHOS</th>\n",
       "      <th>CASA_PROPRIA</th>\n",
       "      <th>QT_IMOVEIS</th>\n",
       "      <th>VL_IMOVEIS</th>\n",
       "      <th>OUTRA_RENDA_VALOR</th>\n",
       "      <th>TEMPO_ULTIMO_EMPREGO_MESES</th>\n",
       "      <th>TRABALHANDO_ATUALMENTE</th>\n",
       "      <th>ULTIMO_SALARIO</th>\n",
       "      <th>QT_CARROS</th>\n",
       "      <th>VALOR_TABELA_CARROS</th>\n",
       "      <th>SCORE_CREDITO</th>\n",
       "    </tr>\n",
       "  </thead>\n",
       "  <tbody>\n",
       "    <tr>\n",
       "      <th>0</th>\n",
       "      <td>4</td>\n",
       "      <td>19</td>\n",
       "      <td>2</td>\n",
       "      <td>2</td>\n",
       "      <td>0</td>\n",
       "      <td>0</td>\n",
       "      <td>0</td>\n",
       "      <td>0</td>\n",
       "      <td>0</td>\n",
       "      <td>8</td>\n",
       "      <td>1</td>\n",
       "      <td>1800</td>\n",
       "      <td>0</td>\n",
       "      <td>0</td>\n",
       "      <td>56.000</td>\n",
       "    </tr>\n",
       "    <tr>\n",
       "      <th>1</th>\n",
       "      <td>0</td>\n",
       "      <td>23</td>\n",
       "      <td>1</td>\n",
       "      <td>2</td>\n",
       "      <td>1</td>\n",
       "      <td>0</td>\n",
       "      <td>0</td>\n",
       "      <td>0</td>\n",
       "      <td>0</td>\n",
       "      <td>9</td>\n",
       "      <td>0</td>\n",
       "      <td>4800</td>\n",
       "      <td>1</td>\n",
       "      <td>50000</td>\n",
       "      <td>18.000</td>\n",
       "    </tr>\n",
       "    <tr>\n",
       "      <th>2</th>\n",
       "      <td>3</td>\n",
       "      <td>25</td>\n",
       "      <td>0</td>\n",
       "      <td>0</td>\n",
       "      <td>0</td>\n",
       "      <td>1</td>\n",
       "      <td>1</td>\n",
       "      <td>220000</td>\n",
       "      <td>0</td>\n",
       "      <td>18</td>\n",
       "      <td>1</td>\n",
       "      <td>2200</td>\n",
       "      <td>2</td>\n",
       "      <td>30000</td>\n",
       "      <td>45.000</td>\n",
       "    </tr>\n",
       "  </tbody>\n",
       "</table>\n",
       "</div>"
      ],
      "text/plain": [
       "   UF  IDADE  ESCOLARIDADE  ESTADO_CIVIL  QT_FILHOS  CASA_PROPRIA  QT_IMOVEIS  \\\n",
       "0   4     19             2             2          0             0           0   \n",
       "1   0     23             1             2          1             0           0   \n",
       "2   3     25             0             0          0             1           1   \n",
       "\n",
       "   VL_IMOVEIS  OUTRA_RENDA_VALOR  TEMPO_ULTIMO_EMPREGO_MESES  \\\n",
       "0           0                  0                           8   \n",
       "1           0                  0                           9   \n",
       "2      220000                  0                          18   \n",
       "\n",
       "   TRABALHANDO_ATUALMENTE  ULTIMO_SALARIO  QT_CARROS  VALOR_TABELA_CARROS  \\\n",
       "0                       1            1800          0                    0   \n",
       "1                       0            4800          1                50000   \n",
       "2                       1            2200          2                30000   \n",
       "\n",
       "   SCORE_CREDITO  \n",
       "0         56.000  \n",
       "1         18.000  \n",
       "2         45.000  "
      ]
     },
     "execution_count": 86,
     "metadata": {},
     "output_type": "execute_result"
    }
   ],
   "source": [
    "# Extração das variáveis preditoras - Agora passo para dentro da var predicao todas menos a target SCORE.\n",
    "\n",
    "predict = df_cred.copy()\n",
    "\n",
    "del predict[ 'EMPRESTIMO' ] \n",
    "\n",
    "predict.head( 3 )"
   ]
  },
  {
   "cell_type": "code",
   "execution_count": 87,
   "id": "554225e3-65ff-44df-9de4-888d0ca9303d",
   "metadata": {},
   "outputs": [],
   "source": [
    "# Separação dos dados para \"train_test_split\"\n",
    "\n",
    "train_X, test_X, train_y, test_y = train_test_split( predict, target_cred, test_size = 0.3, random_state = 40 )"
   ]
  },
  {
   "cell_type": "code",
   "execution_count": 88,
   "id": "8e0da260-a04c-4b0a-b071-4a6529ce594a",
   "metadata": {},
   "outputs": [],
   "source": [
    "# Padronização das variáveis numéricas com Scaler fit.transform\n",
    "\n",
    "scaler_c = MinMaxScaler() \n",
    "\n",
    "train_X_normalizado = scaler_c.fit_transform( train_X )\n",
    "test_X_normalizado  = scaler_c.transform( test_X )"
   ]
  },
  {
   "cell_type": "markdown",
   "id": "eeb4d570-9c03-4b65-b7dd-b6572bef5a22",
   "metadata": {},
   "source": [
    "* Aplicar Random Forest, avaliar e treinar o modelo preditivo para emprestimos\n",
    "- Resumo dos parâmetros à serem consumidos pelo modelo - `format HTML`\n",
    "  - <p> n_estimators - número de árvores da floresta;<br>\n",
    "max_features - O número de features a serem considerados ao procurar a melhor divisão;<br>\n",
    "max_depth - profundidade máxima das árvores;<br>\n",
    "min_samples_split - Número mínimo de amostras necessárias para dividir um nó interno;<br>\n",
    "min_samples_leaf - O número mínimo de amostras necessárias para estar em um nó folha;<br>\n",
    "bootstrap - Se as amostras de autoinicialização serão usadas na construção de árvores. Se False, o conjunto de dados inteiro é usado para criar cada árvore<br>\n",
    "___"
   ]
  },
  {
   "cell_type": "code",
   "execution_count": 89,
   "id": "ea469f0f-51d7-483e-af08-70e9acabdbf0",
   "metadata": {},
   "outputs": [
    {
     "data": {
      "text/plain": [
       "{'bootstrap': True,\n",
       " 'ccp_alpha': 0.0,\n",
       " 'class_weight': None,\n",
       " 'criterion': 'gini',\n",
       " 'max_depth': None,\n",
       " 'max_features': 'auto',\n",
       " 'max_leaf_nodes': None,\n",
       " 'max_samples': None,\n",
       " 'min_impurity_decrease': 0.0,\n",
       " 'min_samples_leaf': 1,\n",
       " 'min_samples_split': 2,\n",
       " 'min_weight_fraction_leaf': 0.0,\n",
       " 'n_estimators': 100,\n",
       " 'n_jobs': None,\n",
       " 'oob_score': False,\n",
       " 'random_state': None,\n",
       " 'verbose': 0,\n",
       " 'warm_start': False}"
      ]
     },
     "execution_count": 89,
     "metadata": {},
     "output_type": "execute_result"
    }
   ],
   "source": [
    "# Aplicando o modelo \"Random Forest\", e gerando os parâmetros\n",
    "\n",
    "clf = RandomForestClassifier( )\n",
    "\n",
    "clf.get_params()"
   ]
  },
  {
   "cell_type": "code",
   "execution_count": 78,
   "id": "f5a7c57c-b106-4262-9f50-8f50738f99c2",
   "metadata": {},
   "outputs": [
    {
     "data": {
      "application/javascript": [
       "\n",
       "        if (window._pyforest_update_imports_cell) { window._pyforest_update_imports_cell('import matplotlib as mpl\\nimport pandas as pd\\nimport sys'); }\n",
       "    "
      ],
      "text/plain": [
       "<IPython.core.display.Javascript object>"
      ]
     },
     "metadata": {},
     "output_type": "display_data"
    },
    {
     "name": "stdout",
     "output_type": "stream",
     "text": [
      "Acurácia do modelo em treinamento\f",
      ": 84.29%\n",
      "\n",
      "Hiperparâmetros selecionados: {'bootstrap': 'False', 'criterion': 'entropy', 'max_depth': 20, 'max_features': 'log2', 'min_samples_leaf': 2, 'min_samples_split': 2, 'n_estimators': 250}\n",
      "\n",
      "Núm. de treinamentos realizados\f",
      ": 1080\n",
      "\n",
      "Tempo de treinamento do Modelo\f",
      ": 413.18\n"
     ]
    }
   ],
   "source": [
    "# Montagem e parâmetrização do grid de hiperparâmetros random forest - \"árvore de descisão\"\n",
    "\n",
    "n_estimators      = np.array( [ 100, 150, 200, 250, 300 ] )\n",
    "max_depth         = np.array( [ 10, 20 ] )\n",
    "criterion         = np.array( [ 'gini', 'entropy' ] )\n",
    "max_features      = np.array( ['sqrt', 'log2', None ] )\n",
    "min_samples_split = np.array( [ 1, 2, 5 ] )\n",
    "min_samples_leaf  = np.array( [ 1, 2, 3] )\n",
    "bootstrap         = np.array( [ 'True','False' ] )\n",
    "\n",
    "# Hiperparâmetros para rendom forest\n",
    "\n",
    "grid_parametros   = dict( \n",
    "                           n_estimators = n_estimators,\n",
    "                           max_depth = max_depth,\n",
    "                           criterion = criterion,\n",
    "                           max_features = max_features,\n",
    "                           min_samples_split = min_samples_split,\n",
    "                           min_samples_leaf = min_samples_leaf,\n",
    "                           bootstrap = bootstrap \n",
    "                         )\n",
    "\n",
    "# Aplicação do Modelo com Grid de Hiperpar.\n",
    "\n",
    "clf = GridSearchCV( clf, grid_parametros, cv = 3, n_jobs = 8 )\n",
    "\n",
    "# Treinamento do modelo com parâmetros acima.\n",
    "\n",
    "inicio_time = time.time()\n",
    "clf.fit( train_X_normalizado, train_y )\n",
    "fim_time = time.time()\n",
    "\n",
    "# Relatório de obtenção dos parâmetros de treinamento do modelo\n",
    "\n",
    "treinamento_start = pd.DataFrame( clf.cv_results_ )\n",
    "\n",
    "# Acurácia e desempenho do treinamento do modelo RF\n",
    "\n",
    "print( f'Acurácia do modelo em treinamento\\f: {clf.best_score_ :.2%}' )\n",
    "print( \"\" )\n",
    "print( f'Hiperparâmetros selecionados: { clf.best_params_}' )\n",
    "print( \"\" )\n",
    "print( 'Núm. de treinamentos realizados\\f:', treinamento_start.shape[0] )\n",
    "print( \"\" )\n",
    "print( 'Tempo de treinamento do Modelo\\f:', round( fim_time - inicio_time, 2 ) )"
   ]
  },
  {
   "cell_type": "markdown",
   "id": "41f85fe2-0e8b-4478-bfb9-e1c09f156ef9",
   "metadata": {},
   "source": [
    "* Abrindo a variável **trainamento_start** para ver como foram engenheirados e distribuídos os dados de treinamento `RandomForest`"
   ]
  },
  {
   "cell_type": "code",
   "execution_count": 96,
   "id": "40c67c3f-19b9-4365-95b9-25944d9eb6aa",
   "metadata": {},
   "outputs": [
    {
     "data": {
      "text/html": [
       "<div>\n",
       "<style scoped>\n",
       "    .dataframe tbody tr th:only-of-type {\n",
       "        vertical-align: middle;\n",
       "    }\n",
       "\n",
       "    .dataframe tbody tr th {\n",
       "        vertical-align: top;\n",
       "    }\n",
       "\n",
       "    .dataframe thead th {\n",
       "        text-align: right;\n",
       "    }\n",
       "</style>\n",
       "<table border=\"1\" class=\"dataframe\">\n",
       "  <thead>\n",
       "    <tr style=\"text-align: right;\">\n",
       "      <th></th>\n",
       "      <th>param_min_samples_split</th>\n",
       "      <th>param_n_estimators</th>\n",
       "      <th>params</th>\n",
       "      <th>split0_test_score</th>\n",
       "      <th>split1_test_score</th>\n",
       "      <th>split2_test_score</th>\n",
       "      <th>mean_test_score</th>\n",
       "      <th>std_test_score</th>\n",
       "      <th>rank_test_score</th>\n",
       "    </tr>\n",
       "  </thead>\n",
       "  <tbody>\n",
       "    <tr>\n",
       "      <th>0</th>\n",
       "      <td>1</td>\n",
       "      <td>100</td>\n",
       "      <td>{'bootstrap': 'True', 'criterion': 'gini', 'ma...</td>\n",
       "      <td>NaN</td>\n",
       "      <td>NaN</td>\n",
       "      <td>NaN</td>\n",
       "      <td>NaN</td>\n",
       "      <td>NaN</td>\n",
       "      <td>1080</td>\n",
       "    </tr>\n",
       "    <tr>\n",
       "      <th>1</th>\n",
       "      <td>1</td>\n",
       "      <td>150</td>\n",
       "      <td>{'bootstrap': 'True', 'criterion': 'gini', 'ma...</td>\n",
       "      <td>NaN</td>\n",
       "      <td>NaN</td>\n",
       "      <td>NaN</td>\n",
       "      <td>NaN</td>\n",
       "      <td>NaN</td>\n",
       "      <td>724</td>\n",
       "    </tr>\n",
       "  </tbody>\n",
       "</table>\n",
       "</div>"
      ],
      "text/plain": [
       "  param_min_samples_split param_n_estimators  \\\n",
       "0                       1                100   \n",
       "1                       1                150   \n",
       "\n",
       "                                              params  split0_test_score  \\\n",
       "0  {'bootstrap': 'True', 'criterion': 'gini', 'ma...                NaN   \n",
       "1  {'bootstrap': 'True', 'criterion': 'gini', 'ma...                NaN   \n",
       "\n",
       "   split1_test_score  split2_test_score  mean_test_score  std_test_score  \\\n",
       "0                NaN                NaN              NaN             NaN   \n",
       "1                NaN                NaN              NaN             NaN   \n",
       "\n",
       "   rank_test_score  \n",
       "0             1080  \n",
       "1              724  "
      ]
     },
     "execution_count": 96,
     "metadata": {},
     "output_type": "execute_result"
    }
   ],
   "source": [
    "treinamento_start.head( 2 ).iloc[ :, 9:18 ]"
   ]
  },
  {
   "cell_type": "code",
   "execution_count": 97,
   "id": "1643ac85-5576-495e-8fd3-d131ceeda86e",
   "metadata": {},
   "outputs": [],
   "source": [
    "# Criando o classificador com Random Forest\n",
    "\n",
    "clf = RandomForestClassifier( n_estimators  = 300, criterion = 'gini', max_depth = 20, max_features = None,\n",
    "                              min_samples_leaf = 1, min_samples_split = 5, bootstrap = True )\n",
    "\n",
    "# Construção do modelo\n",
    "\n",
    "clf = clf.fit( train_X_normalizado, train_y )"
   ]
  },
  {
   "cell_type": "code",
   "execution_count": 98,
   "id": "5dbf3f95-ff27-4c61-8aec-597a083965e3",
   "metadata": {},
   "outputs": [
    {
     "data": {
      "text/plain": [
       "0.8728571428571429"
      ]
     },
     "execution_count": 98,
     "metadata": {},
     "output_type": "execute_result"
    }
   ],
   "source": [
    "# Estamos apenas \"simulando\" os dados de teste\n",
    "\n",
    "scores = clf.score( train_X_normalizado, train_y )\n",
    "scores"
   ]
  },
  {
   "cell_type": "code",
   "execution_count": 100,
   "id": "489dd042-488f-46e1-b251-89f9bb5af75e",
   "metadata": {},
   "outputs": [
    {
     "data": {
      "text/plain": [
       "0.8183333333333334"
      ]
     },
     "execution_count": 100,
     "metadata": {},
     "output_type": "execute_result"
    }
   ],
   "source": [
    "# Estamos apenas \"simulando\" os dados de teste\n",
    "\n",
    "scores = clf.score( test_X_normalizado, test_y )\n",
    "scores"
   ]
  },
  {
   "cell_type": "code",
   "execution_count": 127,
   "id": "a7bbc750-bf23-4f78-af5f-269129c9191f",
   "metadata": {},
   "outputs": [
    {
     "data": {
      "application/javascript": [
       "\n",
       "        if (window._pyforest_update_imports_cell) { window._pyforest_update_imports_cell('import matplotlib as mpl\\nimport pandas as pd\\nimport sys'); }\n",
       "    "
      ],
      "text/plain": [
       "<IPython.core.display.Javascript object>"
      ]
     },
     "metadata": {},
     "output_type": "display_data"
    },
    {
     "data": {
      "image/png": "[encoded data removed]",
      "text/plain": [
       "<Figure size 1000x1000 with 1 Axes>"
      ]
     },
     "metadata": {},
     "output_type": "display_data"
    }
   ],
   "source": [
    "# Exibindo a importancia de cada variavel no modelo preditivo\n",
    "\n",
    "plt.rcParams[\"figure.figsize\"] = [10.00, 10.00]\n",
    "plt.rcParams[\"figure.autolayout\"] = False\n",
    "\n",
    "feat_importances = pd.Series( data=clf.feature_importances_, index=predict.columns )\n",
    "feat_importances = feat_importances.sort_values( ascending = False )\n",
    "sns.barplot( x=feat_importances, y=feat_importances.index, palette= [ '#00CECB' ], orient='h');\n",
    "plt.title( 'IMPORTÂNCIA DE CADA VARIÁVEL PARA O MODELO GERADO', pad=15, fontsize=12, color='#00CECB' )\n",
    "\n",
    "plt.tight_layout()"
   ]
  },
  {
   "cell_type": "markdown",
   "id": "d1539288-1216-4c9e-9828-5e1d61c45977",
   "metadata": {},
   "source": [
    "---\n",
    "## <em>Indicadores Preditivos, Prescritivos e Cenarização<em>\n"
   ]
  },
  {
   "cell_type": "code",
   "execution_count": null,
   "id": "272ec7eb-9cbe-417a-bcea-b435b0e55288",
   "metadata": {},
   "outputs": [],
   "source": [
    "# Percentual ( Indicador de Conversão ) - Receita X Tráfego = ( 1 ) Verdadeiro para conversão em compras\n",
    "\n",
    "print( '\\nTaxa de conversão em compras:\\t {}4%'.format(round(\n",
    "         df_pred[df_pred[ 'Revenue' ]== 1 ][ 'TrafficType' ].sum() / df_pred['TrafficType'].sum().sum() * 100,2)) )"
   ]
  },
  {
   "cell_type": "code",
   "execution_count": null,
   "id": "b65739a2-8324-415f-a61f-95a045152385",
   "metadata": {},
   "outputs": [],
   "source": [
    "# Percentual ( Indicador de Conversão ) - Receita X Tráfego = ( 1 ) Verdadeiro para compras\n",
    "\n",
    "print( '\\nTaxa de conversão do trafego em engajamento (cliques):\\t {}4%'.format(round(\n",
    "         df_pred[df_pred[ 'TrafficType' ]== 1 ][ 'VisitorType' ].sum() / df_pred['VisitorType'].sum().sum() * 100,2)) )"
   ]
  },
  {
   "cell_type": "markdown",
   "id": "d61bd225-4417-48c4-9d8d-7f664ab3c794",
   "metadata": {},
   "source": [
    "---\n",
    "### Considerações sobre o projeto \n",
    "  - Como são dados de trafego e o foco é compreender as taxas do Google Analytics, fiquei um pouco limitado nas criações, como fora em projetos anteriores.\n",
    "  - No relatório acima, podemos ver que os modelos ficaram muito equivalentes em Acurácia, com uma leve melhorada no modelo 2 com 94% de acertos.\n",
    "  - O modelo ( 2 ), previu que para cada ( 100 ) pessoas que acessarem o site, ( 94 ) poderão efetivar compra.\n",
    " "
   ]
  },
  {
   "cell_type": "markdown",
   "id": "cdb7359a-13e6-4d78-86e2-6a74a5877973",
   "metadata": {
    "id": "cdb7359a-13e6-4d78-86e2-6a74a5877973",
    "tags": []
   },
   "source": [
    "### Até o próximo projeto...\n",
    "---"
   ]
  },
  {
   "cell_type": "code",
   "execution_count": 128,
   "id": "d96ab60e-0a07-49da-b7dd-bfafea22ba0d",
   "metadata": {
    "id": "d96ab60e-0a07-49da-b7dd-bfafea22ba0d",
    "outputId": "7930983e-53d1-486d-91f9-d51f2cccafea"
   },
   "outputs": [
    {
     "name": "stdout",
     "output_type": "stream",
     "text": [
      "\n",
      "DBIAN TECHNOLOGY FOR BUSINESS\n",
      " \n",
      "Claudio Fabian Stychnicki \n",
      "Gestor Comercial e Cientista de Dados\n",
      " \n",
      "Phone:\t (47) 9-92374737 \n",
      "Blumenau - SC\n",
      " \n",
      "Informações complementares em meu linkedIn\n",
      " \n",
      "Best regards.\n"
     ]
    }
   ],
   "source": [
    "print( \n",
    "      '\\nDBIAN TECHNOLOGY FOR BUSINESS\\n',\n",
    "      '\\nClaudio Fabian Stychnicki',\n",
    "      '\\nGestor Comercial e Cientista de Dados\\n',\n",
    "      '\\nPhone:\\t (47) 9-92374737',\n",
    "      '\\nBlumenau - SC\\n',\n",
    "      '\\nInformações complementares em meu linkedIn\\n',\n",
    "      '\\nBest regards.'\n",
    "      )"
   ]
  },
  {
   "cell_type": "markdown",
   "id": "43b2c8a2-48fa-4200-a978-81578a8b81a2",
   "metadata": {},
   "source": [
    "---"
   ]
  },
  {
   "cell_type": "code",
   "execution_count": null,
   "id": "c982ec0d-2a08-4ed5-ae24-91d9649b9dcd",
   "metadata": {},
   "outputs": [],
   "source": []
  }
 ],
 "metadata": {
  "colab": {
   "provenance": []
  },
  "kernelspec": {
   "display_name": "Python 3 (ipykernel)",
   "language": "python",
   "name": "python3"
  },
  "language_info": {
   "codemirror_mode": {
    "name": "ipython",
    "version": 3
   },
   "file_extension": ".py",
   "mimetype": "text/x-python",
   "name": "python",
   "nbconvert_exporter": "python",
   "pygments_lexer": "ipython3",
   "version": "3.9.13"
  },
  "vscode": {
   "interpreter": {
    "hash": "eca024455c4833da5ebd8d9f8d721333677c348aa809892c0b0eda440122e3a6"
   }
  }
 },
 "nbformat": 4,
 "nbformat_minor": 5
}
