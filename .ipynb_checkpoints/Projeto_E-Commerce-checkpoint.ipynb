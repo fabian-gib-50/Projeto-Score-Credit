{
 "cells": [
  {
   "cell_type": "markdown",
   "id": "326b6b34-0dd8-407a-af7d-aa0072205754",
   "metadata": {
    "id": "326b6b34-0dd8-407a-af7d-aa0072205754"
   },
   "source": [
    "<center><img alt='Dbian Data Scientist' width=\"100%\" src=https://user-images.githubusercontent.com/79420053/193087606-c74d7cdc-f5a2-4900-ba2e-c06108d1b586.png></center>"
   ]
  },
  {
   "cell_type": "markdown",
   "id": "3350d90c-9d41-41d9-82d0-d4ca3b7f96c6",
   "metadata": {
    "id": "3350d90c-9d41-41d9-82d0-d4ca3b7f96c6"
   },
   "source": [
    "#### <strong><em>`Dbian` Technology and `Data Science` for Business<em><strong>\n",
    "    \n",
    "   - by [Dbian.io Data Scientist](https://www.linkedin.com/company/81834844/admin/)"
   ]
  },
  {
   "cell_type": "markdown",
   "id": "7462cbe5-a5e6-4761-943d-1f4427844170",
   "metadata": {
    "id": "7462cbe5-a5e6-4761-943d-1f4427844170",
    "tags": []
   },
   "source": [
    "### <center><strong> <em>PROJETO DE DATA SCIENTIST COM MACHINE LEARNING - IA<em> <strong></center>\n",
    "    \n",
    "- `PROJETO SOBRE COMPRAS ONLINE \"LOJA VIRTUAL\"`\n",
    "    \n",
    "   - A pandemia foi um combustível para o crescimento das vendas online. No Brasil, porém, esse aumento foi ainda mais significativo. Afinal, segundo um levantamento da CupomValido, o país lidera o ranking de crescimento das vendas online, com 22,2% no ano de 2022. Além disso, estima-se um crescimento das compras online de 20,73% ao ano, entre 2022 e 2025.\n",
    "\n",
    "   - Nota: Estudo mostra que 21% dos consumidores globais planejam gastar menos tempo nas mídias sociais nos próximos seis meses\n",
    "\n",
    "   - De acordo com o estudo, o Brasil possui uma expectativa de crescimento quase duas vezes maior que a média mundial (11,35%), e acima até de países como o Japão (14,7%), o Estados Unidos (14,55%) e a França (11,68%).\n",
    "---\n",
    "\n",
    "- **Dados sobre comércio Eletrônico \"E-Commerce\"** \n",
    "   - Usarei como fonte de dados o dataset: Online Shoppers Purchasing Intention Dataset\n",
    "    \n",
    "\n",
    "   - O conjunto de dados consiste em valores de recursos pertencentes a mais de ( 12.000 ) sessões online. O conjunto de dados foi formado de modo que cada sessão pertença a um usuário diferente, compreendendo o período de ( 1 ) ano, para evitar que os dados sejam tendênciosos à uma campanha específica, dia especial, usuário, perfil ou período.\n",
    "\n",
    "   - Composição das variáveis: são 10 atributos numéricos e 8 categóricos. O atributo **Revenue** pode ser usado como o rótulo da classe, ou seja, variável **ALVO**\n",
    "    \n",
    "   - Obs.: As variáveis de análise do trafego, não estão específicadas se **`Pago ou Orgânico`**, acredito que sinalizam tráfego pago. Independentemente se pago ou orgânico, será interessante analisar a dinâmica dos dados através dás métricas e indicadores de desempenho do conjunto de dados em questão.\n",
    "  "
   ]
  },
  {
   "cell_type": "markdown",
   "id": "92869a6e-1b34-4eb3-83e1-d259a13ff003",
   "metadata": {
    "id": "92869a6e-1b34-4eb3-83e1-d259a13ff003"
   },
   "source": [
    "<center><img alt=\"Dbian Data Scientist\" width=\"100%\" src=\"./img/ecomm.jpg\"></center>"
   ]
  },
  {
   "cell_type": "markdown",
   "id": "bbe7b497-b74f-44d8-a008-fd94231d3954",
   "metadata": {},
   "source": [
    "### Projeto com aplicação de <em>**Machine Learning**<em> \n",
    "   - Sub processo dentro da área de <em>**Inteligência Artificial**<em> - I.A\n",
    "\n",
    "   \n",
    "  - **`O que é Machine Learning`**?\n",
    "    - Machine Learning (do português, aprendizado de máquina) é uma metodologia para análise de dados baseada na automatização construtiva de modelos analíticos.\n",
    "    - Esse subcampo da Inteligência Artificial (IA) coloca em prática a ideia de que máquinas e sistemas podem aprender de forma parcial ou totalmente autônoma a partir de grandes volumes de dados.\n",
    "\n",
    "    - Podem por exemplo: fazer a leitura dás informações, identificar padrões, coletar dados de usuários e tomar decisões com base na sua própria experiência.\n",
    "    "
   ]
  },
  {
   "cell_type": "markdown",
   "id": "229a19c7-81a0-4244-bfd1-96aaa2f8c1dd",
   "metadata": {
    "id": "229a19c7-81a0-4244-bfd1-96aaa2f8c1dd",
    "tags": []
   },
   "source": [
    "### <center><strong> <em> ESCOPO DO PROJETO<em> <strong></center>\n",
    "---\n",
    "  - **ENTENDIMENTO DO PROBLEMA DE NEGÓCIO** \n",
    "---\n",
    "  - Compras Online: como potencializar às vendas e melhorar ainda mais a **Receita**. \n",
    "\n",
    "  - Farei análise exploratória e gerarei métricas com indicadores para cenarizar diversas possíbilidades e estratégias que poderão ser adotadas.\n",
    "  - Meu objetivo será avaliar quais atributos contribuem e ( influênciam ) nas intensões dos compradores à tomar decisões sobre comprar ou não comprar. Quais atributos mais contribuem para o impulsionamento das compras (pedidos). Estratégicamente como posso através dos dados ajudar os times de marketing a persuadir ainda mais os usuários à comprar ainda mais e atrair novos clientes? Como otimizar os recursos para gerar mais receitas? Vou buscar responstas com esse conjunto de dados utilizando Ciência de Dados."
   ]
  },
  {
   "cell_type": "markdown",
   "id": "f9ef3549-c6a9-4e98-a4da-6341206ce6ce",
   "metadata": {
    "id": "f9ef3549-c6a9-4e98-a4da-6341206ce6ce",
    "tags": []
   },
   "source": [
    "#### EMPRESA: <em>`UOU VIRTUAL SHOPPERS`<em>\n",
    "    \n",
    "  -  Nesse projeto aplicarei inúmeras técnicas, inclusive `Machine Learning` com ( IA ).\n",
    "   - <em>`Predições` com **Machine Learning**: Métricas e Análise Estatística, gerando `indicadores` e comparativos para melhor `cenarizar`.\n",
    "   - Adotarei modelos de **Classificação Linear** porque para esse projeto será mais assertivo.\n",
    "     \n",
    "   "
   ]
  },
  {
   "cell_type": "markdown",
   "id": "d230b18a-413e-48ff-9985-94d62e61cb00",
   "metadata": {
    "id": "d230b18a-413e-48ff-9985-94d62e61cb00"
   },
   "source": [
    " ---\n",
    " <strong>Linguagem de programação principal <em>`PYTHON` & `Livros` de apoio aos projetos e metodologias. <em><strong></center> \n",
    "  - Linguagem de programação nativa `PYTHON` \n",
    "  - Python: https://www.python.org/\n",
    "  - Anaconda: https://anaconda.org/\n",
    "  - Machine Learning: https://scikit-learn.org/stable/index.html\n",
    "  - HTML\n",
    "  - IDEs de desenvolvimento: `Anaconda`-`Jupyter-lab` e `VsCode`\n",
    "    - Data Scientist para Negócios\n",
    "    - Python Data Scientist Handbook\n",
    "    - Usarei formatação de fontes em HTML na IDE `Jupyter Lab`\n",
    "---"
   ]
  },
  {
   "cell_type": "markdown",
   "id": "bee19500-8671-4eed-97ee-a2a7142af164",
   "metadata": {
    "id": "bee19500-8671-4eed-97ee-a2a7142af164",
    "tags": []
   },
   "source": [
    "#### PIPELINE DO PLANO DE TRABALHO\n",
    " \n",
    "- 1. Preparação dos Dados\n",
    "- 2. 2.1. Processamento de dados missing\n",
    "- 2.2. Processamento de Outliers ( valores acima da curva )\n",
    "- 2.3. Clusterização dos Clientes\n",
    "  - Análises Dados Exploratória (EDA)\n",
    "- 3.1. Processamento das variáveis\n",
    "- 3.2. Análise Univariada\n",
    "- 3.3. Análise Bivariada e Multiviada\n",
    "- 3.4. Validação de Hipóteses com códido\n",
    "\n",
    "  - Processamento dos Dados\n",
    "- 4.1. Engineering, Eng. de Features, criação de Variáveis\n",
    "- 4.2. Separação dos dados Splitting\n",
    "- 4.3. Escalonamento de Features - padronização/normalização\n",
    "\n",
    "   - Machine Learning Modelos ( implementações )\n",
    "- 5.1 Modelagem do Dataset para ML\n",
    "- 5.2 Tecnica Smote para balanceamento dos dados\n",
    "\n",
    "   - Conclusão dos Trabalhos\n",
    "- 6.1 Impacto nos negóciso da empresa (faturamento)\n",
    "\n",
    "\n",
    "\n",
    "\n",
    "---\n",
    "* <strong> Aplicação de Machine Learning - IA<strong>\n",
    "  - Modelo de Regressão\n",
    "  - Quatro modelos\n",
    "  - Dispersão Previsto X Real\n",
    "  - Analise do trafego no site\n",
    "  - Tranformação de mínimo e máximo\n",
    "  - StandardScaler para padronizar dados\n",
    "  - Reduzindo Variaveis\n",
    "  - Passando para np.log1p para normalização dos dados numéricos\n",
    "  - Histogramas\n",
    "  - Dispersão\n",
    "  - Predições\n",
    "  - Dispersão Previsto X Real\n",
    "  - Relatório dos modelos e parâmetros que melhor perfomaram"
   ]
  },
  {
   "cell_type": "markdown",
   "id": "83363664-a86f-43fd-ad73-736b22e19ac7",
   "metadata": {
    "id": "83363664-a86f-43fd-ad73-736b22e19ac7"
   },
   "source": [
    "### Dicionário das Variáveis\n",
    "\n",
    "  - As análises e construção do modelo preditivo, terão como norte a variável `Revenue` \"Receitas\"\n",
    "     - Total das receitas por produtos e soma total dás receitas:"
   ]
  },
  {
   "cell_type": "markdown",
   "id": "6ebea9a6-ac3e-4026-b672-ead41a9d94ec",
   "metadata": {
    "id": "6ebea9a6-ac3e-4026-b672-ead41a9d94ec",
    "jp-MarkdownHeadingCollapsed": true,
    "tags": []
   },
   "source": [
    "### Descritivo das Variáveis da ferramenta <em>**Google Analytics**<em>\n",
    "\n",
    "  - Revenue: Receitas advindas do tráfego nas paginas **( True/Verdadeiro/Virou compra e False/Falso/Não virou compra )**;\n",
    "  - Administrativo: Administrativo referente aos processos de gestão do E-Commerce;\n",
    "  - Relacionados ao Produto: Número de clics referente aos produtos no site;\n",
    "  - Taxas de Rejeição: Número de vezes em que a pessoa acessou mas não houve evolução para compra;\n",
    "  - Taxa de saída: Duração da visita no site e saida sem avançar nas paginas ;\n",
    "  - Valores de Paginas: Taxas referente acessos às paginas e navegabilidade;\n",
    "  - Obs.: O valor do recurso \"Taxa de rejeição\" de uma página da web, refere-se à porcentagem de visitantes que entram no site a partir dessa página e saem (\"rejeição\") sem acionar outras solicitações ao servidor durante essa sessão. \n",
    "   - Os recursos \"Taxa de rejeição\", \"Taxa de saída\" e \"Valor da página\" representam as métricas medidas pelo **\"Google Analytics\"** para cada página no site de comércio eletrônico. \n",
    " \n",
    "---"
   ]
  },
  {
   "cell_type": "markdown",
   "id": "009a293b-f4a9-42ec-a037-e7a8f3548b03",
   "metadata": {
    "id": "009a293b-f4a9-42ec-a037-e7a8f3548b03",
    "tags": []
   },
   "source": [
    "### Bibliotecas `Python` Aplicadas nesse `projeto`"
   ]
  },
  {
   "cell_type": "code",
   "execution_count": 1,
   "id": "2504d5b1-c37d-4c6d-be2f-8b67215c0be8",
   "metadata": {
    "id": "2504d5b1-c37d-4c6d-be2f-8b67215c0be8",
    "outputId": "ef58db6e-0ccd-4741-ceba-e67f065de34b"
   },
   "outputs": [
    {
     "data": {
      "application/javascript": [
       "\n",
       "        if (window._pyforest_update_imports_cell) { window._pyforest_update_imports_cell('import matplotlib as mpl'); }\n",
       "    "
      ],
      "text/plain": [
       "<IPython.core.display.Javascript object>"
      ]
     },
     "metadata": {},
     "output_type": "display_data"
    },
    {
     "data": {
      "application/javascript": [
       "\n",
       "        if (window._pyforest_update_imports_cell) { window._pyforest_update_imports_cell('import matplotlib as mpl'); }\n",
       "    "
      ],
      "text/plain": [
       "<IPython.core.display.Javascript object>"
      ]
     },
     "metadata": {},
     "output_type": "display_data"
    },
    {
     "data": {
      "application/javascript": [
       "\n",
       "        if (window._pyforest_update_imports_cell) { window._pyforest_update_imports_cell('import matplotlib as mpl'); }\n",
       "    "
      ],
      "text/plain": [
       "<IPython.core.display.Javascript object>"
      ]
     },
     "metadata": {},
     "output_type": "display_data"
    },
    {
     "data": {
      "application/javascript": [
       "\n",
       "        if (window._pyforest_update_imports_cell) { window._pyforest_update_imports_cell('import matplotlib as mpl'); }\n",
       "    "
      ],
      "text/plain": [
       "<IPython.core.display.Javascript object>"
      ]
     },
     "metadata": {},
     "output_type": "display_data"
    },
    {
     "data": {
      "application/javascript": [
       "\n",
       "        if (window._pyforest_update_imports_cell) { window._pyforest_update_imports_cell('import matplotlib as mpl'); }\n",
       "    "
      ],
      "text/plain": [
       "<IPython.core.display.Javascript object>"
      ]
     },
     "metadata": {},
     "output_type": "display_data"
    },
    {
     "data": {
      "application/javascript": [
       "\n",
       "        if (window._pyforest_update_imports_cell) { window._pyforest_update_imports_cell('import matplotlib as mpl\\nimport pandas as pd'); }\n",
       "    "
      ],
      "text/plain": [
       "<IPython.core.display.Javascript object>"
      ]
     },
     "metadata": {},
     "output_type": "display_data"
    },
    {
     "data": {
      "application/javascript": [
       "\n",
       "        if (window._pyforest_update_imports_cell) { window._pyforest_update_imports_cell('import matplotlib as mpl\\nimport pandas as pd'); }\n",
       "    "
      ],
      "text/plain": [
       "<IPython.core.display.Javascript object>"
      ]
     },
     "metadata": {},
     "output_type": "display_data"
    },
    {
     "data": {
      "application/javascript": [
       "\n",
       "        if (window._pyforest_update_imports_cell) { window._pyforest_update_imports_cell('import matplotlib as mpl\\nimport sys\\nimport pandas as pd'); }\n",
       "    "
      ],
      "text/plain": [
       "<IPython.core.display.Javascript object>"
      ]
     },
     "metadata": {},
     "output_type": "display_data"
    }
   ],
   "source": [
    "# Importação das Bibliotecas comuns\n",
    "\n",
    "\"\"\"Claudio Fabian Stychnicki\n",
    "   Data Scientist\n",
    "\"\"\"\n",
    "import pyforest \n",
    "import time\n",
    "import statsmodels.formula.api as sm\n",
    "import matplotlib.pyplot as plt\n",
    "import seaborn as sns\n",
    "import numpy as np\n",
    "import warnings\n",
    "%matplotlib inline\n",
    "\n",
    "# Importação das Bibliotecas de Marchine Learning \n",
    "\n",
    "from imblearn import under_sampling, over_sampling \n",
    "from imblearn.over_sampling import SMOTE\n",
    "from sklearn.preprocessing import StandardScaler\n",
    "from sklearn.preprocessing import LabelEncoder\n",
    "from sklearn.model_selection import train_test_split\n",
    "from sklearn.model_selection import GridSearchCV\n",
    "from sklearn.metrics import precision_score, recall_score, f1_score, accuracy_score, roc_auc_score\n",
    "from sklearn import svm\n",
    "import sklearn\n",
    "\n",
    "# Comando para consultar lista dos parâmetros \"rcParams\". Fontes e familias das fontes para gráficos e etc...plt.rcParams\n",
    "\n",
    "mpl.rcParams[ 'axes.spines.left' ]   = ( False )\n",
    "mpl.rcParams[ 'axes.spines.right' ]  = ( False )\n",
    "mpl.rcParams[ 'axes.spines.top' ]    = ( False )\n",
    "mpl.rcParams[ 'axes.spines.bottom' ] = ( False )\n",
    "mpl.rcParams[ 'axes.grid' ]          = ( True )\n",
    "\n",
    "# Formatando com pd.set_option para exploração dos dados\n",
    "\n",
    "pd.set_option( 'display.float_format','{:.4f}'.format ) \n",
    "\n",
    "# plt.style.use( 'classic' )\n",
    "mpl.rc('font', family = 'Verdana' )\n",
    "\n",
    "# Função ignore ara ignorar os avisos de atualizações de bibiliotecas e avisos diversos\n",
    "\n",
    "if not sys.warnoptions:\n",
    "    import warnings\n",
    "    warnings.simplefilter('ignore')\n",
    "    warnings.simplefilter(action='ignore', category=FutureWarning)\n"
   ]
  },
  {
   "cell_type": "markdown",
   "id": "d78cf975-6437-48a4-a97b-9e19d6d41444",
   "metadata": {
    "id": "d78cf975-6437-48a4-a97b-9e19d6d41444"
   },
   "source": [
    "---\n",
    "## Importando a base de dados da <em>`Prime Commerce On`<em>\n",
    "\n"
   ]
  },
  {
   "cell_type": "code",
   "execution_count": 2,
   "id": "aae0bd0f-e1ac-4ae2-aef6-6eafa9cd2b3a",
   "metadata": {
    "id": "aae0bd0f-e1ac-4ae2-aef6-6eafa9cd2b3a",
    "outputId": "fad4861a-e862-4588-f720-f05399a7f22c"
   },
   "outputs": [
    {
     "data": {
      "application/javascript": [
       "\n",
       "        if (window._pyforest_update_imports_cell) { window._pyforest_update_imports_cell('import matplotlib as mpl\\nimport sys\\nimport pandas as pd'); }\n",
       "    "
      ],
      "text/plain": [
       "<IPython.core.display.Javascript object>"
      ]
     },
     "metadata": {},
     "output_type": "display_data"
    },
    {
     "name": "stdout",
     "output_type": "stream",
     "text": [
      "Python Start Base: traga as dimensões do Dataset\n",
      "\n",
      "Base de Dados importada. Dados carregados com sucesso!\n",
      "\n",
      "Quantidade de Variáveis ( colunas ):\t 18\n",
      "Quantidade de Linhas   ( Clientes ): \t 12330\n",
      "\n",
      "Leitura das cinco primeiras linhas do conjunto de dados\n",
      "\n"
     ]
    },
    {
     "data": {
      "text/html": [
       "<div>\n",
       "<style scoped>\n",
       "    .dataframe tbody tr th:only-of-type {\n",
       "        vertical-align: middle;\n",
       "    }\n",
       "\n",
       "    .dataframe tbody tr th {\n",
       "        vertical-align: top;\n",
       "    }\n",
       "\n",
       "    .dataframe thead th {\n",
       "        text-align: right;\n",
       "    }\n",
       "</style>\n",
       "<table border=\"1\" class=\"dataframe\">\n",
       "  <thead>\n",
       "    <tr style=\"text-align: right;\">\n",
       "      <th></th>\n",
       "      <th>Administrative</th>\n",
       "      <th>Administrative_Duration</th>\n",
       "      <th>Informational</th>\n",
       "      <th>Informational_Duration</th>\n",
       "      <th>ProductRelated</th>\n",
       "      <th>ProductRelated_Duration</th>\n",
       "      <th>BounceRates</th>\n",
       "      <th>ExitRates</th>\n",
       "      <th>PageValues</th>\n",
       "      <th>SpecialDay</th>\n",
       "      <th>Month</th>\n",
       "      <th>OperatingSystems</th>\n",
       "      <th>Browser</th>\n",
       "      <th>Region</th>\n",
       "      <th>TrafficType</th>\n",
       "      <th>VisitorType</th>\n",
       "      <th>Weekend</th>\n",
       "      <th>Revenue</th>\n",
       "    </tr>\n",
       "  </thead>\n",
       "  <tbody>\n",
       "    <tr>\n",
       "      <th>0</th>\n",
       "      <td>0.0000</td>\n",
       "      <td>0.0000</td>\n",
       "      <td>0.0000</td>\n",
       "      <td>0.0000</td>\n",
       "      <td>1.0000</td>\n",
       "      <td>0.0000</td>\n",
       "      <td>0.2000</td>\n",
       "      <td>0.2000</td>\n",
       "      <td>0.0000</td>\n",
       "      <td>0.0000</td>\n",
       "      <td>Feb</td>\n",
       "      <td>1</td>\n",
       "      <td>1</td>\n",
       "      <td>1</td>\n",
       "      <td>1</td>\n",
       "      <td>Returning_Visitor</td>\n",
       "      <td>False</td>\n",
       "      <td>False</td>\n",
       "    </tr>\n",
       "    <tr>\n",
       "      <th>1</th>\n",
       "      <td>0.0000</td>\n",
       "      <td>0.0000</td>\n",
       "      <td>0.0000</td>\n",
       "      <td>0.0000</td>\n",
       "      <td>2.0000</td>\n",
       "      <td>64.0000</td>\n",
       "      <td>0.0000</td>\n",
       "      <td>0.1000</td>\n",
       "      <td>0.0000</td>\n",
       "      <td>0.0000</td>\n",
       "      <td>Feb</td>\n",
       "      <td>2</td>\n",
       "      <td>2</td>\n",
       "      <td>1</td>\n",
       "      <td>2</td>\n",
       "      <td>Returning_Visitor</td>\n",
       "      <td>False</td>\n",
       "      <td>False</td>\n",
       "    </tr>\n",
       "    <tr>\n",
       "      <th>2</th>\n",
       "      <td>0.0000</td>\n",
       "      <td>-1.0000</td>\n",
       "      <td>0.0000</td>\n",
       "      <td>-1.0000</td>\n",
       "      <td>1.0000</td>\n",
       "      <td>-1.0000</td>\n",
       "      <td>0.2000</td>\n",
       "      <td>0.2000</td>\n",
       "      <td>0.0000</td>\n",
       "      <td>0.0000</td>\n",
       "      <td>Feb</td>\n",
       "      <td>4</td>\n",
       "      <td>1</td>\n",
       "      <td>9</td>\n",
       "      <td>3</td>\n",
       "      <td>Returning_Visitor</td>\n",
       "      <td>False</td>\n",
       "      <td>False</td>\n",
       "    </tr>\n",
       "    <tr>\n",
       "      <th>3</th>\n",
       "      <td>0.0000</td>\n",
       "      <td>0.0000</td>\n",
       "      <td>0.0000</td>\n",
       "      <td>0.0000</td>\n",
       "      <td>2.0000</td>\n",
       "      <td>2.6667</td>\n",
       "      <td>0.0500</td>\n",
       "      <td>0.1400</td>\n",
       "      <td>0.0000</td>\n",
       "      <td>0.0000</td>\n",
       "      <td>Feb</td>\n",
       "      <td>3</td>\n",
       "      <td>2</td>\n",
       "      <td>2</td>\n",
       "      <td>4</td>\n",
       "      <td>Returning_Visitor</td>\n",
       "      <td>False</td>\n",
       "      <td>False</td>\n",
       "    </tr>\n",
       "    <tr>\n",
       "      <th>4</th>\n",
       "      <td>0.0000</td>\n",
       "      <td>0.0000</td>\n",
       "      <td>0.0000</td>\n",
       "      <td>0.0000</td>\n",
       "      <td>10.0000</td>\n",
       "      <td>627.5000</td>\n",
       "      <td>0.0200</td>\n",
       "      <td>0.0500</td>\n",
       "      <td>0.0000</td>\n",
       "      <td>0.0000</td>\n",
       "      <td>Feb</td>\n",
       "      <td>3</td>\n",
       "      <td>3</td>\n",
       "      <td>1</td>\n",
       "      <td>4</td>\n",
       "      <td>Returning_Visitor</td>\n",
       "      <td>True</td>\n",
       "      <td>False</td>\n",
       "    </tr>\n",
       "  </tbody>\n",
       "</table>\n",
       "</div>"
      ],
      "text/plain": [
       "   Administrative  Administrative_Duration  Informational  \\\n",
       "0          0.0000                   0.0000         0.0000   \n",
       "1          0.0000                   0.0000         0.0000   \n",
       "2          0.0000                  -1.0000         0.0000   \n",
       "3          0.0000                   0.0000         0.0000   \n",
       "4          0.0000                   0.0000         0.0000   \n",
       "\n",
       "   Informational_Duration  ProductRelated  ProductRelated_Duration  \\\n",
       "0                  0.0000          1.0000                   0.0000   \n",
       "1                  0.0000          2.0000                  64.0000   \n",
       "2                 -1.0000          1.0000                  -1.0000   \n",
       "3                  0.0000          2.0000                   2.6667   \n",
       "4                  0.0000         10.0000                 627.5000   \n",
       "\n",
       "   BounceRates  ExitRates  PageValues  SpecialDay Month  OperatingSystems  \\\n",
       "0       0.2000     0.2000      0.0000      0.0000   Feb                 1   \n",
       "1       0.0000     0.1000      0.0000      0.0000   Feb                 2   \n",
       "2       0.2000     0.2000      0.0000      0.0000   Feb                 4   \n",
       "3       0.0500     0.1400      0.0000      0.0000   Feb                 3   \n",
       "4       0.0200     0.0500      0.0000      0.0000   Feb                 3   \n",
       "\n",
       "   Browser  Region  TrafficType        VisitorType  Weekend  Revenue  \n",
       "0        1       1            1  Returning_Visitor    False    False  \n",
       "1        2       1            2  Returning_Visitor    False    False  \n",
       "2        1       9            3  Returning_Visitor    False    False  \n",
       "3        2       2            4  Returning_Visitor    False    False  \n",
       "4        3       1            4  Returning_Visitor     True    False  "
      ]
     },
     "execution_count": 2,
     "metadata": {},
     "output_type": "execute_result"
    }
   ],
   "source": [
    "# Iportando e lendo a base de dados\n",
    "\n",
    "file_path = ( './img/online_shoppers_intention.csv' )         \n",
    "# file_path = ( 'https://www.dropbox.com/s/ch69238brbvrf56/Nunique-Telecom-Customer-Churn.csv?raw=1' )\n",
    "df_raw = pd.read_csv( file_path ).copy()\n",
    "\n",
    "\n",
    "# Codigo para checar as dimensões do conjunto de dados e imprimir três linhas da base\n",
    "\n",
    "print( f'Python Start Base: traga as dimensões do Dataset\\n' )\n",
    "print( f'Base de Dados importada. Dados carregados com sucesso!\\n' )\n",
    "print( 'Quantidade de Variáveis ( colunas ):\\t {}'.format( df_raw.shape[1] ) )\n",
    "print( 'Quantidade de Linhas   ( Clientes ): \\t {}\\n'.format( df_raw.shape[0] ) )\n",
    "print( f'Leitura das cinco primeiras linhas do conjunto de dados\\n' )\n",
    "\n",
    "df_raw.head( 5 )"
   ]
  },
  {
   "cell_type": "markdown",
   "id": "5f8559df-168d-4086-90c9-8273b6bdee56",
   "metadata": {
    "id": "5f8559df-168d-4086-90c9-8273b6bdee56"
   },
   "source": [
    "## Análise **exploratória** do Conjunto de Dados ( EDA )\n",
    "  - Aplicação de normalização dos valores das colunas e `describes` para compreendermos a distribução das variáveis\n",
    "\n",
    "  - Análisando as cinco primeiras linhas, já podemos ter uma visão detalhada e mais conclusiva do conjunto de dados.\n",
    "    - Identificar a variável alvo \"**feacture**\", e outros detalhes como por exemplo o descritivo correlacional.\n",
    "\n",
    "* A variável alvo é a coluna <em>**`Revenue`**<em>, onde: Bináriamente são representadas por ( **False**, e **True** )\n",
    "    * **Falise:** - Representa NÃO `comprou`; e\n",
    "    * **True:** - Representa SIM `comprou`;"
   ]
  },
  {
   "cell_type": "markdown",
   "id": "e2d47182-fec1-4c53-bc09-b1980013d5ae",
   "metadata": {
    "id": "6f9dfd15-cf39-43a6-8121-7b8f5ca04166",
    "tags": []
   },
   "source": [
    "### Criação e Aplicação de Funções:\n",
    "\n",
    " - Função para descrever melhor as variáveis **\"sumarydata\"** \n",
    " \n",
    "   - Checagem de dados `ausentes`, dados nulos ( nan ), representam dados missing e dados duplicados.\n",
    "  \n",
    " - Função para converter String em Float\n",
    " \n",
    "   - Check das variáveis dtypes (tipos) distribuição dos valores e nome das variáveis\n",
    "   \n",
    "---\n",
    "## Pontos que merecem atenção nessa fase inicial de \"awareness\" `conhecimento`:\n",
    "\n",
    "* A coluna `costumerID` não agrega nenhuma informação, trata-se de um identificador único para cada cliente. \"Identificação na base da operadora\".\n",
    "* A variável alvo está na coluna `Churn`, indicando a situação de churn \"rotatividade de clientes\" ou seja, \"Cancelamento do Serviço\".\n",
    "* A coluna `TotalCharges` deveria ser um `float`, mas está como `string`.\n",
    "    * Como veremos mais à frente, apesar de não termos detectado nenhum valor ausente, existem algumas strings que representam ( sim ) para valores ausentes.\n",
    "* Várias features precisam ser codificadas para valores numéricos, com os métodos de padronização e normalização das variáveis para os modelo de Machine Learning\n",
    "    * Há várias features binárias, incluindo nossa variável alvo, com múltiplos valores e cada um representando uma categoria.\n",
    "    * A variável coluna `TotalCharges` será convertida para \"float64\""
   ]
  },
  {
   "cell_type": "code",
   "execution_count": 3,
   "id": "e93eaa2f-4acc-4f43-b218-b4b4678b731b",
   "metadata": {
    "id": "ee28b9d7-f4d7-413f-a5b7-5a188dfd5b8a",
    "outputId": "2b67e2dc-5643-4c35-db9d-84e610586d76"
   },
   "outputs": [
    {
     "name": "stdout",
     "output_type": "stream",
     "text": [
      "             \n",
      "Python, imprima descritivo do dicionário das variáveis com sumarização detalhada:\n",
      "              \n"
     ]
    },
    {
     "data": {
      "application/javascript": [
       "\n",
       "        if (window._pyforest_update_imports_cell) { window._pyforest_update_imports_cell('import matplotlib as mpl\\nimport sys\\nimport pandas as pd'); }\n",
       "    "
      ],
      "text/plain": [
       "<IPython.core.display.Javascript object>"
      ]
     },
     "metadata": {},
     "output_type": "display_data"
    },
    {
     "data": {
      "text/html": [
       "<div>\n",
       "<style scoped>\n",
       "    .dataframe tbody tr th:only-of-type {\n",
       "        vertical-align: middle;\n",
       "    }\n",
       "\n",
       "    .dataframe tbody tr th {\n",
       "        vertical-align: top;\n",
       "    }\n",
       "\n",
       "    .dataframe thead th {\n",
       "        text-align: right;\n",
       "    }\n",
       "</style>\n",
       "<table border=\"1\" class=\"dataframe\">\n",
       "  <thead>\n",
       "    <tr style=\"text-align: right;\">\n",
       "      <th></th>\n",
       "      <th>Nome Variáveis</th>\n",
       "      <th>dtypes</th>\n",
       "      <th>Atributo Primário</th>\n",
       "      <th>Atributo Secundário</th>\n",
       "      <th>Valores Únicos</th>\n",
       "      <th>Dados Duplicados</th>\n",
       "      <th>Dados Ausentes</th>\n",
       "    </tr>\n",
       "  </thead>\n",
       "  <tbody>\n",
       "    <tr>\n",
       "      <th>0</th>\n",
       "      <td>Administrative</td>\n",
       "      <td>float64</td>\n",
       "      <td>0.0000</td>\n",
       "      <td>0.0000</td>\n",
       "      <td>27</td>\n",
       "      <td>119</td>\n",
       "      <td>14</td>\n",
       "    </tr>\n",
       "    <tr>\n",
       "      <th>1</th>\n",
       "      <td>Administrative_Duration</td>\n",
       "      <td>float64</td>\n",
       "      <td>0.0000</td>\n",
       "      <td>0.0000</td>\n",
       "      <td>3336</td>\n",
       "      <td>119</td>\n",
       "      <td>14</td>\n",
       "    </tr>\n",
       "    <tr>\n",
       "      <th>2</th>\n",
       "      <td>Informational</td>\n",
       "      <td>float64</td>\n",
       "      <td>0.0000</td>\n",
       "      <td>0.0000</td>\n",
       "      <td>17</td>\n",
       "      <td>119</td>\n",
       "      <td>14</td>\n",
       "    </tr>\n",
       "    <tr>\n",
       "      <th>3</th>\n",
       "      <td>Informational_Duration</td>\n",
       "      <td>float64</td>\n",
       "      <td>0.0000</td>\n",
       "      <td>0.0000</td>\n",
       "      <td>1259</td>\n",
       "      <td>119</td>\n",
       "      <td>14</td>\n",
       "    </tr>\n",
       "    <tr>\n",
       "      <th>4</th>\n",
       "      <td>ProductRelated</td>\n",
       "      <td>float64</td>\n",
       "      <td>1.0000</td>\n",
       "      <td>2.0000</td>\n",
       "      <td>311</td>\n",
       "      <td>119</td>\n",
       "      <td>14</td>\n",
       "    </tr>\n",
       "    <tr>\n",
       "      <th>5</th>\n",
       "      <td>ProductRelated_Duration</td>\n",
       "      <td>float64</td>\n",
       "      <td>0.0000</td>\n",
       "      <td>64.0000</td>\n",
       "      <td>9552</td>\n",
       "      <td>119</td>\n",
       "      <td>14</td>\n",
       "    </tr>\n",
       "    <tr>\n",
       "      <th>6</th>\n",
       "      <td>BounceRates</td>\n",
       "      <td>float64</td>\n",
       "      <td>0.2000</td>\n",
       "      <td>0.0000</td>\n",
       "      <td>1872</td>\n",
       "      <td>119</td>\n",
       "      <td>14</td>\n",
       "    </tr>\n",
       "    <tr>\n",
       "      <th>7</th>\n",
       "      <td>ExitRates</td>\n",
       "      <td>float64</td>\n",
       "      <td>0.2000</td>\n",
       "      <td>0.1000</td>\n",
       "      <td>4777</td>\n",
       "      <td>119</td>\n",
       "      <td>14</td>\n",
       "    </tr>\n",
       "    <tr>\n",
       "      <th>8</th>\n",
       "      <td>PageValues</td>\n",
       "      <td>float64</td>\n",
       "      <td>0.0000</td>\n",
       "      <td>0.0000</td>\n",
       "      <td>2704</td>\n",
       "      <td>119</td>\n",
       "      <td>0</td>\n",
       "    </tr>\n",
       "    <tr>\n",
       "      <th>9</th>\n",
       "      <td>SpecialDay</td>\n",
       "      <td>float64</td>\n",
       "      <td>0.0000</td>\n",
       "      <td>0.0000</td>\n",
       "      <td>6</td>\n",
       "      <td>119</td>\n",
       "      <td>0</td>\n",
       "    </tr>\n",
       "    <tr>\n",
       "      <th>10</th>\n",
       "      <td>Month</td>\n",
       "      <td>object</td>\n",
       "      <td>Feb</td>\n",
       "      <td>Feb</td>\n",
       "      <td>10</td>\n",
       "      <td>119</td>\n",
       "      <td>0</td>\n",
       "    </tr>\n",
       "    <tr>\n",
       "      <th>11</th>\n",
       "      <td>OperatingSystems</td>\n",
       "      <td>int64</td>\n",
       "      <td>1</td>\n",
       "      <td>2</td>\n",
       "      <td>8</td>\n",
       "      <td>119</td>\n",
       "      <td>0</td>\n",
       "    </tr>\n",
       "    <tr>\n",
       "      <th>12</th>\n",
       "      <td>Browser</td>\n",
       "      <td>int64</td>\n",
       "      <td>1</td>\n",
       "      <td>2</td>\n",
       "      <td>13</td>\n",
       "      <td>119</td>\n",
       "      <td>0</td>\n",
       "    </tr>\n",
       "    <tr>\n",
       "      <th>13</th>\n",
       "      <td>Region</td>\n",
       "      <td>int64</td>\n",
       "      <td>1</td>\n",
       "      <td>1</td>\n",
       "      <td>9</td>\n",
       "      <td>119</td>\n",
       "      <td>0</td>\n",
       "    </tr>\n",
       "    <tr>\n",
       "      <th>14</th>\n",
       "      <td>TrafficType</td>\n",
       "      <td>int64</td>\n",
       "      <td>1</td>\n",
       "      <td>2</td>\n",
       "      <td>20</td>\n",
       "      <td>119</td>\n",
       "      <td>0</td>\n",
       "    </tr>\n",
       "    <tr>\n",
       "      <th>15</th>\n",
       "      <td>VisitorType</td>\n",
       "      <td>object</td>\n",
       "      <td>Returning_Visitor</td>\n",
       "      <td>Returning_Visitor</td>\n",
       "      <td>3</td>\n",
       "      <td>119</td>\n",
       "      <td>0</td>\n",
       "    </tr>\n",
       "    <tr>\n",
       "      <th>16</th>\n",
       "      <td>Weekend</td>\n",
       "      <td>bool</td>\n",
       "      <td>False</td>\n",
       "      <td>False</td>\n",
       "      <td>2</td>\n",
       "      <td>119</td>\n",
       "      <td>0</td>\n",
       "    </tr>\n",
       "    <tr>\n",
       "      <th>17</th>\n",
       "      <td>Revenue</td>\n",
       "      <td>bool</td>\n",
       "      <td>False</td>\n",
       "      <td>False</td>\n",
       "      <td>2</td>\n",
       "      <td>119</td>\n",
       "      <td>0</td>\n",
       "    </tr>\n",
       "  </tbody>\n",
       "</table>\n",
       "</div>"
      ],
      "text/plain": [
       "             Nome Variáveis   dtypes  Atributo Primário Atributo Secundário  \\\n",
       "0            Administrative  float64             0.0000              0.0000   \n",
       "1   Administrative_Duration  float64             0.0000              0.0000   \n",
       "2             Informational  float64             0.0000              0.0000   \n",
       "3    Informational_Duration  float64             0.0000              0.0000   \n",
       "4            ProductRelated  float64             1.0000              2.0000   \n",
       "5   ProductRelated_Duration  float64             0.0000             64.0000   \n",
       "6               BounceRates  float64             0.2000              0.0000   \n",
       "7                 ExitRates  float64             0.2000              0.1000   \n",
       "8                PageValues  float64             0.0000              0.0000   \n",
       "9                SpecialDay  float64             0.0000              0.0000   \n",
       "10                    Month   object                Feb                 Feb   \n",
       "11         OperatingSystems    int64                  1                   2   \n",
       "12                  Browser    int64                  1                   2   \n",
       "13                   Region    int64                  1                   1   \n",
       "14              TrafficType    int64                  1                   2   \n",
       "15              VisitorType   object  Returning_Visitor   Returning_Visitor   \n",
       "16                  Weekend     bool              False               False   \n",
       "17                  Revenue     bool              False               False   \n",
       "\n",
       "    Valores Únicos  Dados Duplicados  Dados Ausentes  \n",
       "0               27               119              14  \n",
       "1             3336               119              14  \n",
       "2               17               119              14  \n",
       "3             1259               119              14  \n",
       "4              311               119              14  \n",
       "5             9552               119              14  \n",
       "6             1872               119              14  \n",
       "7             4777               119              14  \n",
       "8             2704               119               0  \n",
       "9                6               119               0  \n",
       "10              10               119               0  \n",
       "11               8               119               0  \n",
       "12              13               119               0  \n",
       "13               9               119               0  \n",
       "14              20               119               0  \n",
       "15               3               119               0  \n",
       "16               2               119               0  \n",
       "17               2               119               0  "
      ]
     },
     "execution_count": 3,
     "metadata": {},
     "output_type": "execute_result"
    }
   ],
   "source": [
    "\n",
    "# Função criada para otimizar leitura das entredas, chegar as variáveis categóricas, numéricas e os tipos das variáveis\n",
    "\n",
    "print( '\\nPython, imprima descritivo do dicionário das variáveis com sumarização detalhada:\\n'.center(110) )\n",
    "\n",
    "def sumarycolumns ( df_raw ): \n",
    "    \"\"\"\n",
    "       fabian@22\n",
    "                \"\"\"\n",
    "    summary = pd.DataFrame( df_raw.dtypes, columns=[ 'dtypes' ] )\n",
    "    summary = summary.reset_index()\n",
    "    summary[ 'Nome Variáveis' ] = summary['index']\n",
    "    summary = summary[[ 'Nome Variáveis', 'dtypes' ]]\n",
    "    summary[ 'Atributo Primário' ]  = df_raw.loc[0].values\n",
    "    summary[ 'Atributo Secundário' ] = df_raw.loc[1].values\n",
    "    summary[ 'Valores Únicos' ] = df_raw.nunique().values\n",
    "    summary[ 'Dados Duplicados' ] = df_raw.duplicated().sum()\n",
    "    summary[ 'Dados Ausentes' ] = df_raw.isnull().sum().values\n",
    "    \n",
    "    return summary\n",
    "\n",
    "check = sumarycolumns ( df_raw )\n",
    "check.head( 20 )"
   ]
  },
  {
   "cell_type": "code",
   "execution_count": 4,
   "id": "91c84977-f59c-44a6-9ffc-b91f0cbaacdf",
   "metadata": {},
   "outputs": [
    {
     "data": {
      "text/html": [
       "<div>\n",
       "<style scoped>\n",
       "    .dataframe tbody tr th:only-of-type {\n",
       "        vertical-align: middle;\n",
       "    }\n",
       "\n",
       "    .dataframe tbody tr th {\n",
       "        vertical-align: top;\n",
       "    }\n",
       "\n",
       "    .dataframe thead th {\n",
       "        text-align: right;\n",
       "    }\n",
       "</style>\n",
       "<table border=\"1\" class=\"dataframe\">\n",
       "  <thead>\n",
       "    <tr style=\"text-align: right;\">\n",
       "      <th></th>\n",
       "      <th>Administrative</th>\n",
       "      <th>Administrative_Duration</th>\n",
       "      <th>Informational</th>\n",
       "      <th>Informational_Duration</th>\n",
       "      <th>ProductRelated</th>\n",
       "      <th>ProductRelated_Duration</th>\n",
       "      <th>BounceRates</th>\n",
       "      <th>ExitRates</th>\n",
       "      <th>PageValues</th>\n",
       "      <th>SpecialDay</th>\n",
       "      <th>OperatingSystems</th>\n",
       "      <th>Browser</th>\n",
       "      <th>Region</th>\n",
       "      <th>TrafficType</th>\n",
       "      <th>VisitorType</th>\n",
       "      <th>Weekend</th>\n",
       "      <th>Revenue</th>\n",
       "    </tr>\n",
       "    <tr>\n",
       "      <th>Month</th>\n",
       "      <th></th>\n",
       "      <th></th>\n",
       "      <th></th>\n",
       "      <th></th>\n",
       "      <th></th>\n",
       "      <th></th>\n",
       "      <th></th>\n",
       "      <th></th>\n",
       "      <th></th>\n",
       "      <th></th>\n",
       "      <th></th>\n",
       "      <th></th>\n",
       "      <th></th>\n",
       "      <th></th>\n",
       "      <th></th>\n",
       "      <th></th>\n",
       "      <th></th>\n",
       "    </tr>\n",
       "  </thead>\n",
       "  <tbody>\n",
       "    <tr>\n",
       "      <th>Feb</th>\n",
       "      <td>0.0000</td>\n",
       "      <td>0.0000</td>\n",
       "      <td>0.0000</td>\n",
       "      <td>0.0000</td>\n",
       "      <td>0.0000</td>\n",
       "      <td>0.0000</td>\n",
       "      <td>0.0000</td>\n",
       "      <td>0.0000</td>\n",
       "      <td>0.0000</td>\n",
       "      <td>0.0000</td>\n",
       "      <td>0.0000</td>\n",
       "      <td>0.0000</td>\n",
       "      <td>0.0000</td>\n",
       "      <td>0.0000</td>\n",
       "      <td>0.0000</td>\n",
       "      <td>0.0000</td>\n",
       "      <td>0.0000</td>\n",
       "    </tr>\n",
       "    <tr>\n",
       "      <th>Mar</th>\n",
       "      <td>0.0011</td>\n",
       "      <td>0.0011</td>\n",
       "      <td>0.0011</td>\n",
       "      <td>0.0011</td>\n",
       "      <td>0.0011</td>\n",
       "      <td>0.0011</td>\n",
       "      <td>0.0011</td>\n",
       "      <td>0.0011</td>\n",
       "      <td>0.0000</td>\n",
       "      <td>0.0000</td>\n",
       "      <td>0.0000</td>\n",
       "      <td>0.0000</td>\n",
       "      <td>0.0000</td>\n",
       "      <td>0.0000</td>\n",
       "      <td>0.0000</td>\n",
       "      <td>0.0000</td>\n",
       "      <td>0.0000</td>\n",
       "    </tr>\n",
       "    <tr>\n",
       "      <th>May</th>\n",
       "      <td>0.0001</td>\n",
       "      <td>0.0001</td>\n",
       "      <td>0.0001</td>\n",
       "      <td>0.0001</td>\n",
       "      <td>0.0001</td>\n",
       "      <td>0.0001</td>\n",
       "      <td>0.0001</td>\n",
       "      <td>0.0001</td>\n",
       "      <td>0.0000</td>\n",
       "      <td>0.0000</td>\n",
       "      <td>0.0000</td>\n",
       "      <td>0.0000</td>\n",
       "      <td>0.0000</td>\n",
       "      <td>0.0000</td>\n",
       "      <td>0.0000</td>\n",
       "      <td>0.0000</td>\n",
       "      <td>0.0000</td>\n",
       "    </tr>\n",
       "    <tr>\n",
       "      <th>Oct</th>\n",
       "      <td>0.0000</td>\n",
       "      <td>0.0000</td>\n",
       "      <td>0.0000</td>\n",
       "      <td>0.0000</td>\n",
       "      <td>0.0000</td>\n",
       "      <td>0.0000</td>\n",
       "      <td>0.0000</td>\n",
       "      <td>0.0000</td>\n",
       "      <td>0.0000</td>\n",
       "      <td>0.0000</td>\n",
       "      <td>0.0000</td>\n",
       "      <td>0.0000</td>\n",
       "      <td>0.0000</td>\n",
       "      <td>0.0000</td>\n",
       "      <td>0.0000</td>\n",
       "      <td>0.0000</td>\n",
       "      <td>0.0000</td>\n",
       "    </tr>\n",
       "    <tr>\n",
       "      <th>June</th>\n",
       "      <td>0.0000</td>\n",
       "      <td>0.0000</td>\n",
       "      <td>0.0000</td>\n",
       "      <td>0.0000</td>\n",
       "      <td>0.0000</td>\n",
       "      <td>0.0000</td>\n",
       "      <td>0.0000</td>\n",
       "      <td>0.0000</td>\n",
       "      <td>0.0000</td>\n",
       "      <td>0.0000</td>\n",
       "      <td>0.0000</td>\n",
       "      <td>0.0000</td>\n",
       "      <td>0.0000</td>\n",
       "      <td>0.0000</td>\n",
       "      <td>0.0000</td>\n",
       "      <td>0.0000</td>\n",
       "      <td>0.0000</td>\n",
       "    </tr>\n",
       "  </tbody>\n",
       "</table>\n",
       "</div>"
      ],
      "text/plain": [
       "       Administrative  Administrative_Duration  Informational  \\\n",
       "Month                                                           \n",
       "Feb            0.0000                   0.0000         0.0000   \n",
       "Mar            0.0011                   0.0011         0.0011   \n",
       "May            0.0001                   0.0001         0.0001   \n",
       "Oct            0.0000                   0.0000         0.0000   \n",
       "June           0.0000                   0.0000         0.0000   \n",
       "\n",
       "       Informational_Duration  ProductRelated  ProductRelated_Duration  \\\n",
       "Month                                                                    \n",
       "Feb                    0.0000          0.0000                   0.0000   \n",
       "Mar                    0.0011          0.0011                   0.0011   \n",
       "May                    0.0001          0.0001                   0.0001   \n",
       "Oct                    0.0000          0.0000                   0.0000   \n",
       "June                   0.0000          0.0000                   0.0000   \n",
       "\n",
       "       BounceRates  ExitRates  PageValues  SpecialDay  OperatingSystems  \\\n",
       "Month                                                                     \n",
       "Feb         0.0000     0.0000      0.0000      0.0000            0.0000   \n",
       "Mar         0.0011     0.0011      0.0000      0.0000            0.0000   \n",
       "May         0.0001     0.0001      0.0000      0.0000            0.0000   \n",
       "Oct         0.0000     0.0000      0.0000      0.0000            0.0000   \n",
       "June        0.0000     0.0000      0.0000      0.0000            0.0000   \n",
       "\n",
       "       Browser  Region  TrafficType  VisitorType  Weekend  Revenue  \n",
       "Month                                                               \n",
       "Feb     0.0000  0.0000       0.0000       0.0000   0.0000   0.0000  \n",
       "Mar     0.0000  0.0000       0.0000       0.0000   0.0000   0.0000  \n",
       "May     0.0000  0.0000       0.0000       0.0000   0.0000   0.0000  \n",
       "Oct     0.0000  0.0000       0.0000       0.0000   0.0000   0.0000  \n",
       "June    0.0000  0.0000       0.0000       0.0000   0.0000   0.0000  "
      ]
     },
     "execution_count": 4,
     "metadata": {},
     "output_type": "execute_result"
    }
   ],
   "source": [
    "# Checagem dos dados ausentes na variável Month ( meses )\n",
    "\n",
    "display = (df_raw.set_index('Month').isnull().sum(level=0) / df_raw.shape[0] )\n",
    "display.head( 5 )"
   ]
  },
  {
   "cell_type": "code",
   "execution_count": 5,
   "id": "f9abfc8f-10c2-4d23-85fe-fdbbce6746e5",
   "metadata": {},
   "outputs": [
    {
     "data": {
      "text/html": [
       "<div>\n",
       "<style scoped>\n",
       "    .dataframe tbody tr th:only-of-type {\n",
       "        vertical-align: middle;\n",
       "    }\n",
       "\n",
       "    .dataframe tbody tr th {\n",
       "        vertical-align: top;\n",
       "    }\n",
       "\n",
       "    .dataframe thead th {\n",
       "        text-align: right;\n",
       "    }\n",
       "</style>\n",
       "<table border=\"1\" class=\"dataframe\">\n",
       "  <thead>\n",
       "    <tr style=\"text-align: right;\">\n",
       "      <th></th>\n",
       "      <th>Administrative</th>\n",
       "      <th>Administrative_Duration</th>\n",
       "      <th>Informational</th>\n",
       "      <th>Informational_Duration</th>\n",
       "      <th>ProductRelated</th>\n",
       "      <th>ProductRelated_Duration</th>\n",
       "      <th>BounceRates</th>\n",
       "      <th>ExitRates</th>\n",
       "      <th>PageValues</th>\n",
       "      <th>SpecialDay</th>\n",
       "      <th>OperatingSystems</th>\n",
       "      <th>Browser</th>\n",
       "      <th>Region</th>\n",
       "      <th>TrafficType</th>\n",
       "    </tr>\n",
       "  </thead>\n",
       "  <tbody>\n",
       "    <tr>\n",
       "      <th>0</th>\n",
       "      <td>0.0000</td>\n",
       "      <td>0.0000</td>\n",
       "      <td>0.0000</td>\n",
       "      <td>0.0000</td>\n",
       "      <td>1.0000</td>\n",
       "      <td>0.0000</td>\n",
       "      <td>0.2000</td>\n",
       "      <td>0.2000</td>\n",
       "      <td>0.0000</td>\n",
       "      <td>0.0000</td>\n",
       "      <td>1</td>\n",
       "      <td>1</td>\n",
       "      <td>1</td>\n",
       "      <td>1</td>\n",
       "    </tr>\n",
       "    <tr>\n",
       "      <th>1</th>\n",
       "      <td>0.0000</td>\n",
       "      <td>0.0000</td>\n",
       "      <td>0.0000</td>\n",
       "      <td>0.0000</td>\n",
       "      <td>2.0000</td>\n",
       "      <td>64.0000</td>\n",
       "      <td>0.0000</td>\n",
       "      <td>0.1000</td>\n",
       "      <td>0.0000</td>\n",
       "      <td>0.0000</td>\n",
       "      <td>2</td>\n",
       "      <td>2</td>\n",
       "      <td>1</td>\n",
       "      <td>2</td>\n",
       "    </tr>\n",
       "    <tr>\n",
       "      <th>2</th>\n",
       "      <td>0.0000</td>\n",
       "      <td>-1.0000</td>\n",
       "      <td>0.0000</td>\n",
       "      <td>-1.0000</td>\n",
       "      <td>1.0000</td>\n",
       "      <td>-1.0000</td>\n",
       "      <td>0.2000</td>\n",
       "      <td>0.2000</td>\n",
       "      <td>0.0000</td>\n",
       "      <td>0.0000</td>\n",
       "      <td>4</td>\n",
       "      <td>1</td>\n",
       "      <td>9</td>\n",
       "      <td>3</td>\n",
       "    </tr>\n",
       "    <tr>\n",
       "      <th>3</th>\n",
       "      <td>0.0000</td>\n",
       "      <td>0.0000</td>\n",
       "      <td>0.0000</td>\n",
       "      <td>0.0000</td>\n",
       "      <td>2.0000</td>\n",
       "      <td>2.6667</td>\n",
       "      <td>0.0500</td>\n",
       "      <td>0.1400</td>\n",
       "      <td>0.0000</td>\n",
       "      <td>0.0000</td>\n",
       "      <td>3</td>\n",
       "      <td>2</td>\n",
       "      <td>2</td>\n",
       "      <td>4</td>\n",
       "    </tr>\n",
       "    <tr>\n",
       "      <th>4</th>\n",
       "      <td>0.0000</td>\n",
       "      <td>0.0000</td>\n",
       "      <td>0.0000</td>\n",
       "      <td>0.0000</td>\n",
       "      <td>10.0000</td>\n",
       "      <td>627.5000</td>\n",
       "      <td>0.0200</td>\n",
       "      <td>0.0500</td>\n",
       "      <td>0.0000</td>\n",
       "      <td>0.0000</td>\n",
       "      <td>3</td>\n",
       "      <td>3</td>\n",
       "      <td>1</td>\n",
       "      <td>4</td>\n",
       "    </tr>\n",
       "  </tbody>\n",
       "</table>\n",
       "</div>"
      ],
      "text/plain": [
       "   Administrative  Administrative_Duration  Informational  \\\n",
       "0          0.0000                   0.0000         0.0000   \n",
       "1          0.0000                   0.0000         0.0000   \n",
       "2          0.0000                  -1.0000         0.0000   \n",
       "3          0.0000                   0.0000         0.0000   \n",
       "4          0.0000                   0.0000         0.0000   \n",
       "\n",
       "   Informational_Duration  ProductRelated  ProductRelated_Duration  \\\n",
       "0                  0.0000          1.0000                   0.0000   \n",
       "1                  0.0000          2.0000                  64.0000   \n",
       "2                 -1.0000          1.0000                  -1.0000   \n",
       "3                  0.0000          2.0000                   2.6667   \n",
       "4                  0.0000         10.0000                 627.5000   \n",
       "\n",
       "   BounceRates  ExitRates  PageValues  SpecialDay  OperatingSystems  Browser  \\\n",
       "0       0.2000     0.2000      0.0000      0.0000                 1        1   \n",
       "1       0.0000     0.1000      0.0000      0.0000                 2        2   \n",
       "2       0.2000     0.2000      0.0000      0.0000                 4        1   \n",
       "3       0.0500     0.1400      0.0000      0.0000                 3        2   \n",
       "4       0.0200     0.0500      0.0000      0.0000                 3        3   \n",
       "\n",
       "   Region  TrafficType  \n",
       "0       1            1  \n",
       "1       1            2  \n",
       "2       9            3  \n",
       "3       2            4  \n",
       "4       1            4  "
      ]
     },
     "execution_count": 5,
     "metadata": {},
     "output_type": "execute_result"
    }
   ],
   "source": [
    "# Checagem das variáveis \"numéricas\" para compreender a distribuíção\n",
    "\n",
    "df_raw.select_dtypes(include='number').head()"
   ]
  },
  {
   "cell_type": "code",
   "execution_count": 6,
   "id": "49872631-8501-4717-ada3-d9fb12d50241",
   "metadata": {},
   "outputs": [
    {
     "data": {
      "application/javascript": [
       "\n",
       "        if (window._pyforest_update_imports_cell) { window._pyforest_update_imports_cell('import matplotlib as mpl\\nimport sys\\nimport pandas as pd'); }\n",
       "    "
      ],
      "text/plain": [
       "<IPython.core.display.Javascript object>"
      ]
     },
     "metadata": {},
     "output_type": "display_data"
    },
    {
     "name": "stdout",
     "output_type": "stream",
     "text": [
      "Percentual de valores ausentes:\n",
      "\n"
     ]
    },
    {
     "data": {
      "application/javascript": [
       "\n",
       "        if (window._pyforest_update_imports_cell) { window._pyforest_update_imports_cell('import matplotlib as mpl\\nimport sys\\nimport pandas as pd'); }\n",
       "    "
      ],
      "text/plain": [
       "<IPython.core.display.Javascript object>"
      ]
     },
     "metadata": {},
     "output_type": "display_data"
    },
    {
     "name": "stdout",
     "output_type": "stream",
     "text": [
      "Administrative   0.11%\n",
      "Informational    0.11%\n",
      "                  ... \n",
      "PageValues       0.00%\n",
      "Revenue          0.00%\n",
      "Length: 18, dtype: float64\n"
     ]
    }
   ],
   "source": [
    "# Checagem dos dados ausentes por variável em percentual\n",
    "\n",
    "pd.set_option('display.float_format','{:.2f}%'.format)  \n",
    "print('Percentual de valores ausentes:\\n'),\n",
    "                 \n",
    "with pd.option_context('display.max_rows', (5), 'display.max_columns', None):\n",
    "  print(((df_raw.isnull().sum() / df_raw.shape[0]) ).sort_values(ascending = False) * 100 )"
   ]
  },
  {
   "cell_type": "markdown",
   "id": "0746bf84-f031-4094-801c-8cfb4d504fce",
   "metadata": {},
   "source": [
    "---\n",
    "* Na checagem acima posso ver que tenho ( 8 ) variáveis com ( 14 ) registros de ausência cada. \n",
    "- Procedimento que adotarei. Como irei trabalhar com predição, se enxertar com médiana, posso ter métricas e indicadores que não corresponderão ao propósito. Como trabalhaei com Machine Learning, optei por limpar os registros ausentes, excluíndo-os. São poucos registros frente ao volume de dados...12 mil linhas.\n",
    "- Analisando os dados acima posso concluir que o perído vai de fevereiro há dezembro com ( 10 ) meses de coleta dos dados do Google Analytics."
   ]
  },
  {
   "cell_type": "code",
   "execution_count": 7,
   "id": "1e32e655-401e-4933-853d-4bd288b5eec4",
   "metadata": {},
   "outputs": [
    {
     "name": "stdout",
     "output_type": "stream",
     "text": [
      "Dados ausentes eliminados\n"
     ]
    },
    {
     "data": {
      "text/plain": [
       "(None,\n",
       " Administrative             0\n",
       " Administrative_Duration    0\n",
       " Informational              0\n",
       " Informational_Duration     0\n",
       " ProductRelated             0\n",
       " ProductRelated_Duration    0\n",
       " BounceRates                0\n",
       " ExitRates                  0\n",
       " PageValues                 0\n",
       " SpecialDay                 0\n",
       " Month                      0\n",
       " OperatingSystems           0\n",
       " Browser                    0\n",
       " Region                     0\n",
       " TrafficType                0\n",
       " VisitorType                0\n",
       " Weekend                    0\n",
       " Revenue                    0\n",
       " dtype: int64)"
      ]
     },
     "execution_count": 7,
     "metadata": {},
     "output_type": "execute_result"
    }
   ],
   "source": [
    "# Exclusão dos dados ausentes do Dataset.\n",
    "\n",
    "df_raw.dropna( inplace=True )\n",
    "\n",
    "# Checagem do feito\n",
    "\n",
    "print( 'Dados ausentes eliminados'), df_raw.isna().sum()"
   ]
  },
  {
   "cell_type": "code",
   "execution_count": 8,
   "id": "639b026c-1f60-411f-8c82-4df5b14300e4",
   "metadata": {},
   "outputs": [
    {
     "data": {
      "application/javascript": [
       "\n",
       "        if (window._pyforest_update_imports_cell) { window._pyforest_update_imports_cell('import matplotlib as mpl\\nimport sys\\nimport pandas as pd'); }\n",
       "    "
      ],
      "text/plain": [
       "<IPython.core.display.Javascript object>"
      ]
     },
     "metadata": {},
     "output_type": "display_data"
    },
    {
     "name": "stdout",
     "output_type": "stream",
     "text": [
      "\n",
      "Print variáveis contínuas:\f",
      " ['Administrative_Duration', 'Informational_Duration', 'ProductRelated', 'ProductRelated_Duration', 'BounceRates', 'ExitRates', 'PageValues']\n"
     ]
    }
   ],
   "source": [
    "# Fazendo cópia do database, e passando para a variável \"df_eng\", objeto Python\n",
    "\n",
    "pd.set_option('display.float_format','{:.4f}'.format)  \n",
    "df_eng = df_raw.copy()\n",
    "\n",
    "var_continuas   = []\n",
    "var_categoricas = []\n",
    "\n",
    "for f in df_eng.columns[: -1]:\n",
    "    if df_eng.nunique()[ f ] >= 30:\n",
    "        var_continuas.append( f )\n",
    "    else:\n",
    "        var_categoricas.append( f )\n",
    "        \n",
    "print( f'\\nPrint variáveis contínuas:\\f', var_continuas )"
   ]
  },
  {
   "cell_type": "code",
   "execution_count": 9,
   "id": "77b5ed42-12a6-4170-ad1b-0a8d789902e3",
   "metadata": {},
   "outputs": [
    {
     "data": {
      "text/html": [
       "<div>\n",
       "<style scoped>\n",
       "    .dataframe tbody tr th:only-of-type {\n",
       "        vertical-align: middle;\n",
       "    }\n",
       "\n",
       "    .dataframe tbody tr th {\n",
       "        vertical-align: top;\n",
       "    }\n",
       "\n",
       "    .dataframe thead th {\n",
       "        text-align: right;\n",
       "    }\n",
       "</style>\n",
       "<table border=\"1\" class=\"dataframe\">\n",
       "  <thead>\n",
       "    <tr style=\"text-align: right;\">\n",
       "      <th></th>\n",
       "      <th>Administrative_Duration</th>\n",
       "      <th>Informational_Duration</th>\n",
       "      <th>ProductRelated</th>\n",
       "      <th>ProductRelated_Duration</th>\n",
       "      <th>BounceRates</th>\n",
       "      <th>ExitRates</th>\n",
       "      <th>PageValues</th>\n",
       "    </tr>\n",
       "  </thead>\n",
       "  <tbody>\n",
       "    <tr>\n",
       "      <th>0</th>\n",
       "      <td>0.0000</td>\n",
       "      <td>0.0000</td>\n",
       "      <td>1.0000</td>\n",
       "      <td>0.0000</td>\n",
       "      <td>0.2000</td>\n",
       "      <td>0.2000</td>\n",
       "      <td>0.0000</td>\n",
       "    </tr>\n",
       "    <tr>\n",
       "      <th>1</th>\n",
       "      <td>0.0000</td>\n",
       "      <td>0.0000</td>\n",
       "      <td>2.0000</td>\n",
       "      <td>64.0000</td>\n",
       "      <td>0.0000</td>\n",
       "      <td>0.1000</td>\n",
       "      <td>0.0000</td>\n",
       "    </tr>\n",
       "    <tr>\n",
       "      <th>2</th>\n",
       "      <td>-1.0000</td>\n",
       "      <td>-1.0000</td>\n",
       "      <td>1.0000</td>\n",
       "      <td>-1.0000</td>\n",
       "      <td>0.2000</td>\n",
       "      <td>0.2000</td>\n",
       "      <td>0.0000</td>\n",
       "    </tr>\n",
       "  </tbody>\n",
       "</table>\n",
       "</div>"
      ],
      "text/plain": [
       "   Administrative_Duration  Informational_Duration  ProductRelated  \\\n",
       "0                   0.0000                  0.0000          1.0000   \n",
       "1                   0.0000                  0.0000          2.0000   \n",
       "2                  -1.0000                 -1.0000          1.0000   \n",
       "\n",
       "   ProductRelated_Duration  BounceRates  ExitRates  PageValues  \n",
       "0                   0.0000       0.2000     0.2000      0.0000  \n",
       "1                  64.0000       0.0000     0.1000      0.0000  \n",
       "2                  -1.0000       0.2000     0.2000      0.0000  "
      ]
     },
     "execution_count": 9,
     "metadata": {},
     "output_type": "execute_result"
    }
   ],
   "source": [
    "df_eng[var_continuas].head( 3 )"
   ]
  },
  {
   "cell_type": "code",
   "execution_count": 10,
   "id": "2ffb5233-3224-4937-953d-fdfa45babb83",
   "metadata": {},
   "outputs": [
    {
     "name": "stdout",
     "output_type": "stream",
     "text": [
      "\n",
      "Print variáveis categóricas:\f",
      " ['Administrative', 'Informational', 'SpecialDay', 'Month', 'OperatingSystems', 'Browser', 'Region', 'TrafficType', 'VisitorType', 'Weekend']\n"
     ]
    }
   ],
   "source": [
    "\n",
    "print( f'\\nPrint variáveis categóricas:\\f', var_categoricas )"
   ]
  },
  {
   "cell_type": "code",
   "execution_count": 11,
   "id": "690e6486-bf3a-4943-b816-97b1224b6cfc",
   "metadata": {},
   "outputs": [
    {
     "data": {
      "text/html": [
       "<div>\n",
       "<style scoped>\n",
       "    .dataframe tbody tr th:only-of-type {\n",
       "        vertical-align: middle;\n",
       "    }\n",
       "\n",
       "    .dataframe tbody tr th {\n",
       "        vertical-align: top;\n",
       "    }\n",
       "\n",
       "    .dataframe thead th {\n",
       "        text-align: right;\n",
       "    }\n",
       "</style>\n",
       "<table border=\"1\" class=\"dataframe\">\n",
       "  <thead>\n",
       "    <tr style=\"text-align: right;\">\n",
       "      <th></th>\n",
       "      <th>Administrative</th>\n",
       "      <th>Informational</th>\n",
       "      <th>SpecialDay</th>\n",
       "      <th>Month</th>\n",
       "      <th>OperatingSystems</th>\n",
       "      <th>Browser</th>\n",
       "      <th>Region</th>\n",
       "      <th>TrafficType</th>\n",
       "      <th>VisitorType</th>\n",
       "      <th>Weekend</th>\n",
       "    </tr>\n",
       "  </thead>\n",
       "  <tbody>\n",
       "    <tr>\n",
       "      <th>0</th>\n",
       "      <td>0.0000</td>\n",
       "      <td>0.0000</td>\n",
       "      <td>0.0000</td>\n",
       "      <td>Feb</td>\n",
       "      <td>1</td>\n",
       "      <td>1</td>\n",
       "      <td>1</td>\n",
       "      <td>1</td>\n",
       "      <td>Returning_Visitor</td>\n",
       "      <td>False</td>\n",
       "    </tr>\n",
       "    <tr>\n",
       "      <th>1</th>\n",
       "      <td>0.0000</td>\n",
       "      <td>0.0000</td>\n",
       "      <td>0.0000</td>\n",
       "      <td>Feb</td>\n",
       "      <td>2</td>\n",
       "      <td>2</td>\n",
       "      <td>1</td>\n",
       "      <td>2</td>\n",
       "      <td>Returning_Visitor</td>\n",
       "      <td>False</td>\n",
       "    </tr>\n",
       "    <tr>\n",
       "      <th>2</th>\n",
       "      <td>0.0000</td>\n",
       "      <td>0.0000</td>\n",
       "      <td>0.0000</td>\n",
       "      <td>Feb</td>\n",
       "      <td>4</td>\n",
       "      <td>1</td>\n",
       "      <td>9</td>\n",
       "      <td>3</td>\n",
       "      <td>Returning_Visitor</td>\n",
       "      <td>False</td>\n",
       "    </tr>\n",
       "  </tbody>\n",
       "</table>\n",
       "</div>"
      ],
      "text/plain": [
       "   Administrative  Informational  SpecialDay Month  OperatingSystems  Browser  \\\n",
       "0          0.0000         0.0000      0.0000   Feb                 1        1   \n",
       "1          0.0000         0.0000      0.0000   Feb                 2        2   \n",
       "2          0.0000         0.0000      0.0000   Feb                 4        1   \n",
       "\n",
       "   Region  TrafficType        VisitorType  Weekend  \n",
       "0       1            1  Returning_Visitor    False  \n",
       "1       1            2  Returning_Visitor    False  \n",
       "2       9            3  Returning_Visitor    False  "
      ]
     },
     "execution_count": 11,
     "metadata": {},
     "output_type": "execute_result"
    }
   ],
   "source": [
    "df_eng[var_categoricas].head( 3 )"
   ]
  },
  {
   "cell_type": "code",
   "execution_count": 12,
   "id": "0dc7c94c-4039-4517-a6f8-0f67e18cc83b",
   "metadata": {},
   "outputs": [
    {
     "name": "stdout",
     "output_type": "stream",
     "text": [
      "\n"
     ]
    },
    {
     "data": {
      "image/png": "[encoded data removed]",
      "text/plain": [
       "<Figure size 1200x800 with 7 Axes>"
      ]
     },
     "metadata": {},
     "output_type": "display_data"
    }
   ],
   "source": [
    "\n",
    "fig = plt.figure( figsize = (12, 8 ))\n",
    "sns.set_style(\"whitegrid\")\n",
    "\n",
    "print( )\n",
    "for i, col in enumerate( var_continuas ): \n",
    "\n",
    "    plt.subplot( 3, 3, i + 1 );\n",
    "    df_eng.boxplot( col, notch=True, \n",
    "                    showfliers=True,\n",
    "                    vert=True,\n",
    "                    whis=0.75,\n",
    "                    grid = ( False ),\n",
    "                    color='Orange' );\n",
    "    \n",
    "plt.tight_layout ()"
   ]
  },
  {
   "cell_type": "code",
   "execution_count": 13,
   "id": "6b86d196-b083-4ba1-a926-1784ef3f1672",
   "metadata": {},
   "outputs": [],
   "source": [
    "# Aplicação de log1p np.numpy, basicamente o processo serve para ajustar as escalas dos valores contínuos\n",
    "\n",
    "df_eng[ var_continuas ] = np.log1p( 1 + df_eng[ var_continuas ] )"
   ]
  },
  {
   "cell_type": "code",
   "execution_count": 14,
   "id": "b9fef470-225e-4fd1-bb6e-a30b7f2eb239",
   "metadata": {},
   "outputs": [
    {
     "name": "stdout",
     "output_type": "stream",
     "text": [
      "\n"
     ]
    },
    {
     "data": {
      "image/png": "[encoded data removed]",
      "text/plain": [
       "<Figure size 1200x800 with 7 Axes>"
      ]
     },
     "metadata": {},
     "output_type": "display_data"
    }
   ],
   "source": [
    "fig = plt.figure( figsize = (12, 8 ))\n",
    "sns.set_style(\"whitegrid\")\n",
    "\n",
    "print( )\n",
    "for i, col in enumerate( var_continuas ): \n",
    "\n",
    "    plt.subplot( 3, 3, i + 1 );\n",
    "    df_eng.boxplot( col, notch=True, \n",
    "                    showfliers=True,\n",
    "                    vert=True,\n",
    "                    whis=0.75,\n",
    "                    grid = ( False ),\n",
    "                    color='Blue' );\n",
    "    \n",
    "plt.tight_layout ()"
   ]
  },
  {
   "cell_type": "code",
   "execution_count": 65,
   "id": "66866c3c-a757-442b-ad06-fe6731f28552",
   "metadata": {},
   "outputs": [
    {
     "data": {
      "text/html": [
       "<div>\n",
       "<style scoped>\n",
       "    .dataframe tbody tr th:only-of-type {\n",
       "        vertical-align: middle;\n",
       "    }\n",
       "\n",
       "    .dataframe tbody tr th {\n",
       "        vertical-align: top;\n",
       "    }\n",
       "\n",
       "    .dataframe thead th {\n",
       "        text-align: right;\n",
       "    }\n",
       "</style>\n",
       "<table border=\"1\" class=\"dataframe\">\n",
       "  <thead>\n",
       "    <tr style=\"text-align: right;\">\n",
       "      <th></th>\n",
       "      <th>Administrative_Duration</th>\n",
       "      <th>Informational_Duration</th>\n",
       "      <th>ProductRelated_Duration</th>\n",
       "      <th>BounceRates</th>\n",
       "      <th>ExitRates</th>\n",
       "      <th>PageValues</th>\n",
       "      <th>Revenue</th>\n",
       "    </tr>\n",
       "  </thead>\n",
       "  <tbody>\n",
       "    <tr>\n",
       "      <th>Administrative_Duration</th>\n",
       "      <td>1.0000</td>\n",
       "      <td>0.3456</td>\n",
       "      <td>0.4077</td>\n",
       "      <td>-0.3054</td>\n",
       "      <td>-0.4203</td>\n",
       "      <td>0.2556</td>\n",
       "      <td>0.1650</td>\n",
       "    </tr>\n",
       "    <tr>\n",
       "      <th>Informational_Duration</th>\n",
       "      <td>0.3456</td>\n",
       "      <td>1.0000</td>\n",
       "      <td>0.3156</td>\n",
       "      <td>-0.1421</td>\n",
       "      <td>-0.2011</td>\n",
       "      <td>0.1649</td>\n",
       "      <td>0.1126</td>\n",
       "    </tr>\n",
       "    <tr>\n",
       "      <th>ProductRelated_Duration</th>\n",
       "      <td>0.4077</td>\n",
       "      <td>0.3156</td>\n",
       "      <td>1.0000</td>\n",
       "      <td>-0.6819</td>\n",
       "      <td>-0.7570</td>\n",
       "      <td>0.2632</td>\n",
       "      <td>0.2037</td>\n",
       "    </tr>\n",
       "    <tr>\n",
       "      <th>BounceRates</th>\n",
       "      <td>-0.3054</td>\n",
       "      <td>-0.1421</td>\n",
       "      <td>-0.6819</td>\n",
       "      <td>1.0000</td>\n",
       "      <td>0.9101</td>\n",
       "      <td>-0.1713</td>\n",
       "      <td>-0.1517</td>\n",
       "    </tr>\n",
       "    <tr>\n",
       "      <th>ExitRates</th>\n",
       "      <td>-0.4203</td>\n",
       "      <td>-0.2011</td>\n",
       "      <td>-0.7570</td>\n",
       "      <td>0.9101</td>\n",
       "      <td>1.0000</td>\n",
       "      <td>-0.2462</td>\n",
       "      <td>-0.2088</td>\n",
       "    </tr>\n",
       "  </tbody>\n",
       "</table>\n",
       "</div>"
      ],
      "text/plain": [
       "                         Administrative_Duration  Informational_Duration  \\\n",
       "Administrative_Duration                   1.0000                  0.3456   \n",
       "Informational_Duration                    0.3456                  1.0000   \n",
       "ProductRelated_Duration                   0.4077                  0.3156   \n",
       "BounceRates                              -0.3054                 -0.1421   \n",
       "ExitRates                                -0.4203                 -0.2011   \n",
       "\n",
       "                         ProductRelated_Duration  BounceRates  ExitRates  \\\n",
       "Administrative_Duration                   0.4077      -0.3054    -0.4203   \n",
       "Informational_Duration                    0.3156      -0.1421    -0.2011   \n",
       "ProductRelated_Duration                   1.0000      -0.6819    -0.7570   \n",
       "BounceRates                              -0.6819       1.0000     0.9101   \n",
       "ExitRates                                -0.7570       0.9101     1.0000   \n",
       "\n",
       "                         PageValues  Revenue  \n",
       "Administrative_Duration      0.2556   0.1650  \n",
       "Informational_Duration       0.1649   0.1126  \n",
       "ProductRelated_Duration      0.2632   0.2037  \n",
       "BounceRates                 -0.1713  -0.1517  \n",
       "ExitRates                   -0.2462  -0.2088  "
      ]
     },
     "execution_count": 65,
     "metadata": {},
     "output_type": "execute_result"
    }
   ],
   "source": [
    "# Matriz de Correlação criada.\n",
    "\n",
    "matriz_corr = df_eng[[\n",
    "                      'Administrative_Duration', 'Informational_Duration', \n",
    "                      'ProductRelated_Duration', 'BounceRates', 'ExitRates','PageValues', 'Revenue'\n",
    "                      ]].corr()\n",
    "\n",
    "matriz_corr.head()"
   ]
  },
  {
   "cell_type": "markdown",
   "id": "e655f165-9f88-4e8b-a0cc-2ea57a1bfbcf",
   "metadata": {},
   "source": [
    "### Normalizando os valores \n",
    "  - Normalização para que fiquem dentro de um mesmo \"range\", desta forma todas ás colunas terão um **máximo de ( 1 ) e mínio de ( 0 )** )\n",
    "  - Aplicação de Análise Descritiva na matriz de correlação"
   ]
  },
  {
   "cell_type": "code",
   "execution_count": 16,
   "id": "19bf97f4-11d5-4a81-96dd-7e1c767378b1",
   "metadata": {},
   "outputs": [
    {
     "data": {
      "text/html": [
       "<div>\n",
       "<style scoped>\n",
       "    .dataframe tbody tr th:only-of-type {\n",
       "        vertical-align: middle;\n",
       "    }\n",
       "\n",
       "    .dataframe tbody tr th {\n",
       "        vertical-align: top;\n",
       "    }\n",
       "\n",
       "    .dataframe thead th {\n",
       "        text-align: right;\n",
       "    }\n",
       "</style>\n",
       "<table border=\"1\" class=\"dataframe\">\n",
       "  <thead>\n",
       "    <tr style=\"text-align: right;\">\n",
       "      <th></th>\n",
       "      <th>Administrative_Duration</th>\n",
       "      <th>Informational_Duration</th>\n",
       "      <th>ProductRelated_Duration</th>\n",
       "      <th>BounceRates</th>\n",
       "      <th>ExitRates</th>\n",
       "      <th>PageValues</th>\n",
       "      <th>Revenue</th>\n",
       "    </tr>\n",
       "  </thead>\n",
       "  <tbody>\n",
       "    <tr>\n",
       "      <th>Administrative_Duration</th>\n",
       "      <td>1.0000</td>\n",
       "      <td>0.4552</td>\n",
       "      <td>0.6629</td>\n",
       "      <td>0.2239</td>\n",
       "      <td>0.1917</td>\n",
       "      <td>0.4027</td>\n",
       "      <td>0.3093</td>\n",
       "    </tr>\n",
       "    <tr>\n",
       "      <th>Informational_Duration</th>\n",
       "      <td>0.5392</td>\n",
       "      <td>1.0000</td>\n",
       "      <td>0.6105</td>\n",
       "      <td>0.3210</td>\n",
       "      <td>0.3164</td>\n",
       "      <td>0.3299</td>\n",
       "      <td>0.2659</td>\n",
       "    </tr>\n",
       "    <tr>\n",
       "      <th>ProductRelated_Duration</th>\n",
       "      <td>0.5830</td>\n",
       "      <td>0.4302</td>\n",
       "      <td>1.0000</td>\n",
       "      <td>0.0000</td>\n",
       "      <td>0.0000</td>\n",
       "      <td>0.4087</td>\n",
       "      <td>0.3412</td>\n",
       "    </tr>\n",
       "    <tr>\n",
       "      <th>BounceRates</th>\n",
       "      <td>0.0809</td>\n",
       "      <td>0.0491</td>\n",
       "      <td>0.0428</td>\n",
       "      <td>1.0000</td>\n",
       "      <td>0.9488</td>\n",
       "      <td>0.0601</td>\n",
       "      <td>0.0472</td>\n",
       "    </tr>\n",
       "    <tr>\n",
       "      <th>ExitRates</th>\n",
       "      <td>0.0000</td>\n",
       "      <td>0.0000</td>\n",
       "      <td>0.0000</td>\n",
       "      <td>0.9466</td>\n",
       "      <td>1.0000</td>\n",
       "      <td>0.0000</td>\n",
       "      <td>0.0000</td>\n",
       "    </tr>\n",
       "  </tbody>\n",
       "</table>\n",
       "</div>"
      ],
      "text/plain": [
       "                         Administrative_Duration  Informational_Duration  \\\n",
       "Administrative_Duration                   1.0000                  0.4552   \n",
       "Informational_Duration                    0.5392                  1.0000   \n",
       "ProductRelated_Duration                   0.5830                  0.4302   \n",
       "BounceRates                               0.0809                  0.0491   \n",
       "ExitRates                                 0.0000                  0.0000   \n",
       "\n",
       "                         ProductRelated_Duration  BounceRates  ExitRates  \\\n",
       "Administrative_Duration                   0.6629       0.2239     0.1917   \n",
       "Informational_Duration                    0.6105       0.3210     0.3164   \n",
       "ProductRelated_Duration                   1.0000       0.0000     0.0000   \n",
       "BounceRates                               0.0428       1.0000     0.9488   \n",
       "ExitRates                                 0.0000       0.9466     1.0000   \n",
       "\n",
       "                         PageValues  Revenue  \n",
       "Administrative_Duration      0.4027   0.3093  \n",
       "Informational_Duration       0.3299   0.2659  \n",
       "ProductRelated_Duration      0.4087   0.3412  \n",
       "BounceRates                  0.0601   0.0472  \n",
       "ExitRates                    0.0000   0.0000  "
      ]
     },
     "execution_count": 16,
     "metadata": {},
     "output_type": "execute_result"
    }
   ],
   "source": [
    "descritiva = ( matriz_corr - matriz_corr.min() ) / ( matriz_corr.max() - matriz_corr.min() )\n",
    "descritiva.head()"
   ]
  },
  {
   "cell_type": "code",
   "execution_count": 17,
   "id": "2365e4bb-e8d5-4cc3-aab6-c71c67f46ca1",
   "metadata": {},
   "outputs": [
    {
     "data": {
      "text/html": [
       "<div>\n",
       "<style scoped>\n",
       "    .dataframe tbody tr th:only-of-type {\n",
       "        vertical-align: middle;\n",
       "    }\n",
       "\n",
       "    .dataframe tbody tr th {\n",
       "        vertical-align: top;\n",
       "    }\n",
       "\n",
       "    .dataframe thead th {\n",
       "        text-align: right;\n",
       "    }\n",
       "</style>\n",
       "<table border=\"1\" class=\"dataframe\">\n",
       "  <thead>\n",
       "    <tr style=\"text-align: right;\">\n",
       "      <th></th>\n",
       "      <th>Administrative_Duration</th>\n",
       "      <th>Informational_Duration</th>\n",
       "      <th>ProductRelated_Duration</th>\n",
       "      <th>BounceRates</th>\n",
       "      <th>ExitRates</th>\n",
       "      <th>PageValues</th>\n",
       "      <th>Revenue</th>\n",
       "    </tr>\n",
       "  </thead>\n",
       "  <tbody>\n",
       "    <tr>\n",
       "      <th>mean</th>\n",
       "      <td>0.4400</td>\n",
       "      <td>0.3600</td>\n",
       "      <td>0.4900</td>\n",
       "      <td>0.4400</td>\n",
       "      <td>0.4400</td>\n",
       "      <td>0.4200</td>\n",
       "      <td>0.3800</td>\n",
       "    </tr>\n",
       "    <tr>\n",
       "      <th>std</th>\n",
       "      <td>0.3300</td>\n",
       "      <td>0.3300</td>\n",
       "      <td>0.3500</td>\n",
       "      <td>0.3800</td>\n",
       "      <td>0.3800</td>\n",
       "      <td>0.3500</td>\n",
       "      <td>0.3600</td>\n",
       "    </tr>\n",
       "    <tr>\n",
       "      <th>min</th>\n",
       "      <td>0.0000</td>\n",
       "      <td>0.0000</td>\n",
       "      <td>0.0000</td>\n",
       "      <td>0.0000</td>\n",
       "      <td>0.0000</td>\n",
       "      <td>0.0000</td>\n",
       "      <td>0.0000</td>\n",
       "    </tr>\n",
       "    <tr>\n",
       "      <th>25%</th>\n",
       "      <td>0.2500</td>\n",
       "      <td>0.1600</td>\n",
       "      <td>0.2900</td>\n",
       "      <td>0.2600</td>\n",
       "      <td>0.2400</td>\n",
       "      <td>0.1900</td>\n",
       "      <td>0.1600</td>\n",
       "    </tr>\n",
       "    <tr>\n",
       "      <th>50%</th>\n",
       "      <td>0.4800</td>\n",
       "      <td>0.3000</td>\n",
       "      <td>0.5800</td>\n",
       "      <td>0.3200</td>\n",
       "      <td>0.3100</td>\n",
       "      <td>0.4000</td>\n",
       "      <td>0.3100</td>\n",
       "    </tr>\n",
       "    <tr>\n",
       "      <th>75%</th>\n",
       "      <td>0.5600</td>\n",
       "      <td>0.4400</td>\n",
       "      <td>0.6400</td>\n",
       "      <td>0.6300</td>\n",
       "      <td>0.6300</td>\n",
       "      <td>0.5600</td>\n",
       "      <td>0.5200</td>\n",
       "    </tr>\n",
       "    <tr>\n",
       "      <th>max</th>\n",
       "      <td>1.0000</td>\n",
       "      <td>1.0000</td>\n",
       "      <td>1.0000</td>\n",
       "      <td>1.0000</td>\n",
       "      <td>1.0000</td>\n",
       "      <td>1.0000</td>\n",
       "      <td>1.0000</td>\n",
       "    </tr>\n",
       "  </tbody>\n",
       "</table>\n",
       "</div>"
      ],
      "text/plain": [
       "      Administrative_Duration  Informational_Duration  \\\n",
       "mean                   0.4400                  0.3600   \n",
       "std                    0.3300                  0.3300   \n",
       "min                    0.0000                  0.0000   \n",
       "25%                    0.2500                  0.1600   \n",
       "50%                    0.4800                  0.3000   \n",
       "75%                    0.5600                  0.4400   \n",
       "max                    1.0000                  1.0000   \n",
       "\n",
       "      ProductRelated_Duration  BounceRates  ExitRates  PageValues  Revenue  \n",
       "mean                   0.4900       0.4400     0.4400      0.4200   0.3800  \n",
       "std                    0.3500       0.3800     0.3800      0.3500   0.3600  \n",
       "min                    0.0000       0.0000     0.0000      0.0000   0.0000  \n",
       "25%                    0.2900       0.2600     0.2400      0.1900   0.1600  \n",
       "50%                    0.5800       0.3200     0.3100      0.4000   0.3100  \n",
       "75%                    0.6400       0.6300     0.6300      0.5600   0.5200  \n",
       "max                    1.0000       1.0000     1.0000      1.0000   1.0000  "
      ]
     },
     "execution_count": 17,
     "metadata": {},
     "output_type": "execute_result"
    }
   ],
   "source": [
    "descritiva.describe( ).drop( [ 'count' ] ).round(2)"
   ]
  },
  {
   "cell_type": "code",
   "execution_count": 18,
   "id": "8f221391-d62b-4b92-980a-34ee955f87b9",
   "metadata": {},
   "outputs": [
    {
     "data": {
      "image/png": "[encoded data removed]",
      "text/plain": [
       "<Figure size 1000x500 with 2 Axes>"
      ]
     },
     "metadata": {},
     "output_type": "display_data"
    }
   ],
   "source": [
    "# heatmap of the correlation between the variables\n",
    "\n",
    "sns.set(rc = {'figure.figsize':(10,5)})\n",
    "sns.heatmap ( matriz_corr.corr( method ='pearson' ), \n",
    "              cmap='RdBu', \n",
    "              fmt='.2f', \n",
    "              square=True, \n",
    "              linecolor= 'white', annot=True );\n",
    "\n",
    "plt.title( 'CORRELAÇÃO ENTRE VARIÁVEIS CONTÍNUAS', pad=25, fontsize=12, color='Black' )\n",
    "\n",
    "plt.show()"
   ]
  },
  {
   "cell_type": "code",
   "execution_count": 19,
   "id": "7d3088d6-4526-42e9-92b9-1957a906c71d",
   "metadata": {},
   "outputs": [
    {
     "data": {
      "text/html": [
       "<div>\n",
       "<style scoped>\n",
       "    .dataframe tbody tr th:only-of-type {\n",
       "        vertical-align: middle;\n",
       "    }\n",
       "\n",
       "    .dataframe tbody tr th {\n",
       "        vertical-align: top;\n",
       "    }\n",
       "\n",
       "    .dataframe thead th {\n",
       "        text-align: right;\n",
       "    }\n",
       "</style>\n",
       "<table border=\"1\" class=\"dataframe\">\n",
       "  <thead>\n",
       "    <tr style=\"text-align: right;\">\n",
       "      <th></th>\n",
       "      <th>index</th>\n",
       "      <th>Revenue</th>\n",
       "    </tr>\n",
       "  </thead>\n",
       "  <tbody>\n",
       "    <tr>\n",
       "      <th>0</th>\n",
       "      <td>Revenue</td>\n",
       "      <td>1.0000</td>\n",
       "    </tr>\n",
       "    <tr>\n",
       "      <th>1</th>\n",
       "      <td>PageValues</td>\n",
       "      <td>0.6322</td>\n",
       "    </tr>\n",
       "    <tr>\n",
       "      <th>2</th>\n",
       "      <td>ProductRelated_Duration</td>\n",
       "      <td>0.2037</td>\n",
       "    </tr>\n",
       "    <tr>\n",
       "      <th>3</th>\n",
       "      <td>ProductRelated</td>\n",
       "      <td>0.2014</td>\n",
       "    </tr>\n",
       "    <tr>\n",
       "      <th>4</th>\n",
       "      <td>Administrative_Duration</td>\n",
       "      <td>0.1650</td>\n",
       "    </tr>\n",
       "    <tr>\n",
       "      <th>5</th>\n",
       "      <td>Administrative</td>\n",
       "      <td>0.1386</td>\n",
       "    </tr>\n",
       "    <tr>\n",
       "      <th>6</th>\n",
       "      <td>Informational_Duration</td>\n",
       "      <td>0.1126</td>\n",
       "    </tr>\n",
       "    <tr>\n",
       "      <th>7</th>\n",
       "      <td>Informational</td>\n",
       "      <td>0.0951</td>\n",
       "    </tr>\n",
       "    <tr>\n",
       "      <th>8</th>\n",
       "      <td>Weekend</td>\n",
       "      <td>0.0293</td>\n",
       "    </tr>\n",
       "    <tr>\n",
       "      <th>9</th>\n",
       "      <td>Browser</td>\n",
       "      <td>0.0239</td>\n",
       "    </tr>\n",
       "    <tr>\n",
       "      <th>10</th>\n",
       "      <td>TrafficType</td>\n",
       "      <td>-0.0052</td>\n",
       "    </tr>\n",
       "    <tr>\n",
       "      <th>11</th>\n",
       "      <td>Region</td>\n",
       "      <td>-0.0117</td>\n",
       "    </tr>\n",
       "    <tr>\n",
       "      <th>12</th>\n",
       "      <td>OperatingSystems</td>\n",
       "      <td>-0.0147</td>\n",
       "    </tr>\n",
       "    <tr>\n",
       "      <th>13</th>\n",
       "      <td>SpecialDay</td>\n",
       "      <td>-0.0825</td>\n",
       "    </tr>\n",
       "    <tr>\n",
       "      <th>14</th>\n",
       "      <td>BounceRates</td>\n",
       "      <td>-0.1517</td>\n",
       "    </tr>\n",
       "    <tr>\n",
       "      <th>15</th>\n",
       "      <td>ExitRates</td>\n",
       "      <td>-0.2088</td>\n",
       "    </tr>\n",
       "  </tbody>\n",
       "</table>\n",
       "</div>"
      ],
      "text/plain": [
       "                      index  Revenue\n",
       "0                   Revenue   1.0000\n",
       "1                PageValues   0.6322\n",
       "2   ProductRelated_Duration   0.2037\n",
       "3            ProductRelated   0.2014\n",
       "4   Administrative_Duration   0.1650\n",
       "5            Administrative   0.1386\n",
       "6    Informational_Duration   0.1126\n",
       "7             Informational   0.0951\n",
       "8                   Weekend   0.0293\n",
       "9                   Browser   0.0239\n",
       "10              TrafficType  -0.0052\n",
       "11                   Region  -0.0117\n",
       "12         OperatingSystems  -0.0147\n",
       "13               SpecialDay  -0.0825\n",
       "14              BounceRates  -0.1517\n",
       "15                ExitRates  -0.2088"
      ]
     },
     "execution_count": 19,
     "metadata": {},
     "output_type": "execute_result"
    }
   ],
   "source": [
    "# Relatório das variáveis que conrrelacionam-se   \n",
    "\n",
    "df_eng.corr()[ 'Revenue' ].sort_values(ascending=False).reset_index()"
   ]
  },
  {
   "cell_type": "code",
   "execution_count": 20,
   "id": "16e5bd96-1785-477e-8044-18e61ba81ff9",
   "metadata": {},
   "outputs": [
    {
     "name": "stdout",
     "output_type": "stream",
     "text": [
      "\n"
     ]
    },
    {
     "data": {
      "image/png": "[encoded data removed]",
      "text/plain": [
       "<Figure size 700x500 with 1 Axes>"
      ]
     },
     "metadata": {},
     "output_type": "display_data"
    }
   ],
   "source": [
    "# Aplicação de gráfico de barras para exergar o quantitativo para ( No e Yes ) \n",
    "\n",
    "print( )\n",
    "fig, ax = plt.subplots( figsize=( 7, 5) )\n",
    "sns.countplot( x = 'Revenue', palette=sns.color_palette( [ '#90F1EF', '#001D3D' ] ), data=df_eng, ax=ax )\n",
    "ax.set_title( 'QUANTITATIVO DAS CONVERSÕES', pad=35, fontsize=12, color='#001233' )\n",
    "plt.xticks( [ 0, 1 ], [ 'SIM-COMPRARAM', 'NÃO-COMPRARAM' ], fontsize=12, color='#637061' )\n",
    "\n",
    "for i in ax.patches:\n",
    "      ax.annotate(format(round( i.get_height()), '.0f')+\"\",\n",
    "                                 (i.get_x() + i.get_width() / 2, \n",
    "                                  i.get_height() + 25),\n",
    "                                  ha='center',\n",
    "                                  va='baseline',\n",
    "                                  fontsize= 12,\n",
    "                                  color='#001233',\n",
    "                                  fontweight='ultralight',\n",
    "                                  xytext=(0, 1),\n",
    "                                  rotation= 0.0,\n",
    "                                  textcoords='offset pixels'), \n",
    "plt.grid(False),\n",
    "plt.box(False),\n",
    "\n",
    "plt.show()"
   ]
  },
  {
   "cell_type": "code",
   "execution_count": 66,
   "id": "6c44b1ac-98f0-4397-97fe-a3ee56a50b77",
   "metadata": {},
   "outputs": [
    {
     "name": "stdout",
     "output_type": "stream",
     "text": [
      "\n"
     ]
    },
    {
     "data": {
      "image/png": "[encoded data removed]",
      "text/plain": [
       "<Figure size 700x500 with 1 Axes>"
      ]
     },
     "metadata": {},
     "output_type": "display_data"
    }
   ],
   "source": [
    "# Aplicação de gráfico de barras para exergar o quantitativo para ( No e Yes ) \n",
    "\n",
    "print( )\n",
    "fig, ax = plt.subplots( figsize=( 7, 5) )\n",
    "sns.countplot( x = 'VisitorType', palette=sns.color_palette( [ '#90F1EF', '#001D3D', '#001D3D' ] ), data=df_eng, ax=ax )\n",
    "ax.set_title( 'QUANTITATIVO DOS VISITANTES', pad=35, fontsize=12, color='#001233' )\n",
    "plt.xticks( [ 0, 1, 2 ], [ 'VISITANTE RETORNOU', 'NOVAS VISITAS', 'OUTROS' ], fontsize=10, color='#637061' )\n",
    "\n",
    "for  i in ax.patches:\n",
    "      ax.annotate(format(round( i.get_height()), '.0f')+\"\",\n",
    "                                 (i.get_x() + i.get_width() / 2, \n",
    "                                  i.get_height() + 25),\n",
    "                                  ha='center',\n",
    "                                  va='baseline',\n",
    "                                  fontsize= 12,\n",
    "                                  color='#001233',\n",
    "                                  fontweight='ultralight',\n",
    "                                  xytext=(0, 1),\n",
    "                                  rotation= 0.0,\n",
    "                                  textcoords='offset pixels'), \n",
    "        \n",
    "plt.grid(False),\n",
    "plt.box(False),\n",
    "\n",
    "plt.show()"
   ]
  },
  {
   "cell_type": "code",
   "execution_count": 22,
   "id": "44de075a-2a59-4975-a0aa-c972ef866925",
   "metadata": {},
   "outputs": [
    {
     "name": "stdout",
     "output_type": "stream",
     "text": [
      "Python, imprima quantitativo por tipo de visitantes em percentual\n",
      "\n"
     ]
    },
    {
     "data": {
      "text/plain": [
       "Returning_Visitor    85.56%\n",
       "New_Visitor          13.75%\n",
       "Other                 0.69%\n",
       "Name: VisitorType, dtype: object"
      ]
     },
     "execution_count": 22,
     "metadata": {},
     "output_type": "execute_result"
    }
   ],
   "source": [
    "# Conhecendo o quantitativo das ocorrências de \"Churn\" com Percentil\n",
    "\n",
    "print( 'Python, imprima quantitativo por tipo de visitantes em percentual\\n' )\n",
    "df_eng[ 'VisitorType' ].value_counts( normalize=True ).map(\"{:.2%}\".format)"
   ]
  },
  {
   "cell_type": "code",
   "execution_count": 23,
   "id": "ea3dc555-93ef-4405-9090-73e5d0b5014e",
   "metadata": {},
   "outputs": [
    {
     "data": {
      "application/javascript": [
       "\n",
       "        if (window._pyforest_update_imports_cell) { window._pyforest_update_imports_cell('import matplotlib as mpl\\nimport sys\\nimport pandas as pd'); }\n",
       "    "
      ],
      "text/plain": [
       "<IPython.core.display.Javascript object>"
      ]
     },
     "metadata": {},
     "output_type": "display_data"
    },
    {
     "data": {
      "image/png": "[encoded data removed]",
      "text/plain": [
       "<Figure size 1500x600 with 1 Axes>"
      ]
     },
     "metadata": {},
     "output_type": "display_data"
    }
   ],
   "source": [
    "# Stacked barplot por tipo de visitante site ( E-Commerce )\n",
    "\n",
    "pd.crosstab( df_eng[ 'VisitorType' ], df_eng[ 'Revenue' ] ).plot( \n",
    "                                                                kind = 'bar',\n",
    "                                                                stacked = True,\n",
    "                                                                figsize = ( 15, 6 ),\n",
    "                                                                color = [ '#001D3D', '#90F1EF' ] )\n",
    "\n",
    "plt.xticks( [ 0, 1, 2 ], [ 'VISITANTE NOVO', 'OUTROS', 'VISITANTE RETORNOU' ], fontsize=10, color='#637061' )\n",
    "plt.xticks( rotation=0, \n",
    "            fontsize=13,\n",
    "            color='#001D3D' )\n",
    "plt.grid(False)\n",
    "plt.box(False),\n",
    "plt.title( 'QUANTITATIVO DE VISITANTES POR TIPO', pad=15, fontsize=13, color='#001D3D' )\n",
    "\n",
    "plt.tight_layout ()"
   ]
  },
  {
   "cell_type": "code",
   "execution_count": 24,
   "id": "ebe70e79-deb3-4c91-a28a-9291632541dd",
   "metadata": {},
   "outputs": [
    {
     "name": "stdout",
     "output_type": "stream",
     "text": [
      "\n"
     ]
    },
    {
     "data": {
      "image/png": "[encoded data removed]",
      "text/plain": [
       "<Figure size 700x500 with 1 Axes>"
      ]
     },
     "metadata": {},
     "output_type": "display_data"
    }
   ],
   "source": [
    "print( )\n",
    "fig, ax = plt.subplots( figsize=( 7, 5) )\n",
    "sns.countplot( x = 'Weekend', palette=sns.color_palette( [ '#90F1EF', '#001D3D' ] ), data=df_eng, ax=ax )\n",
    "ax.set_title( 'QUANTITATIVO COMPRAS FINAIS DE SEMANA', pad=35, fontsize=12, color='#001233' )\n",
    "plt.xticks( [ 0, 1 ], [ ' SIM COMPRARAM', 'NÃO COMPRARAM' ], fontsize=10, color='#637061' )\n",
    "\n",
    "for i in ax.patches:\n",
    "      ax.annotate(format(round( i.get_height()), '.0f')+\"\",\n",
    "                                 (i.get_x() + i.get_width() / 2, \n",
    "                                  i.get_height() + 25),\n",
    "                                  ha='center',\n",
    "                                  va='baseline',\n",
    "                                  fontsize= 12,\n",
    "                                  color='#001233',\n",
    "                                  fontweight='ultralight',\n",
    "                                  xytext=(0, 1),\n",
    "                                  rotation= 0.0,\n",
    "                                  textcoords='offset pixels'), \n",
    "sns.set(style='darkgrid'),\n",
    "plt.grid(False),\n",
    "plt.box(False),\n",
    "\n",
    "plt.show()"
   ]
  },
  {
   "cell_type": "code",
   "execution_count": 25,
   "id": "ec0c0c87-e68b-4edb-a59d-287f76d2a726",
   "metadata": {},
   "outputs": [
    {
     "name": "stdout",
     "output_type": "stream",
     "text": [
      "Python, imprima quantitativo dos visitantes, se compraram ou não compraram \"final de semana\"\n",
      "\n"
     ]
    },
    {
     "data": {
      "text/plain": [
       "False    9451\n",
       "True     2865\n",
       "Name: Weekend, dtype: int64"
      ]
     },
     "execution_count": 25,
     "metadata": {},
     "output_type": "execute_result"
    }
   ],
   "source": [
    "print( 'Python, imprima quantitativo dos visitantes, se compraram ou não compraram \"final de semana\"\\n' )\n",
    "df_eng[ 'Weekend' ].value_counts()"
   ]
  },
  {
   "cell_type": "code",
   "execution_count": 26,
   "id": "8f498f55-be2a-4577-94c7-9a45800b3eeb",
   "metadata": {},
   "outputs": [
    {
     "name": "stdout",
     "output_type": "stream",
     "text": [
      "Python, imprima quantitativo por tipo de visitantes se compraram final de semana ou não em percentual\n",
      "\n"
     ]
    },
    {
     "data": {
      "text/plain": [
       "False    84.51%\n",
       "True     15.49%\n",
       "Name: Revenue, dtype: object"
      ]
     },
     "execution_count": 26,
     "metadata": {},
     "output_type": "execute_result"
    }
   ],
   "source": [
    "# Conhecendo o quantitativo das ocorrências de \"Revenue\" com Percentil ( False não compraram, True compraram )\n",
    "\n",
    "print( 'Python, imprima quantitativo por tipo de visitantes se compraram final de semana ou não em percentual\\n' )\n",
    "df_eng[ 'Revenue' ].value_counts( normalize=True ).map(\"{:.2%}\".format)"
   ]
  },
  {
   "cell_type": "code",
   "execution_count": 27,
   "id": "b39daa48-6e8b-49c7-adc5-794a90f6fd49",
   "metadata": {},
   "outputs": [
    {
     "data": {
      "application/javascript": [
       "\n",
       "        if (window._pyforest_update_imports_cell) { window._pyforest_update_imports_cell('import matplotlib as mpl\\nimport sys\\nimport pandas as pd'); }\n",
       "    "
      ],
      "text/plain": [
       "<IPython.core.display.Javascript object>"
      ]
     },
     "metadata": {},
     "output_type": "display_data"
    },
    {
     "data": {
      "image/png": "[encoded data removed]",
      "text/plain": [
       "<Figure size 1500x600 with 1 Axes>"
      ]
     },
     "metadata": {},
     "output_type": "display_data"
    }
   ],
   "source": [
    "# Stacked barplot por tipo de visitante site ( E-Commerce )\n",
    "\n",
    "pd.crosstab( df_eng[ 'Weekend' ], df_eng[ 'Revenue' ] ).plot( \n",
    "                                                                kind = 'bar',\n",
    "                                                                stacked = True,\n",
    "                                                                figsize = ( 15, 6 ),\n",
    "                                                                color = [ '#001D3D', '#90F1EF' ] )\n",
    "\n",
    "plt.xticks( [ 0, 1 ], [ 'VISITAS X COMPRAS', 'VISITAS X COMPRAS' ], fontsize=10, color='#637061' )\n",
    "plt.xticks( rotation=0, \n",
    "            fontsize=13,\n",
    "            color='#001D3D' ),\n",
    "plt.grid(False),\n",
    "plt.box(False),\n",
    "plt.title( 'QUANTITATIVO DE VISITANTES NO FINAL DE SEMANA COM COMPRA E SEM COMPRA', pad=15, fontsize=13, color='#001D3D' )\n",
    "\n",
    "plt.tight_layout ()"
   ]
  },
  {
   "cell_type": "code",
   "execution_count": 28,
   "id": "e7eaefda-6f4e-4a37-8cfc-5b8c47ee7a56",
   "metadata": {},
   "outputs": [
    {
     "name": "stdout",
     "output_type": "stream",
     "text": [
      "Python, imprima quantitativo por tipo de visitantes se compraram final de semana ou não\n",
      "\n",
      "\n",
      "Python, imprima quantitativo por tipo de visitantes se compraram final de semana ou não em percentual\n",
      "\n"
     ]
    },
    {
     "data": {
      "text/plain": [
       "2    53.53%\n",
       "1    20.96%\n",
       "3    20.72%\n",
       "4     3.88%\n",
       "8     0.64%\n",
       "6     0.15%\n",
       "7     0.06%\n",
       "5     0.05%\n",
       "Name: OperatingSystems, dtype: object"
      ]
     },
     "execution_count": 28,
     "metadata": {},
     "output_type": "execute_result"
    }
   ],
   "source": [
    "# Conhecendo o quantitativo das ocorrências de \"Churn\" com Percentil ( False não compraram, True compraram )\n",
    "\n",
    "print( 'Python, imprima quantitativo por tipo de visitantes se compraram final de semana ou não\\n' )\n",
    "df_eng[ 'OperatingSystems' ].value_counts()\n",
    "print( )\n",
    "print( 'Python, imprima quantitativo por tipo de visitantes se compraram final de semana ou não em percentual\\n' )\n",
    "df_eng[ 'OperatingSystems' ].value_counts( normalize=True ).map(\"{:.2%}\".format )"
   ]
  },
  {
   "cell_type": "code",
   "execution_count": 29,
   "id": "01677901-7c77-494c-8df8-8892f415a041",
   "metadata": {},
   "outputs": [
    {
     "name": "stdout",
     "output_type": "stream",
     "text": [
      "\n"
     ]
    },
    {
     "data": {
      "image/png": "[encoded data removed]",
      "text/plain": [
       "<Figure size 1500x700 with 1 Axes>"
      ]
     },
     "metadata": {},
     "output_type": "display_data"
    }
   ],
   "source": [
    "print( )\n",
    "fig, ax = plt.subplots( figsize=( 15, 7) )\n",
    "sns.countplot( x = 'OperatingSystems', palette=sns.color_palette( [ '#90F1EF', '#001D3D' ] ), data=df_eng, ax=ax )\n",
    "ax.set_title( 'QUANTITATIVO COMPRAS FINAIS DE SEMANA', pad=35, fontsize=12, color='#001233' )\n",
    "plt.xticks( [ 0, 1 ], [ '', '' ], fontsize=12, color='#637061' )\n",
    "\n",
    "for i in ax.patches:\n",
    "      ax.annotate(format(round( i.get_height()), '.0f')+\"\",\n",
    "                                 (i.get_x() + i.get_width() / 2, \n",
    "                                  i.get_height() + 25),\n",
    "                                  ha='center',\n",
    "                                  va='baseline',\n",
    "                                  fontsize= 12,\n",
    "                                  color='#001233',\n",
    "                                  fontweight='ultralight',\n",
    "                                  xytext=(0, 1),\n",
    "                                  rotation= 0.0,\n",
    "                                  textcoords='offset pixels'), \n",
    "\n",
    "plt.grid(False),\n",
    "plt.box(False),\n",
    "\n",
    "plt.show()"
   ]
  },
  {
   "cell_type": "code",
   "execution_count": 30,
   "id": "24b16e05-23fb-4098-8666-91fa65701cc3",
   "metadata": {},
   "outputs": [
    {
     "data": {
      "application/javascript": [
       "\n",
       "        if (window._pyforest_update_imports_cell) { window._pyforest_update_imports_cell('import matplotlib as mpl\\nimport sys\\nimport pandas as pd'); }\n",
       "    "
      ],
      "text/plain": [
       "<IPython.core.display.Javascript object>"
      ]
     },
     "metadata": {},
     "output_type": "display_data"
    },
    {
     "data": {
      "image/png": "[encoded data removed]",
      "text/plain": [
       "<Figure size 1500x600 with 1 Axes>"
      ]
     },
     "metadata": {},
     "output_type": "display_data"
    }
   ],
   "source": [
    "# Stacked barplot por tipo de produto vendido no ( E-Commerce ) \" Sistemas Operacionais \"\n",
    "\n",
    "pd.crosstab( df_eng[ 'OperatingSystems' ], df_eng[ 'Revenue' ] ).plot( kind = 'bar', stacked = True, figsize = ( 15, 6 ),\n",
    "                                                                                       color = [ '#001D3D', '#90F1EF' ] )\n",
    "plt.xticks( rotation=0, \n",
    "            fontsize=13,\n",
    "            color='#001D3D' )\n",
    "plt.grid(False)\n",
    "plt.box(False)\n",
    "\n",
    "plt.title( 'QUANTITATIVO POR TIPO DE PRODUTO VENDIDO', pad=15, fontsize=13, color='#001D3D' )\n",
    "\n",
    "plt.tight_layout ()"
   ]
  },
  {
   "cell_type": "markdown",
   "id": "dea31edb-587f-4af0-b9e5-1a3fc0cec007",
   "metadata": {},
   "source": [
    "* Considerações sobre as variáveis de tráfego\n",
    "  - Não tenho como saber sua origem. Se Facebook, Insta, LinkedIn e etc. Mas independente de qualquer coisa, vou levantar os números.\n",
    "    - Saber os quantitativos de compras dias da semana e finais de semana."
   ]
  },
  {
   "cell_type": "code",
   "execution_count": 31,
   "id": "02cf5fe7-b0ca-423f-b2c9-1c2a5378dfa6",
   "metadata": {},
   "outputs": [
    {
     "name": "stdout",
     "output_type": "stream",
     "text": [
      "Python, imprima quantitativo por tipo de visitantes se compraram final de semana ou não em percentual\n",
      "\n"
     ]
    },
    {
     "data": {
      "text/plain": [
       "2     31.74%\n",
       "1     19.84%\n",
       "3     16.65%\n",
       "4      8.68%\n",
       "13     5.98%\n",
       "10     3.65%\n",
       "6      3.61%\n",
       "8      2.78%\n",
       "5      2.11%\n",
       "11     2.01%\n",
       "20     1.61%\n",
       "9      0.34%\n",
       "7      0.32%\n",
       "15     0.30%\n",
       "19     0.14%\n",
       "14     0.11%\n",
       "18     0.08%\n",
       "16     0.02%\n",
       "12     0.01%\n",
       "17     0.01%\n",
       "Name: TrafficType, dtype: object"
      ]
     },
     "execution_count": 31,
     "metadata": {},
     "output_type": "execute_result"
    }
   ],
   "source": [
    "# Conhecendo o quantitativo das ocorrências de \"TrafficType\" com Percentil ( False não compraram, True compraram )\n",
    "\n",
    "print( 'Python, imprima quantitativo por tipo de visitantes se compraram final de semana ou não em percentual\\n' )\n",
    "df_eng[ 'TrafficType' ].value_counts( normalize=True ).map(\"{:.2%}\".format)"
   ]
  },
  {
   "cell_type": "code",
   "execution_count": 32,
   "id": "e3e82bee-a0c2-492a-a09a-858b0d2721bd",
   "metadata": {},
   "outputs": [
    {
     "name": "stdout",
     "output_type": "stream",
     "text": [
      "\n"
     ]
    },
    {
     "data": {
      "image/png": "[encoded data removed]",
      "text/plain": [
       "<Figure size 1500x700 with 1 Axes>"
      ]
     },
     "metadata": {},
     "output_type": "display_data"
    }
   ],
   "source": [
    "# Gráfico do quantitativo de tráfegos no fim de semana - paginas\n",
    "\n",
    "print( )\n",
    "fig, ax = plt.subplots( figsize=( 15, 7) )\n",
    "sns.countplot( x = 'TrafficType', palette=sns.color_palette( [ '#90F1EF', '#001D3D' ] ), data=df_eng, ax=ax )\n",
    "ax.set_title( 'QUANTITATIVO DE TRÁFEGO NAS PAGINAS FINAIS DE SEMANA', pad=35, fontsize=12, color='#001233' )\n",
    "plt.xticks( [ 0, 1 ], [ 'T', '' ], fontsize=12, color='#637061' )\n",
    "\n",
    "for i in ax.patches:\n",
    "      ax.annotate(format(round( i.get_height()), '.0f')+\"\",\n",
    "                                 (i.get_x() + i.get_width() / 2, \n",
    "                                  i.get_height() + 25),\n",
    "                                  ha='center',\n",
    "                                  va='baseline',\n",
    "                                  fontsize= 10,\n",
    "                                  color='#001233',\n",
    "                                  fontweight='ultralight',\n",
    "                                  xytext=(0, 1),\n",
    "                                  rotation= 0.0,\n",
    "                                  textcoords='offset pixels'), \n",
    "plt.grid(False),\n",
    "plt.box(False)\n",
    "\n",
    "plt.show()"
   ]
  },
  {
   "cell_type": "code",
   "execution_count": 33,
   "id": "6093644b-f799-4453-ab40-2ce0eec920cc",
   "metadata": {},
   "outputs": [
    {
     "data": {
      "application/javascript": [
       "\n",
       "        if (window._pyforest_update_imports_cell) { window._pyforest_update_imports_cell('import matplotlib as mpl\\nimport sys\\nimport pandas as pd'); }\n",
       "    "
      ],
      "text/plain": [
       "<IPython.core.display.Javascript object>"
      ]
     },
     "metadata": {},
     "output_type": "display_data"
    },
    {
     "data": {
      "image/png": "[encoded data removed]",
      "text/plain": [
       "<Figure size 1500x600 with 1 Axes>"
      ]
     },
     "metadata": {},
     "output_type": "display_data"
    }
   ],
   "source": [
    "# Stacked barplot por tráfego no site e compras no ( E-Commerce )\n",
    "\n",
    "pd.crosstab( df_eng[ 'TrafficType' ], df_eng[ 'Revenue' ] ).plot( \n",
    "                                                                kind = 'bar',\n",
    "                                                                stacked = True,\n",
    "                                                                figsize = ( 15, 6 ),\n",
    "                                                                color = [ '#001D3D', '#90F1EF' ] )\n",
    "plt.xticks( rotation=0, \n",
    "            fontsize=13,\n",
    "            color='#001D3D' )\n",
    "plt.grid(False)\n",
    "plt.title( 'QUANTITATIVO DE TRÁFEGO X RECEITAS', pad=15, fontsize=13, color='#001D3D' )\n",
    "plt.box(False)\n",
    "\n",
    "plt.tight_layout ()"
   ]
  },
  {
   "cell_type": "code",
   "execution_count": 34,
   "id": "1896cd85-c298-4e18-bd51-7ad1e15ec338",
   "metadata": {},
   "outputs": [
    {
     "data": {
      "application/javascript": [
       "\n",
       "        if (window._pyforest_update_imports_cell) { window._pyforest_update_imports_cell('import matplotlib as mpl\\nimport sys\\nimport pandas as pd'); }\n",
       "    "
      ],
      "text/plain": [
       "<IPython.core.display.Javascript object>"
      ]
     },
     "metadata": {},
     "output_type": "display_data"
    },
    {
     "data": {
      "image/png": "[encoded data removed]",
      "text/plain": [
       "<Figure size 1500x600 with 1 Axes>"
      ]
     },
     "metadata": {},
     "output_type": "display_data"
    }
   ],
   "source": [
    "# Stacked barplot por tráfego no site e compras no ( E-Commerce ). Obs. Azul claro são visitas convertidas em vendas.\n",
    "\n",
    "pd.crosstab( df_eng[ 'TrafficType' ], df_eng[ 'Month' ] ).plot( \n",
    "                                                                kind = 'bar',\n",
    "                                                                stacked = True,\n",
    "                                                                figsize = ( 15, 6 ),\n",
    "                                                                color = [ '#001D3D', '#90F1EF' ] )\n",
    "plt.xticks( rotation=0, \n",
    "            fontsize=13,\n",
    "            color='#001D3D' )\n",
    "plt.grid(False)\n",
    "plt.box(False)\n",
    "plt.title( 'QUANTITATIVO DE TRÁFEGO NÁS PAGINAS MENSAL', pad=15, fontsize=13, color='#001D3D' )\n",
    "\n",
    "plt.tight_layout ()"
   ]
  },
  {
   "cell_type": "markdown",
   "id": "025028a9-9ad5-4023-ae39-e0eae5ab22f5",
   "metadata": {
    "id": "025028a9-9ad5-4023-ae39-e0eae5ab22f5"
   },
   "source": [
    "### Pré-processamento para os trabalhos de Predição com `ML`\n",
    "  - Padronização, procedimentos e processamento de algumas variáveis e então Predições com **Machine Learning**\n",
    "\n",
    "  - Farei checagem do Dataset e já aplico um drop, `exit` para variável `custumerID`, Identificador do cliente, não terá nesse projeto importância. \n",
    "   - Criação de uma variável para tratamento \"serviços\"\n",
    "   - Passarei o **\"df_eng\"** para **\"df_pred\"**\n",
    "   - Abrindo a base original para checagens\n",
    "     - Aplicando LabelEncoder para a variável `Month` ( meses ) e VisitorType, estão como **string**"
   ]
  },
  {
   "cell_type": "code",
   "execution_count": 35,
   "id": "09c49e82-b649-452b-a579-df5243de9e37",
   "metadata": {},
   "outputs": [
    {
     "data": {
      "text/html": [
       "<div>\n",
       "<style scoped>\n",
       "    .dataframe tbody tr th:only-of-type {\n",
       "        vertical-align: middle;\n",
       "    }\n",
       "\n",
       "    .dataframe tbody tr th {\n",
       "        vertical-align: top;\n",
       "    }\n",
       "\n",
       "    .dataframe thead th {\n",
       "        text-align: right;\n",
       "    }\n",
       "</style>\n",
       "<table border=\"1\" class=\"dataframe\">\n",
       "  <thead>\n",
       "    <tr style=\"text-align: right;\">\n",
       "      <th></th>\n",
       "      <th>Month</th>\n",
       "      <th>OperatingSystems</th>\n",
       "      <th>Browser</th>\n",
       "      <th>Region</th>\n",
       "      <th>TrafficType</th>\n",
       "      <th>VisitorType</th>\n",
       "      <th>Weekend</th>\n",
       "      <th>Revenue</th>\n",
       "    </tr>\n",
       "  </thead>\n",
       "  <tbody>\n",
       "    <tr>\n",
       "      <th>0</th>\n",
       "      <td>Feb</td>\n",
       "      <td>1</td>\n",
       "      <td>1</td>\n",
       "      <td>1</td>\n",
       "      <td>1</td>\n",
       "      <td>Returning_Visitor</td>\n",
       "      <td>False</td>\n",
       "      <td>False</td>\n",
       "    </tr>\n",
       "    <tr>\n",
       "      <th>1</th>\n",
       "      <td>Feb</td>\n",
       "      <td>2</td>\n",
       "      <td>2</td>\n",
       "      <td>1</td>\n",
       "      <td>2</td>\n",
       "      <td>Returning_Visitor</td>\n",
       "      <td>False</td>\n",
       "      <td>False</td>\n",
       "    </tr>\n",
       "    <tr>\n",
       "      <th>2</th>\n",
       "      <td>Feb</td>\n",
       "      <td>4</td>\n",
       "      <td>1</td>\n",
       "      <td>9</td>\n",
       "      <td>3</td>\n",
       "      <td>Returning_Visitor</td>\n",
       "      <td>False</td>\n",
       "      <td>False</td>\n",
       "    </tr>\n",
       "  </tbody>\n",
       "</table>\n",
       "</div>"
      ],
      "text/plain": [
       "  Month  OperatingSystems  Browser  Region  TrafficType        VisitorType  \\\n",
       "0   Feb                 1        1       1            1  Returning_Visitor   \n",
       "1   Feb                 2        2       1            2  Returning_Visitor   \n",
       "2   Feb                 4        1       9            3  Returning_Visitor   \n",
       "\n",
       "   Weekend  Revenue  \n",
       "0    False    False  \n",
       "1    False    False  \n",
       "2    False    False  "
      ]
     },
     "execution_count": 35,
     "metadata": {},
     "output_type": "execute_result"
    }
   ],
   "source": [
    "# Passando o objeto df_raw para df_pred para tratar com \"LabelEncoder\"\n",
    "\n",
    "df_pred = df_raw\n",
    "\n",
    "df_pred.head( 3 ).iloc[ :, 10: ]"
   ]
  },
  {
   "cell_type": "markdown",
   "id": "9f24c3cb-3f27-40f1-b03d-b56802dd1bb5",
   "metadata": {},
   "source": [
    "### Aplicando o <em>`Label Encoder`<em> para meses ( Month )\n",
    "\n",
    "  - Passando o df_raw para o df_pred e aplicando encoder nas variáveis que estão como string `Month e VisitorType`\n",
    "  - Eliminando os valores ausentes dadosmissing, com `dropna`.\n",
    "  - Padronização dos dados para que os quantitavivos de True-verdadeiro e false-falso, fiquem em escala semelhante. Caso não adote esse procedimento antes de separar os dados em **( X, y )** os modelos ficarão tendênciosos, comprometendo os modelos de predição e consequentemente resultados. \n",
    "  - Iloc para filtrar somente as colunas que interessam, começando por Month até Revenue"
   ]
  },
  {
   "cell_type": "code",
   "execution_count": 36,
   "id": "641e1271-f8f2-4aae-890a-c13240dc9180",
   "metadata": {},
   "outputs": [
    {
     "data": {
      "text/html": [
       "<div>\n",
       "<style scoped>\n",
       "    .dataframe tbody tr th:only-of-type {\n",
       "        vertical-align: middle;\n",
       "    }\n",
       "\n",
       "    .dataframe tbody tr th {\n",
       "        vertical-align: top;\n",
       "    }\n",
       "\n",
       "    .dataframe thead th {\n",
       "        text-align: right;\n",
       "    }\n",
       "</style>\n",
       "<table border=\"1\" class=\"dataframe\">\n",
       "  <thead>\n",
       "    <tr style=\"text-align: right;\">\n",
       "      <th></th>\n",
       "      <th>Month</th>\n",
       "      <th>OperatingSystems</th>\n",
       "      <th>Browser</th>\n",
       "      <th>Region</th>\n",
       "      <th>TrafficType</th>\n",
       "      <th>VisitorType</th>\n",
       "      <th>Weekend</th>\n",
       "      <th>Revenue</th>\n",
       "    </tr>\n",
       "  </thead>\n",
       "  <tbody>\n",
       "    <tr>\n",
       "      <th>0</th>\n",
       "      <td>2</td>\n",
       "      <td>1</td>\n",
       "      <td>1</td>\n",
       "      <td>1</td>\n",
       "      <td>1</td>\n",
       "      <td>2</td>\n",
       "      <td>False</td>\n",
       "      <td>False</td>\n",
       "    </tr>\n",
       "    <tr>\n",
       "      <th>1</th>\n",
       "      <td>2</td>\n",
       "      <td>2</td>\n",
       "      <td>2</td>\n",
       "      <td>1</td>\n",
       "      <td>2</td>\n",
       "      <td>2</td>\n",
       "      <td>False</td>\n",
       "      <td>False</td>\n",
       "    </tr>\n",
       "    <tr>\n",
       "      <th>2</th>\n",
       "      <td>2</td>\n",
       "      <td>4</td>\n",
       "      <td>1</td>\n",
       "      <td>9</td>\n",
       "      <td>3</td>\n",
       "      <td>2</td>\n",
       "      <td>False</td>\n",
       "      <td>False</td>\n",
       "    </tr>\n",
       "  </tbody>\n",
       "</table>\n",
       "</div>"
      ],
      "text/plain": [
       "   Month  OperatingSystems  Browser  Region  TrafficType  VisitorType  \\\n",
       "0      2                 1        1       1            1            2   \n",
       "1      2                 2        2       1            2            2   \n",
       "2      2                 4        1       9            3            2   \n",
       "\n",
       "   Weekend  Revenue  \n",
       "0    False    False  \n",
       "1    False    False  \n",
       "2    False    False  "
      ]
     },
     "execution_count": 36,
     "metadata": {},
     "output_type": "execute_result"
    }
   ],
   "source": [
    "# Label Encoder ( padronização dos dados para que os quantitavivos de True-verdadeiro e false-falso fiquem em escala semelhante ).\n",
    "\n",
    "le = LabelEncoder()\n",
    "\n",
    "df_pred[ 'Month' ]       = le.fit_transform( df_pred[ 'Month' ] )\n",
    "df_pred[ 'VisitorType' ] = le.fit_transform( df_pred[ 'VisitorType' ] )\n",
    "\n",
    "df_pred.dropna( inplace=True )\n",
    "df_pred.head( 3 ).iloc[ :, 10: ]"
   ]
  },
  {
   "cell_type": "markdown",
   "id": "15913266-7d71-4858-b5ca-8c9228faf03d",
   "metadata": {},
   "source": [
    "### Checando a distribuíção da variável alvo <em>`Revenue`<em>- `Receitas` ( Target ), ver o quantitativo das classes **False e True**"
   ]
  },
  {
   "cell_type": "code",
   "execution_count": 37,
   "id": "6941039b-27ae-42c2-b288-7b8bd9d99beb",
   "metadata": {},
   "outputs": [
    {
     "data": {
      "text/html": [
       "<div>\n",
       "<style scoped>\n",
       "    .dataframe tbody tr th:only-of-type {\n",
       "        vertical-align: middle;\n",
       "    }\n",
       "\n",
       "    .dataframe tbody tr th {\n",
       "        vertical-align: top;\n",
       "    }\n",
       "\n",
       "    .dataframe thead th {\n",
       "        text-align: right;\n",
       "    }\n",
       "</style>\n",
       "<table border=\"1\" class=\"dataframe\">\n",
       "  <thead>\n",
       "    <tr style=\"text-align: right;\">\n",
       "      <th></th>\n",
       "      <th>index</th>\n",
       "      <th>Revenue</th>\n",
       "    </tr>\n",
       "  </thead>\n",
       "  <tbody>\n",
       "    <tr>\n",
       "      <th>0</th>\n",
       "      <td>False</td>\n",
       "      <td>10408</td>\n",
       "    </tr>\n",
       "    <tr>\n",
       "      <th>1</th>\n",
       "      <td>True</td>\n",
       "      <td>1908</td>\n",
       "    </tr>\n",
       "  </tbody>\n",
       "</table>\n",
       "</div>"
      ],
      "text/plain": [
       "   index  Revenue\n",
       "0  False    10408\n",
       "1   True     1908"
      ]
     },
     "execution_count": 37,
     "metadata": {},
     "output_type": "execute_result"
    }
   ],
   "source": [
    "var_balance = df_pred.Revenue.value_counts()\n",
    "var_balance.reset_index()"
   ]
  },
  {
   "cell_type": "markdown",
   "id": "04a6d8a8-c543-408f-bab0-f4db0d2a985b",
   "metadata": {},
   "source": [
    "### Imprimindo as variáveis explicativas para entendimento das distribuíções "
   ]
  },
  {
   "cell_type": "code",
   "execution_count": 38,
   "id": "4f6f7e74-649f-4dc0-ae88-9f0900025fcb",
   "metadata": {},
   "outputs": [
    {
     "data": {
      "text/html": [
       "<div>\n",
       "<style scoped>\n",
       "    .dataframe tbody tr th:only-of-type {\n",
       "        vertical-align: middle;\n",
       "    }\n",
       "\n",
       "    .dataframe tbody tr th {\n",
       "        vertical-align: top;\n",
       "    }\n",
       "\n",
       "    .dataframe thead th {\n",
       "        text-align: right;\n",
       "    }\n",
       "</style>\n",
       "<table border=\"1\" class=\"dataframe\">\n",
       "  <thead>\n",
       "    <tr style=\"text-align: right;\">\n",
       "      <th></th>\n",
       "      <th>Administrative</th>\n",
       "      <th>Administrative_Duration</th>\n",
       "      <th>Informational</th>\n",
       "      <th>Informational_Duration</th>\n",
       "      <th>ProductRelated</th>\n",
       "      <th>ProductRelated_Duration</th>\n",
       "      <th>BounceRates</th>\n",
       "      <th>ExitRates</th>\n",
       "      <th>PageValues</th>\n",
       "      <th>SpecialDay</th>\n",
       "      <th>Month</th>\n",
       "      <th>OperatingSystems</th>\n",
       "      <th>Browser</th>\n",
       "      <th>Region</th>\n",
       "      <th>TrafficType</th>\n",
       "      <th>VisitorType</th>\n",
       "      <th>Weekend</th>\n",
       "    </tr>\n",
       "  </thead>\n",
       "  <tbody>\n",
       "    <tr>\n",
       "      <th>0</th>\n",
       "      <td>0.0000</td>\n",
       "      <td>0.0000</td>\n",
       "      <td>0.0000</td>\n",
       "      <td>0.0000</td>\n",
       "      <td>1.0000</td>\n",
       "      <td>0.0000</td>\n",
       "      <td>0.2000</td>\n",
       "      <td>0.2000</td>\n",
       "      <td>0.0000</td>\n",
       "      <td>0.0000</td>\n",
       "      <td>2</td>\n",
       "      <td>1</td>\n",
       "      <td>1</td>\n",
       "      <td>1</td>\n",
       "      <td>1</td>\n",
       "      <td>2</td>\n",
       "      <td>False</td>\n",
       "    </tr>\n",
       "    <tr>\n",
       "      <th>1</th>\n",
       "      <td>0.0000</td>\n",
       "      <td>0.0000</td>\n",
       "      <td>0.0000</td>\n",
       "      <td>0.0000</td>\n",
       "      <td>2.0000</td>\n",
       "      <td>64.0000</td>\n",
       "      <td>0.0000</td>\n",
       "      <td>0.1000</td>\n",
       "      <td>0.0000</td>\n",
       "      <td>0.0000</td>\n",
       "      <td>2</td>\n",
       "      <td>2</td>\n",
       "      <td>2</td>\n",
       "      <td>1</td>\n",
       "      <td>2</td>\n",
       "      <td>2</td>\n",
       "      <td>False</td>\n",
       "    </tr>\n",
       "    <tr>\n",
       "      <th>2</th>\n",
       "      <td>0.0000</td>\n",
       "      <td>-1.0000</td>\n",
       "      <td>0.0000</td>\n",
       "      <td>-1.0000</td>\n",
       "      <td>1.0000</td>\n",
       "      <td>-1.0000</td>\n",
       "      <td>0.2000</td>\n",
       "      <td>0.2000</td>\n",
       "      <td>0.0000</td>\n",
       "      <td>0.0000</td>\n",
       "      <td>2</td>\n",
       "      <td>4</td>\n",
       "      <td>1</td>\n",
       "      <td>9</td>\n",
       "      <td>3</td>\n",
       "      <td>2</td>\n",
       "      <td>False</td>\n",
       "    </tr>\n",
       "    <tr>\n",
       "      <th>3</th>\n",
       "      <td>0.0000</td>\n",
       "      <td>0.0000</td>\n",
       "      <td>0.0000</td>\n",
       "      <td>0.0000</td>\n",
       "      <td>2.0000</td>\n",
       "      <td>2.6667</td>\n",
       "      <td>0.0500</td>\n",
       "      <td>0.1400</td>\n",
       "      <td>0.0000</td>\n",
       "      <td>0.0000</td>\n",
       "      <td>2</td>\n",
       "      <td>3</td>\n",
       "      <td>2</td>\n",
       "      <td>2</td>\n",
       "      <td>4</td>\n",
       "      <td>2</td>\n",
       "      <td>False</td>\n",
       "    </tr>\n",
       "    <tr>\n",
       "      <th>4</th>\n",
       "      <td>0.0000</td>\n",
       "      <td>0.0000</td>\n",
       "      <td>0.0000</td>\n",
       "      <td>0.0000</td>\n",
       "      <td>10.0000</td>\n",
       "      <td>627.5000</td>\n",
       "      <td>0.0200</td>\n",
       "      <td>0.0500</td>\n",
       "      <td>0.0000</td>\n",
       "      <td>0.0000</td>\n",
       "      <td>2</td>\n",
       "      <td>3</td>\n",
       "      <td>3</td>\n",
       "      <td>1</td>\n",
       "      <td>4</td>\n",
       "      <td>2</td>\n",
       "      <td>True</td>\n",
       "    </tr>\n",
       "  </tbody>\n",
       "</table>\n",
       "</div>"
      ],
      "text/plain": [
       "   Administrative  Administrative_Duration  Informational  \\\n",
       "0          0.0000                   0.0000         0.0000   \n",
       "1          0.0000                   0.0000         0.0000   \n",
       "2          0.0000                  -1.0000         0.0000   \n",
       "3          0.0000                   0.0000         0.0000   \n",
       "4          0.0000                   0.0000         0.0000   \n",
       "\n",
       "   Informational_Duration  ProductRelated  ProductRelated_Duration  \\\n",
       "0                  0.0000          1.0000                   0.0000   \n",
       "1                  0.0000          2.0000                  64.0000   \n",
       "2                 -1.0000          1.0000                  -1.0000   \n",
       "3                  0.0000          2.0000                   2.6667   \n",
       "4                  0.0000         10.0000                 627.5000   \n",
       "\n",
       "   BounceRates  ExitRates  PageValues  SpecialDay  Month  OperatingSystems  \\\n",
       "0       0.2000     0.2000      0.0000      0.0000      2                 1   \n",
       "1       0.0000     0.1000      0.0000      0.0000      2                 2   \n",
       "2       0.2000     0.2000      0.0000      0.0000      2                 4   \n",
       "3       0.0500     0.1400      0.0000      0.0000      2                 3   \n",
       "4       0.0200     0.0500      0.0000      0.0000      2                 3   \n",
       "\n",
       "   Browser  Region  TrafficType  VisitorType  Weekend  \n",
       "0        1       1            1            2    False  \n",
       "1        2       1            2            2    False  \n",
       "2        1       9            3            2    False  \n",
       "3        2       2            4            2    False  \n",
       "4        3       1            4            2     True  "
      ]
     },
     "execution_count": 38,
     "metadata": {},
     "output_type": "execute_result"
    }
   ],
   "source": [
    "df_pred.iloc[ :, 0:17 ].head( 5 )"
   ]
  },
  {
   "cell_type": "code",
   "execution_count": 39,
   "id": "1523782f-fbc1-4461-930a-117def18d030",
   "metadata": {},
   "outputs": [
    {
     "data": {
      "text/html": [
       "<div>\n",
       "<style scoped>\n",
       "    .dataframe tbody tr th:only-of-type {\n",
       "        vertical-align: middle;\n",
       "    }\n",
       "\n",
       "    .dataframe tbody tr th {\n",
       "        vertical-align: top;\n",
       "    }\n",
       "\n",
       "    .dataframe thead th {\n",
       "        text-align: right;\n",
       "    }\n",
       "</style>\n",
       "<table border=\"1\" class=\"dataframe\">\n",
       "  <thead>\n",
       "    <tr style=\"text-align: right;\">\n",
       "      <th></th>\n",
       "      <th>index</th>\n",
       "      <th>Revenue</th>\n",
       "    </tr>\n",
       "  </thead>\n",
       "  <tbody>\n",
       "    <tr>\n",
       "      <th>0</th>\n",
       "      <td>0</td>\n",
       "      <td>False</td>\n",
       "    </tr>\n",
       "    <tr>\n",
       "      <th>1</th>\n",
       "      <td>1</td>\n",
       "      <td>False</td>\n",
       "    </tr>\n",
       "    <tr>\n",
       "      <th>2</th>\n",
       "      <td>2</td>\n",
       "      <td>False</td>\n",
       "    </tr>\n",
       "    <tr>\n",
       "      <th>3</th>\n",
       "      <td>3</td>\n",
       "      <td>False</td>\n",
       "    </tr>\n",
       "    <tr>\n",
       "      <th>4</th>\n",
       "      <td>4</td>\n",
       "      <td>False</td>\n",
       "    </tr>\n",
       "  </tbody>\n",
       "</table>\n",
       "</div>"
      ],
      "text/plain": [
       "   index  Revenue\n",
       "0      0    False\n",
       "1      1    False\n",
       "2      2    False\n",
       "3      3    False\n",
       "4      4    False"
      ]
     },
     "execution_count": 39,
     "metadata": {},
     "output_type": "execute_result"
    }
   ],
   "source": [
    "df_pred.iloc[ :, 17 ].head( 5 ).reset_index()"
   ]
  },
  {
   "cell_type": "markdown",
   "id": "83f78ed8-e09f-4c44-a160-341f4bed41e7",
   "metadata": {
    "id": "83f78ed8-e09f-4c44-a160-341f4bed41e7",
    "tags": []
   },
   "source": [
    "---\n",
    "### Preparação dos dados para receber os modelos de predição com **Machine Learning** I.A.\n",
    "  - PipeLine de Preparação da Base para os trabalhos de criação dos modelos de **predição**\n",
    "    - Processamento dos dados para ás implementações\n",
    "  - Separação das variáveis para treinamento: <em>`\"train_X e test_X, train_y e test_y\"`\n",
    "    - 1) Farei Copy do **df_pred** e passarei para o **df_model**\n",
    "    - 2) Foram adotados alguns procedimentos no df_clean, visando modelos de Machine Learning. `Por que adotei esse procedimento?` A ideia aqui é evitar ao máximo **`Data Leakege`**, `vazamento de dados`, por esse motivo sigo metodologias, conceitos e boas práticas de Eng. para `Mahcnine Learning`.\n",
    "     - 3) Tratamentos e separação da Variável resposta\n",
    "     - 4) Aplicar método **StandardScaler** padronização dos dados. \n",
    "  - 5) Processo de separação dos dados para treinamento\n",
    "  - 6) Em train_X, val_X, train_y, val_y\n",
    "      - Obs:. Aplicarei um modelo de regressão, porque minha variável de resposta é numérica e meu problema de negócio requer **Regressão Logística**."
   ]
  },
  {
   "cell_type": "code",
   "execution_count": 40,
   "id": "a55f39cf-a3d2-40ba-a487-9087af788557",
   "metadata": {},
   "outputs": [],
   "source": [
    "# Criando cópia do conjunto de dados original df_clean e passando para o df_eng.\n",
    "\n",
    "df_model = df_pred.copy()"
   ]
  },
  {
   "cell_type": "markdown",
   "id": "3e9c4106-74a8-41f6-88b6-9ac50acb3d64",
   "metadata": {},
   "source": [
    "### Checagem das Variáveis e Procedimentos para Implementações de ML.\n",
    "\n",
    "  - Aplicação do método SMOTE - balanceamento dos dados para implementações de `\"Machine Learning\"`"
   ]
  },
  {
   "cell_type": "code",
   "execution_count": 41,
   "id": "01fb919b-4256-489c-896d-eecf002e39b9",
   "metadata": {
    "id": "01fb919b-4256-489c-896d-eecf002e39b9"
   },
   "outputs": [],
   "source": [
    "# Separar variáveis em ( X e y ), dados de \"trinamento e dados de teste\"\n",
    "\n",
    "# Seed para garantir o resultado \n",
    "\n",
    "seed = 100\n",
    "\n",
    "X = df_model.iloc[ :, 0:17 ]  \n",
    "y = df_model.iloc[ :, 17 ] \n",
    "\n",
    "# Balanceamento Smote\n",
    "bal_smote = SMOTE(random_state = seed )\n",
    "\n",
    "# Balancemento sendo aplicado\n",
    "result_X, result_y = bal_smote.fit_resample( X, y )"
   ]
  },
  {
   "cell_type": "code",
   "execution_count": 42,
   "id": "5f8c0c0f-6e31-4f3e-b1b2-28fc281c8f6a",
   "metadata": {},
   "outputs": [
    {
     "name": "stdout",
     "output_type": "stream",
     "text": [
      "\n",
      "Dimensão base original Qt. linhas : 12316\n",
      "Dimensão base original Qt. colunas: 18\n"
     ]
    }
   ],
   "source": [
    "print()\n",
    "print( f'Dimensão base original Qt. linhas :', df_pred.shape[0] )\n",
    "print( f'Dimensão base original Qt. colunas:', df_pred.shape[1] )"
   ]
  },
  {
   "cell_type": "code",
   "execution_count": 43,
   "id": "efc9115e-3ac6-4954-9b7b-8a94acfbb76e",
   "metadata": {},
   "outputs": [
    {
     "name": "stdout",
     "output_type": "stream",
     "text": [
      "\n",
      "Dimensão base separada Qt. linhas : 20816\n",
      "Dimensão base separada Qt. colunas: 17\n"
     ]
    }
   ],
   "source": [
    "print()\n",
    "print( f'Dimensão base separada Qt. linhas :', result_X.shape[0] )\n",
    "print( f'Dimensão base separada Qt. colunas:', result_X.shape[1] )"
   ]
  },
  {
   "cell_type": "code",
   "execution_count": 44,
   "id": "8cbcf679-6697-466b-99ef-c786351d21f3",
   "metadata": {},
   "outputs": [
    {
     "name": "stdout",
     "output_type": "stream",
     "text": [
      "\n"
     ]
    },
    {
     "data": {
      "image/png": "[encoded data removed]",
      "text/plain": [
       "<Figure size 1000x500 with 1 Axes>"
      ]
     },
     "metadata": {},
     "output_type": "display_data"
    }
   ],
   "source": [
    "# Visualização dos bados balanceados com Smote\n",
    "\n",
    "print( )\n",
    "fig, ax = plt.subplots(figsize=( 10, 5 ) )\n",
    "result_y.value_counts().plot( kind='bar', color = [ '#90E0EF', '#22223B' ] );\n",
    "plt.title( 'DADOS BALANCEADOS COM SMOTE', pad=15, fontsize=13, color='#001233' )\n",
    "plt.xticks(rotation=0)\n",
    "plt.grid(False)\n",
    "plt.box(False)\n",
    "\n",
    "plt.tight_layout()"
   ]
  },
  {
   "cell_type": "markdown",
   "id": "6aab32a2-5fa9-4255-8375-b9b6198b7694",
   "metadata": {},
   "source": [
    "---\n",
    "### Primeiro Modelo - Ajustes em X e y para treinamento dos dados e Separação dos dados de Treinamento e Testes\n",
    "  - Usarei uma amostra de `3000` mil observações para que o modelo tenha desempenho\n",
    "  - Separação dos dados em treino e testes com **( 70/30 ) ou seja, ( 30% )** dos dados originais para treinamento e testes dos modelos de `predição`"
   ]
  },
  {
   "cell_type": "code",
   "execution_count": 45,
   "id": "3578ea90-991b-4ec1-baf9-445cf6dbae9a",
   "metadata": {},
   "outputs": [],
   "source": [
    "# Quantitativo das amostras por variável ( X e y ).\n",
    "\n",
    "X = result_X.head( 1500 )\n",
    "y = result_y.head( 1500 )\n",
    "\n",
    "# Separando os dados para treinamento e testes dos modelos preditivos propostos para o problema de negócio\n",
    "\n",
    "train_X, test_X, train_y, test_y = train_test_split( X, y, test_size = 0.3, random_state = 42 )"
   ]
  },
  {
   "cell_type": "markdown",
   "id": "4d549180-7518-40fb-a23d-45d35d7c259f",
   "metadata": {},
   "source": [
    "### Primeiro Modelo Support Vector Machine ( SVM ) linear kernel\n",
    "\n",
    "  - O SVM é uma técnica de classificação baseada em aprendizado de máquina na qual é utilizado o aprendizado supervisionado. Isso quer dizer que para seu treinamento deve se possuir uma base na qual as instâncias de cada classe estejam previamente classificadas e ajustadas para o modelo de Classificação\n",
    "  - Tempo de execução do SVM primeiro modelo é em média **( 2.5 )** minutos, com **`1500`** observações por variável de treino e testes."
   ]
  },
  {
   "cell_type": "code",
   "execution_count": 46,
   "id": "bec22b39-1f11-4987-be20-cebc3b24e2ba",
   "metadata": {},
   "outputs": [
    {
     "name": "stdout",
     "output_type": "stream",
     "text": [
      "\n",
      "Tempo de execução do primeiro modelo SVM model_v1:\f",
      " 152.47402000427246\n"
     ]
    }
   ],
   "source": [
    "# Rodando o primeiro modelo de regressão linear model_v1\n",
    "\n",
    "model_v1 = svm.SVC( kernel = 'linear' )\n",
    "\n",
    "# Statando o processo\n",
    "\n",
    "start = time.time()\n",
    "model_v1.fit( train_X, train_y )\n",
    "end = time.time()\n",
    "\n",
    "print()\n",
    "print( f'Tempo de execução do primeiro modelo SVM model_v1:\\f', end - start )"
   ]
  },
  {
   "cell_type": "code",
   "execution_count": 47,
   "id": "c158d481-6b78-4b0a-b5ca-6c8ddbd5850f",
   "metadata": {},
   "outputs": [],
   "source": [
    "# Predições/Previsões do modelo treinado SVM\n",
    "\n",
    "pred_1 = model_v1.predict( test_X )"
   ]
  },
  {
   "cell_type": "code",
   "execution_count": 48,
   "id": "7560325d-db62-476a-bc25-1bf87d45efba",
   "metadata": {},
   "outputs": [
    {
     "name": "stdout",
     "output_type": "stream",
     "text": [
      "\n",
      "Relatório dás métricas do primeiro modelo de teste:\n",
      "\n"
     ]
    },
    {
     "data": {
      "text/plain": [
       "{'Modelo': 'SVM',\n",
       " 'Versão': '1.0',\n",
       " 'Kernel': 'RLinear',\n",
       " 'Precision': 0.4594594594594595,\n",
       " 'Recall': 0.7391304347826086,\n",
       " 'F1 Score': 0.5666666666666667,\n",
       " 'Acurácia': 0.9422222222222222,\n",
       " 'AUC': 0.7224658072115698}"
      ]
     },
     "execution_count": 48,
     "metadata": {},
     "output_type": "execute_result"
    }
   ],
   "source": [
    "# Dicionário de métricas e metadados \"model_v1\" dados de testes\n",
    "\n",
    "svm_model_v1 = {'Modelo':'SVM',\n",
    "                'Versão':'1.0',\n",
    "                'Kernel':'RLinear',\n",
    "                'Precision':precision_score( pred_1, test_y ),\n",
    "                'Recall':recall_score( pred_1, test_y ),\n",
    "                'F1 Score':f1_score( pred_1, test_y ),\n",
    "                'Acurácia':accuracy_score( pred_1, test_y ),\n",
    "                'AUC':roc_auc_score( test_y, pred_1 )}\n",
    "\n",
    "# Imprimindo relatório dás métricas do primeiro modelo implementado \n",
    "\n",
    "print()\n",
    "print( f'Relatório dás métricas do primeiro modelo de teste:\\n')\n",
    "\n",
    "svm_model_v1"
   ]
  },
  {
   "cell_type": "markdown",
   "id": "d563a2a0-ea82-4332-9bba-12ea16d1cff2",
   "metadata": {},
   "source": [
    "---\n",
    "* Resultado do modelo, leitura e interpretação\n",
    "  - Nesse primeiro modelo, olhando para a métrica de acurácia, possso concluir que...à cada **( 100 )** registros (observações), o modelo acertou **( 94 )**. \n",
    "  - Significa dizer que...para cada ( 100 ) usuários que visitaram o site, ( 94 ) foram convertidas em vendas. Compras `efetivadas` no período em que estou apurando com o modelo."
   ]
  },
  {
   "cell_type": "markdown",
   "id": "25bff085-d074-4822-80cc-49f1017c8117",
   "metadata": {},
   "source": [
    "### Segundo Modelo - Support Vector Machine ( SVM ) linear, kernel com dados \"padronizados\"\n",
    "  - Aplicação do método de padronização para entender como ás métricas irão comportar-se.\n",
    "    - Por que devo padronizar? Alguns modelos de (ML) trabalham melhor com dados padronizados e normalizados, ou seja, dependendo do problema de negócio e dados existentes, preciso trabalhar com os dados em escala semelhante. Como visto no início, as classes estão um tanto desbalanceadas, para que o modelo tenha uma melhor performance, irei criar outro modelo com dados originais e os balancearei.\n",
    "  - Aplicarei o fit nos dados de treino e o transform (padronização) em dados de teste.\n",
    "  \n",
    "**Obsevação:**\n",
    "\n",
    "Para que não haja **\"Data Leakege\"**, vazamento de dados sobre a distribuição do conjunto de teste, aplicarei a padronização em separado nos dados de treino e de teste, ajustando o redimensionador apenas aos dados de treinamento, padronizando então os conjuntos de treinamento e teste com esse redimensionador `exatamente como está disposto abaixo`. Ao ajustar o redimensionador no conjunto de dados completo antes da divisão em treino e teste, informações sobre o conjunto de testes são usadas para transformar o conjunto de treinamentos."
   ]
  },
  {
   "cell_type": "code",
   "execution_count": 49,
   "id": "0f5c9799-1f0b-485b-8588-25fd011a596f",
   "metadata": {},
   "outputs": [],
   "source": [
    "# Passando para os dados de treino_X e teste_X, Stand Scaler ( Padronização ) dos dados de treino e impressão Array \"treino_scaled_X\"\n",
    "\n",
    "sc = StandardScaler()\n",
    "treino_scaled_X = sc.fit_transform( train_X )\n",
    "teste_scaled_X = sc.transform( test_X )"
   ]
  },
  {
   "cell_type": "code",
   "execution_count": 50,
   "id": "69f7bc40-6742-4f46-867c-0694b1d1400c",
   "metadata": {},
   "outputs": [
    {
     "data": {
      "text/plain": [
       "array([[-0.6276471 , -0.38899161, -0.33792841, ..., -0.75157541,\n",
       "         0.35582221, -0.55167728],\n",
       "       [-0.6276471 , -0.38899161, -0.33792841, ..., -0.75157541,\n",
       "         0.35582221, -0.55167728],\n",
       "       [ 0.42905432,  0.13222273,  1.57487393, ..., -0.41200821,\n",
       "        -2.81039234,  1.81265393],\n",
       "       ...,\n",
       "       [-0.6276471 , -0.38899161, -0.33792841, ..., -0.41200821,\n",
       "        -2.81039234, -0.55167728],\n",
       "       [ 0.07682052, -0.18383277, -0.33792841, ..., -0.41200821,\n",
       "        -2.81039234,  1.81265393],\n",
       "       [ 0.07682052,  0.95840291, -0.33792841, ...,  1.96496222,\n",
       "         0.35582221, -0.55167728]])"
      ]
     },
     "execution_count": 50,
     "metadata": {},
     "output_type": "execute_result"
    }
   ],
   "source": [
    "# Imprimindo Array dos dados padronizados em treino\n",
    "\n",
    "treino_scaled_X"
   ]
  },
  {
   "cell_type": "code",
   "execution_count": 51,
   "id": "62b501b3-1ed4-48d5-9cb2-6efb7959c11d",
   "metadata": {},
   "outputs": [
    {
     "data": {
      "text/plain": [
       "array([[ 0.42905432,  0.05697142, -0.33792841, ...,  2.30452943,\n",
       "         0.35582221, -0.55167728],\n",
       "       [-0.6276471 , -0.38899161, -0.33792841, ...,  2.30452943,\n",
       "         0.35582221, -0.55167728],\n",
       "       [-0.6276471 , -0.38899161, -0.33792841, ..., -0.41200821,\n",
       "         0.35582221, -0.55167728],\n",
       "       ...,\n",
       "       [-0.6276471 , -0.38899161, -0.33792841, ...,  3.32323104,\n",
       "         0.35582221,  1.81265393],\n",
       "       [ 0.42905432, -0.1727431 , -0.33792841, ..., -0.072441  ,\n",
       "         0.35582221, -0.55167728],\n",
       "       [-0.6276471 , -0.38899161, -0.33792841, ..., -0.75157541,\n",
       "         0.35582221, -0.55167728]])"
      ]
     },
     "execution_count": 51,
     "metadata": {},
     "output_type": "execute_result"
    }
   ],
   "source": [
    "# Imprimindo Array dos dados padronizados em teste\n",
    "\n",
    "teste_scaled_X"
   ]
  },
  {
   "cell_type": "markdown",
   "id": "6600c457-8de0-4157-a377-3bd6ee19d288",
   "metadata": {},
   "source": [
    "---\n",
    "* Houve uma leve melhora na acurácia do segundo modelo e um ganho significativo em outros processamentos\n",
    "  - Fou fazer ajustes de parâmetros buscando melhoras nas predições"
   ]
  },
  {
   "cell_type": "code",
   "execution_count": 52,
   "id": "2300a784-f423-4eca-a578-20e7099b9308",
   "metadata": {},
   "outputs": [
    {
     "name": "stdout",
     "output_type": "stream",
     "text": [
      "\n",
      "Tempo de execução do segundo modelo SVM model_v2:\f",
      " 0.06923937797546387\n"
     ]
    }
   ],
   "source": [
    "# Rodando o segudo modelo de regressão linear model_v2\n",
    "\n",
    "model_v2 = svm.SVC( kernel = 'linear' )\n",
    "\n",
    "# Startando o processo\n",
    "\n",
    "start = time.time()\n",
    "model_v2.fit( treino_scaled_X, train_y )\n",
    "end = time.time()\n",
    "\n",
    "print()\n",
    "print( f'Tempo de execução do segundo modelo SVM model_v2:\\f', end - start )"
   ]
  },
  {
   "cell_type": "code",
   "execution_count": 53,
   "id": "e1018273-515e-41b7-8686-00bccc8f1e0c",
   "metadata": {},
   "outputs": [],
   "source": [
    "# Predições modelo v2\n",
    "\n",
    "pred_2 = model_v2.predict( teste_scaled_X )"
   ]
  },
  {
   "cell_type": "code",
   "execution_count": 54,
   "id": "bc2995dd-7717-4528-960b-8c912527c844",
   "metadata": {},
   "outputs": [
    {
     "name": "stdout",
     "output_type": "stream",
     "text": [
      "\n",
      "Relatório dás métricas do segundo modelo de teste com dados padronizados:\n",
      "\n"
     ]
    },
    {
     "data": {
      "text/plain": [
       "{'Modelo': 'SVM',\n",
       " 'Versão': '2.0',\n",
       " 'Kernel': 'RLinear Padronizado',\n",
       " 'Precision': 0.4864864864864865,\n",
       " 'Recall': 0.75,\n",
       " 'F1 Score': 0.5901639344262296,\n",
       " 'Acurácia': 0.9444444444444444,\n",
       " 'AUC': 0.7359793207250834}"
      ]
     },
     "execution_count": 54,
     "metadata": {},
     "output_type": "execute_result"
    }
   ],
   "source": [
    "# Dicionário de métricas e metadados \"model_v1\" dados de testes\n",
    "\n",
    "svm_model_v2 = {'Modelo':'SVM',\n",
    "                'Versão':'2.0',\n",
    "                'Kernel':'RLinear Padronizado',\n",
    "                'Precision':precision_score( pred_2, test_y ),\n",
    "                'Recall':recall_score( pred_2, test_y ),\n",
    "                'F1 Score':f1_score( pred_2, test_y ),\n",
    "                'Acurácia':accuracy_score( pred_2, test_y ),\n",
    "                'AUC':roc_auc_score( test_y, pred_2 )}\n",
    "\n",
    "# Imprimindo relatório dás métricas do primeiro modelo implementado \n",
    "\n",
    "print()\n",
    "print( f'Relatório dás métricas do segundo modelo de teste com dados padronizados:\\n')\n",
    "\n",
    "svm_model_v2"
   ]
  },
  {
   "cell_type": "markdown",
   "id": "0a062b6d-01d5-45ac-838d-66e1f1c749e3",
   "metadata": {},
   "source": [
    "### Otimização do modelo - Terceiro Modelo com Grid Search Kernel \"BRF\"\n",
    "  - Aplicarei hiperparâmetros com grid search, gammae \"C\" do SVM do kernel Radial Basis Function (RBF)\n",
    "  - Intuitivamente, o gammaparâmetro define até onde chega a influência de um único exemplo de treinamento, com valores baixos significando 'longe' e valores altos significando `próximo`. Os gammaparâmetros podem ser vistos como o inverso do raio de influência das amostras selecionadas pelo modelo como vetores de suporte.\n",
    "\n",
    "  - O C parâmetro troca a classificação correta de exemplos de treinamento com a maximização da margem da função de decisão. Para valores maiores de C, uma margem menor será aceita se a função de decisão for melhor em classificar todos os pontos de treinamento corretamente. Um menor Cirá encorajar uma margem maior, portanto, uma função de decisão mais simples, ao custo da precisão do treinamento. Em outras palavras C, se comporta como um parâmetro de regularização no SVM.\n",
    "  - https://scikit-learn.org/stable/auto_examples/svm/plot_rbf_parameters.html"
   ]
  },
  {
   "cell_type": "code",
   "execution_count": 55,
   "id": "ef793292-fc1e-401f-8e45-db95c4a3013d",
   "metadata": {},
   "outputs": [
    {
     "name": "stdout",
     "output_type": "stream",
     "text": [
      "\n",
      "Tempo de treinamento do modelo com Grid Search:\t 0.8691473007202148\n",
      "\n",
      "Relatório da acurácia do terceiro modelo em Treinamento: 94.9524%\n",
      "\n",
      "Hiperparâmetros grid search rbf:\n",
      "Hiperparâmetros aplicados na seleção: {'C': 50.0, 'gamma': 0.003}\n"
     ]
    }
   ],
   "source": [
    "# Aplicando terceiro modelo com grid search \"kernel RBF\"\n",
    "\n",
    "model_v3 = svm.SVC( kernel = 'rbf' )\n",
    "\n",
    "# Valores ( Parâmetros para o grid )\n",
    "\n",
    "C_range = np.array( [ 50., 100., 200. ] )\n",
    "gamma_range = np.array( [ 0.3*0.001, 0.001, 3*0.001 ] )\n",
    "\n",
    "# Hiper parâmetros grid\n",
    "\n",
    "svm_param_grid_search = dict( gamma = gamma_range, C = C_range )\n",
    "\n",
    "# Grid Search\n",
    "\n",
    "start = time.time()\n",
    "model_v3_grid_search_rbf = GridSearchCV( model_v3, svm_param_grid_search, cv = 3 )\n",
    "\n",
    "# Treinamento do modelo fit.\n",
    "\n",
    "model_v3_grid_search_rbf.fit( treino_scaled_X, train_y )\n",
    "end = time.time()\n",
    "print( )\n",
    "print('Tempo de treinamento do modelo com Grid Search:\\t', end - start)\n",
    "\n",
    "# Relatório da Acurácia em Treino\n",
    "\n",
    "print( )\n",
    "print( f'Relatório da acurácia do terceiro modelo em Treinamento: {model_v3_grid_search_rbf.best_score_ :.4%}\\n' )\n",
    "print( f'Hiperparâmetros grid search rbf:' )\n",
    "print( f'Hiperparâmetros aplicados na seleção: {model_v3_grid_search_rbf.best_params_}' )"
   ]
  },
  {
   "cell_type": "markdown",
   "id": "47fb4730-8ae4-40ba-8b8a-d6bcfcf44714",
   "metadata": {},
   "source": [
    "* Com base nos hiperparâmetros do **model_v3**, C 50 e gamma 003, foram os melhores resultados encontrados de Hiperparâmetros para o modelo."
   ]
  },
  {
   "cell_type": "code",
   "execution_count": 56,
   "id": "3cc6c0ba-ef52-486b-a93e-bd67e090b74c",
   "metadata": {},
   "outputs": [],
   "source": [
    "# Predições com modelo v3 grid search \"brf\"\n",
    "\n",
    "pred = model_v3_grid_search_rbf.predict( teste_scaled_X )"
   ]
  },
  {
   "cell_type": "code",
   "execution_count": 57,
   "id": "400cf5cd-6e0b-4db0-8c9c-d8371eb27595",
   "metadata": {},
   "outputs": [
    {
     "name": "stdout",
     "output_type": "stream",
     "text": [
      "\n",
      "Relatório das métricas do terceiro modelo de testes com hiperparâmetros Cgamma:\n",
      "\n"
     ]
    },
    {
     "data": {
      "text/plain": [
       "{'Modelo': 'SVM',\n",
       " 'Versão': '3.0',\n",
       " 'Kernel': 'RLinear brf Padronizado',\n",
       " 'Precision': 0.4864864864864865,\n",
       " 'Recall': 0.72,\n",
       " 'F1 Score': 0.5806451612903226,\n",
       " 'Acurácia': 0.9422222222222222,\n",
       " 'AUC': 0.7347686669720568}"
      ]
     },
     "execution_count": 57,
     "metadata": {},
     "output_type": "execute_result"
    }
   ],
   "source": [
    "# Dicionário de métricas e metadados \"model_v3\" dados de testes\n",
    "\n",
    "svm_model_v3 = {'Modelo':'SVM',\n",
    "                'Versão':'3.0',\n",
    "                'Kernel':'RLinear brf Padronizado',\n",
    "                'Precision':precision_score( pred, test_y ),\n",
    "                'Recall':recall_score( pred, test_y ),\n",
    "                'F1 Score':f1_score( pred, test_y ),\n",
    "                'Acurácia':accuracy_score( pred, test_y ),\n",
    "                'AUC':roc_auc_score( test_y, pred )}\n",
    "\n",
    "# Imprimindo relatório dás métricas do primeiro modelo implementado \n",
    "\n",
    "print()\n",
    "print( f'Relatório das métricas do terceiro modelo de testes com hiperparâmetros Cgamma:\\n' )\n",
    "\n",
    "svm_model_v3 "
   ]
  },
  {
   "cell_type": "markdown",
   "id": "8c498e11-52ab-40c7-bddd-b62b49be8d0c",
   "metadata": {},
   "source": [
    "### Otimização do modelo - Quarto Modelo - Grid Search Kernel \"Polinomial\""
   ]
  },
  {
   "cell_type": "code",
   "execution_count": 58,
   "id": "47573b22-9b2f-42d9-bfc6-25e826329f44",
   "metadata": {},
   "outputs": [
    {
     "name": "stdout",
     "output_type": "stream",
     "text": [
      "\n",
      "Tempo de Treinamento do Modelo com Grid Search Poly: 0.6472268104553223\n",
      "\n",
      "Relatório da acurácia do quarto modelo em treinamento: 94.6667%\n",
      "\n",
      "Hiperparâmetros grid search polinomial:\n",
      "Hiperparâmetros aplicados na seleção: {'coef0': 1.0, 'degree': 3, 'gamma': 0.01}\n"
     ]
    }
   ],
   "source": [
    "# Aplicando quarto modelo com grid search \"kernel Polinomial\"\n",
    "\n",
    "model_v4 = svm.SVC( kernel = 'poly' )\n",
    "\n",
    "# Valores Parâmetros para o Grid Poly\n",
    "\n",
    "r_range =  np.array( [ 0.5, 1 ] )\n",
    "gamma_range =  np.array( [ 0.001, 0.01 ] )\n",
    "d_range = np.array( [ 2, 3, 4 ] )\n",
    "\n",
    "# Hiperparâmetros Grid\n",
    "\n",
    "param_grid_poly = dict( gamma = gamma_range, degree = d_range, coef0 = r_range )\n",
    "\n",
    "# Grid Search Polinomial\n",
    "\n",
    "start = time.time()\n",
    "modelo_v4_grid_search_poly = GridSearchCV( model_v4, param_grid_poly, cv = 3 )\n",
    "\n",
    "# Treinamento \n",
    "\n",
    "modelo_v4_grid_search_poly.fit( treino_scaled_X, train_y )\n",
    "end = time.time()\n",
    "print( )\n",
    "print('Tempo de Treinamento do Modelo com Grid Search Poly:', end - start)\n",
    "\n",
    "# Relatório da Acurácia em Treino\n",
    "\n",
    "print( )\n",
    "print( f'Relatório da acurácia do quarto modelo em treinamento: {modelo_v4_grid_search_poly.best_score_ :.4%}\\n' )\n",
    "print( f'Hiperparâmetros grid search polinomial:' )\n",
    "print( f'Hiperparâmetros aplicados na seleção: {modelo_v4_grid_search_poly.best_params_}' )"
   ]
  },
  {
   "cell_type": "markdown",
   "id": "0c680063-fa37-4567-8f94-68020ddf8b8f",
   "metadata": {},
   "source": [
    "* Com base no model_4 polinomial, os melhores hiperparâmetros foram \"coef0': 1.0, 'degree': 3, 'gamma': 0.01\""
   ]
  },
  {
   "cell_type": "code",
   "execution_count": 59,
   "id": "c6238321-4c0b-45c6-8c86-532c2ac340fb",
   "metadata": {},
   "outputs": [],
   "source": [
    "# Predições com modelo v4 grid search \"Polinomial\"\n",
    "\n",
    "pred = modelo_v4_grid_search_poly.predict( teste_scaled_X )"
   ]
  },
  {
   "cell_type": "code",
   "execution_count": 60,
   "id": "27a05a87-2b7e-45db-b006-72320b3871de",
   "metadata": {},
   "outputs": [
    {
     "name": "stdout",
     "output_type": "stream",
     "text": [
      "\n",
      "Relatório das métricas do quarto modelo de testes com hiperparâmetros Polinomial:\n",
      "\n"
     ]
    },
    {
     "data": {
      "text/plain": [
       "{'Modelo': 'SVM',\n",
       " 'Versão': '4.0',\n",
       " 'Kernel': 'RLinear Poly Padronizado',\n",
       " 'Precision': 0.43243243243243246,\n",
       " 'Recall': 0.6956521739130435,\n",
       " 'F1 Score': 0.5333333333333333,\n",
       " 'Acurácia': 0.9377777777777778,\n",
       " 'AUC': 0.7077416399450299}"
      ]
     },
     "execution_count": 60,
     "metadata": {},
     "output_type": "execute_result"
    }
   ],
   "source": [
    "# Dicionário de métricas e metadados \"model_v4\" Polinomial - dados de testes\n",
    "\n",
    "svm_model_v4 = {'Modelo':'SVM',\n",
    "                'Versão':'4.0',\n",
    "                'Kernel':'RLinear Poly Padronizado',\n",
    "                'Precision':precision_score( pred, test_y ),\n",
    "                'Recall':recall_score( pred, test_y ),\n",
    "                'F1 Score':f1_score( pred, test_y ),\n",
    "                'Acurácia':accuracy_score( pred, test_y ),\n",
    "                'AUC':roc_auc_score( test_y, pred )}\n",
    "\n",
    "# Imprimindo relatório dás métricas do primeiro modelo implementado \n",
    "\n",
    "print()\n",
    "print( f'Relatório das métricas do quarto modelo de testes com hiperparâmetros Polinomial:\\n' )\n",
    "\n",
    "svm_model_v4 "
   ]
  },
  {
   "cell_type": "code",
   "execution_count": 61,
   "id": "6dd5fb78-2ba3-4417-a5e4-6c5e34c40268",
   "metadata": {},
   "outputs": [
    {
     "data": {
      "application/javascript": [
       "\n",
       "        if (window._pyforest_update_imports_cell) { window._pyforest_update_imports_cell('import matplotlib as mpl\\nimport sys\\nimport pandas as pd'); }\n",
       "    "
      ],
      "text/plain": [
       "<IPython.core.display.Javascript object>"
      ]
     },
     "metadata": {},
     "output_type": "display_data"
    },
    {
     "data": {
      "application/javascript": [
       "\n",
       "        if (window._pyforest_update_imports_cell) { window._pyforest_update_imports_cell('import matplotlib as mpl\\nimport sys\\nimport pandas as pd'); }\n",
       "    "
      ],
      "text/plain": [
       "<IPython.core.display.Javascript object>"
      ]
     },
     "metadata": {},
     "output_type": "display_data"
    },
    {
     "data": {
      "application/javascript": [
       "\n",
       "        if (window._pyforest_update_imports_cell) { window._pyforest_update_imports_cell('import matplotlib as mpl\\nimport sys\\nimport pandas as pd'); }\n",
       "    "
      ],
      "text/plain": [
       "<IPython.core.display.Javascript object>"
      ]
     },
     "metadata": {},
     "output_type": "display_data"
    },
    {
     "data": {
      "application/javascript": [
       "\n",
       "        if (window._pyforest_update_imports_cell) { window._pyforest_update_imports_cell('import matplotlib as mpl\\nimport sys\\nimport pandas as pd'); }\n",
       "    "
      ],
      "text/plain": [
       "<IPython.core.display.Javascript object>"
      ]
     },
     "metadata": {},
     "output_type": "display_data"
    },
    {
     "data": {
      "application/javascript": [
       "\n",
       "        if (window._pyforest_update_imports_cell) { window._pyforest_update_imports_cell('import matplotlib as mpl\\nimport sys\\nimport pandas as pd'); }\n",
       "    "
      ],
      "text/plain": [
       "<IPython.core.display.Javascript object>"
      ]
     },
     "metadata": {},
     "output_type": "display_data"
    },
    {
     "data": {
      "text/html": [
       "<div>\n",
       "<style scoped>\n",
       "    .dataframe tbody tr th:only-of-type {\n",
       "        vertical-align: middle;\n",
       "    }\n",
       "\n",
       "    .dataframe tbody tr th {\n",
       "        vertical-align: top;\n",
       "    }\n",
       "\n",
       "    .dataframe thead th {\n",
       "        text-align: right;\n",
       "    }\n",
       "</style>\n",
       "<table border=\"1\" class=\"dataframe\">\n",
       "  <thead>\n",
       "    <tr style=\"text-align: right;\">\n",
       "      <th></th>\n",
       "      <th>svm_modelo_1</th>\n",
       "      <th>svm_modelo_2</th>\n",
       "      <th>svm_modelo_3</th>\n",
       "      <th>svm_modelo_4</th>\n",
       "    </tr>\n",
       "  </thead>\n",
       "  <tbody>\n",
       "    <tr>\n",
       "      <th>Modelo</th>\n",
       "      <td>SVM</td>\n",
       "      <td>SVM</td>\n",
       "      <td>SVM</td>\n",
       "      <td>SVM</td>\n",
       "    </tr>\n",
       "    <tr>\n",
       "      <th>Versão</th>\n",
       "      <td>1.0</td>\n",
       "      <td>2.0</td>\n",
       "      <td>3.0</td>\n",
       "      <td>4.0</td>\n",
       "    </tr>\n",
       "    <tr>\n",
       "      <th>Kernel</th>\n",
       "      <td>RLinear</td>\n",
       "      <td>RLinear Padronizado</td>\n",
       "      <td>RLinear brf Padronizado</td>\n",
       "      <td>RLinear Poly Padronizado</td>\n",
       "    </tr>\n",
       "    <tr>\n",
       "      <th>Precision</th>\n",
       "      <td>0.4595</td>\n",
       "      <td>0.4865</td>\n",
       "      <td>0.4865</td>\n",
       "      <td>0.4324</td>\n",
       "    </tr>\n",
       "    <tr>\n",
       "      <th>Recall</th>\n",
       "      <td>0.7391</td>\n",
       "      <td>0.7500</td>\n",
       "      <td>0.7200</td>\n",
       "      <td>0.6957</td>\n",
       "    </tr>\n",
       "    <tr>\n",
       "      <th>F1 Score</th>\n",
       "      <td>0.5667</td>\n",
       "      <td>0.5902</td>\n",
       "      <td>0.5806</td>\n",
       "      <td>0.5333</td>\n",
       "    </tr>\n",
       "    <tr>\n",
       "      <th>Acurácia</th>\n",
       "      <td>0.9422</td>\n",
       "      <td>0.9444</td>\n",
       "      <td>0.9422</td>\n",
       "      <td>0.9378</td>\n",
       "    </tr>\n",
       "    <tr>\n",
       "      <th>AUC</th>\n",
       "      <td>0.7225</td>\n",
       "      <td>0.7360</td>\n",
       "      <td>0.7348</td>\n",
       "      <td>0.7077</td>\n",
       "    </tr>\n",
       "  </tbody>\n",
       "</table>\n",
       "</div>"
      ],
      "text/plain": [
       "          svm_modelo_1         svm_modelo_2             svm_modelo_3  \\\n",
       "Modelo             SVM                  SVM                      SVM   \n",
       "Versão             1.0                  2.0                      3.0   \n",
       "Kernel         RLinear  RLinear Padronizado  RLinear brf Padronizado   \n",
       "Precision       0.4595               0.4865                   0.4865   \n",
       "Recall          0.7391               0.7500                   0.7200   \n",
       "F1 Score        0.5667               0.5902                   0.5806   \n",
       "Acurácia        0.9422               0.9444                   0.9422   \n",
       "AUC             0.7225               0.7360                   0.7348   \n",
       "\n",
       "                       svm_modelo_4  \n",
       "Modelo                          SVM  \n",
       "Versão                          4.0  \n",
       "Kernel     RLinear Poly Padronizado  \n",
       "Precision                    0.4324  \n",
       "Recall                       0.6957  \n",
       "F1 Score                     0.5333  \n",
       "Acurácia                     0.9378  \n",
       "AUC                          0.7077  "
      ]
     },
     "execution_count": 61,
     "metadata": {},
     "output_type": "execute_result"
    }
   ],
   "source": [
    "# Relatório concatenando todos os resultados em forma de DataFrame \"SVM\"\n",
    "\n",
    "summary_metrics = pd.DataFrame( {'svm_modelo_1':pd.Series( svm_model_v1 ),\n",
    "                                 'svm_modelo_2':pd.Series( svm_model_v2 ),\n",
    "                                 'svm_modelo_3':pd.Series( svm_model_v3 ),\n",
    "                                 'svm_modelo_4':pd.Series( svm_model_v4 )} )\n",
    "\n",
    "# Imprimindo o relatório com sumarização das métricas\n",
    "\n",
    "summary_metrics.head( 10 )"
   ]
  },
  {
   "cell_type": "markdown",
   "id": "d1539288-1216-4c9e-9828-5e1d61c45977",
   "metadata": {},
   "source": [
    "---\n",
    "## <em>Indicadores Preditivos, Prescritivos e Cenarização<em>\n"
   ]
  },
  {
   "cell_type": "code",
   "execution_count": 62,
   "id": "272ec7eb-9cbe-417a-bcea-b435b0e55288",
   "metadata": {},
   "outputs": [
    {
     "name": "stdout",
     "output_type": "stream",
     "text": [
      "\n",
      "Taxa de conversão em compras:\t 15.314%\n"
     ]
    }
   ],
   "source": [
    "# Percentual ( Indicador de Conversão ) - Receita X Tráfego = ( 1 ) Verdadeiro para conversão em compras\n",
    "\n",
    "print( '\\nTaxa de conversão em compras:\\t {}4%'.format(round(\n",
    "         df_pred[df_pred[ 'Revenue' ]== 1 ][ 'TrafficType' ].sum() / df_pred['TrafficType'].sum().sum() * 100,2)) )"
   ]
  },
  {
   "cell_type": "code",
   "execution_count": 63,
   "id": "b65739a2-8324-415f-a61f-95a045152385",
   "metadata": {},
   "outputs": [
    {
     "name": "stdout",
     "output_type": "stream",
     "text": [
      "\n",
      "Taxa de conversão do trafego em engajamento (cliques):\t 22.724%\n"
     ]
    }
   ],
   "source": [
    "# Percentual ( Indicador de Conversão ) - Receita X Tráfego = ( 1 ) Verdadeiro para compras\n",
    "\n",
    "print( '\\nTaxa de conversão do trafego em engajamento (cliques):\\t {}4%'.format(round(\n",
    "         df_pred[df_pred[ 'TrafficType' ]== 1 ][ 'VisitorType' ].sum() / df_pred['VisitorType'].sum().sum() * 100,2)) )"
   ]
  },
  {
   "cell_type": "markdown",
   "id": "d61bd225-4417-48c4-9d8d-7f664ab3c794",
   "metadata": {},
   "source": [
    "---\n",
    "### Considerações sobre o projeto \n",
    "  - Como são dados de trafego e o foco é compreender as taxas do Google Analytics, fiquei um pouco limitado nas criações, como fora em projetos anteriores.\n",
    "  - No relatório acima, podemos ver que os modelos ficaram muito equivalentes em Acurácia, com uma leve melhorada no modelo 2 com 94% de acertos.\n",
    "  - O modelo ( 2 ), previu que para cada ( 100 ) pessoas que acessarem o site, ( 94 ) poderão efetivar compra.\n",
    " "
   ]
  },
  {
   "cell_type": "markdown",
   "id": "cdb7359a-13e6-4d78-86e2-6a74a5877973",
   "metadata": {
    "id": "cdb7359a-13e6-4d78-86e2-6a74a5877973",
    "tags": []
   },
   "source": [
    "### Até o próximo projeto...\n",
    "---"
   ]
  },
  {
   "cell_type": "code",
   "execution_count": 64,
   "id": "d96ab60e-0a07-49da-b7dd-bfafea22ba0d",
   "metadata": {
    "id": "d96ab60e-0a07-49da-b7dd-bfafea22ba0d",
    "outputId": "7930983e-53d1-486d-91f9-d51f2cccafea"
   },
   "outputs": [
    {
     "name": "stdout",
     "output_type": "stream",
     "text": [
      "\n",
      "DBIAN TECHNOLOGY FOR BUSINESS \n",
      "Claudio Fabian Stychnicki \n",
      "Data Scientist\n",
      " \n",
      "Phone:\t (47) 9-92374737 \n",
      "Blumenau - SC\n",
      " \n",
      "Informações complementares em meu linkedIn\n",
      " \n",
      "Best regards.\n"
     ]
    }
   ],
   "source": [
    "print( \n",
    "      '\\nDBIAN TECHNOLOGY FOR BUSINESS',\n",
    "      '\\nClaudio Fabian Stychnicki',\n",
    "      '\\nData Scientist\\n',\n",
    "      '\\nPhone:\\t (47) 9-92374737',\n",
    "      '\\nBlumenau - SC\\n',\n",
    "      '\\nInformações complementares em meu linkedIn\\n',\n",
    "      '\\nBest regards.'\n",
    "      )"
   ]
  },
  {
   "cell_type": "markdown",
   "id": "43b2c8a2-48fa-4200-a978-81578a8b81a2",
   "metadata": {},
   "source": [
    "---"
   ]
  }
 ],
 "metadata": {
  "colab": {
   "provenance": []
  },
  "kernelspec": {
   "display_name": "Python 3 (ipykernel)",
   "language": "python",
   "name": "python3"
  },
  "language_info": {
   "codemirror_mode": {
    "name": "ipython",
    "version": 3
   },
   "file_extension": ".py",
   "mimetype": "text/x-python",
   "name": "python",
   "nbconvert_exporter": "python",
   "pygments_lexer": "ipython3",
   "version": "3.9.13"
  },
  "vscode": {
   "interpreter": {
    "hash": "eca024455c4833da5ebd8d9f8d721333677c348aa809892c0b0eda440122e3a6"
   }
  }
 },
 "nbformat": 4,
 "nbformat_minor": 5
}
